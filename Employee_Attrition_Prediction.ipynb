{
  "cells": [
    {
      "cell_type": "markdown",
      "source": [
        "**Employee Attrition prediction**"
      ],
      "metadata": {
        "id": "LuSccnAPmlJV"
      },
      "id": "LuSccnAPmlJV"
    },
    {
      "cell_type": "markdown",
      "id": "3a42d9fb",
      "metadata": {
        "id": "3a42d9fb"
      },
      "source": [
        "Problem Statement\n",
        "A large company named XYZ, employs, at any given point of time, around 4000 employees. However, every year, around 15% of its employees leave the company and need to be replaced with the talent pool available in the job market. The management believes that this level of attrition (employees leaving, either on their own or because they got fired) is bad for the company, because of the following reasons -\n",
        "\n",
        "The former employees’ projects get delayed, which makes it difficult to meet timelines, resulting in a reputation loss among consumers and partners\n",
        "A sizeable department has to be maintained, for the purposes of recruiting new talent\n",
        "More often than not, the new employees have to be trained for the job and/or given time to acclimatise themselves to the company\n",
        "Hence, the management has contracted an HR analytics firm to understand what factors they should focus on, in order to curb attrition. In other words, they want to know what changes they should make to their workplace, in order to get most of their employees to stay. Also, they want to know which of these variables is most important and needs to be addressed right away.\n",
        "\n",
        "Since you are one of the star analysts at the firm, this project has been given to you.\n",
        "\n",
        "Goal of the case study\n",
        "You are required to model the probability of attrition using a logistic regression. The results thus obtained will be used by the management to understand what changes they should make to their workplace, in order to get most of their employees to stay."
      ]
    },
    {
      "cell_type": "code",
      "execution_count": 1,
      "id": "5fd02bd4",
      "metadata": {
        "id": "5fd02bd4"
      },
      "outputs": [],
      "source": [
        "# Importing Libraries.\n",
        "\n",
        "import numpy as np\n",
        "import pandas as pd\n",
        "from numpy import random\n",
        "import warnings\n",
        "warnings.filterwarnings('ignore')\n",
        "import matplotlib.pyplot as plt\n",
        "import seaborn as sns\n",
        "import sklearn\n",
        "from sklearn.metrics import (\n",
        "    zero_one_loss, \n",
        "    accuracy_score, \n",
        "    f1_score,\n",
        "    confusion_matrix, \n",
        "    ConfusionMatrixDisplay, \n",
        "    classification_report\n",
        ")\n",
        "from sklearn.metrics import precision_score,recall_score,f1_score"
      ]
    },
    {
      "cell_type": "code",
      "execution_count": 2,
      "id": "95400025",
      "metadata": {
        "id": "95400025",
        "outputId": "e708a16d-0dc9-48ac-9b86-fb2cef0b591c",
        "colab": {
          "base_uri": "https://localhost:8080/",
          "height": 174
        }
      },
      "outputs": [
        {
          "output_type": "execute_result",
          "data": {
            "text/plain": [
              "   Age BusinessTravel Department  DistanceFromHome  Education EducationField  \\\n",
              "0   51  Travel_Rarely      Sales                 6          2  Life Sciences   \n",
              "\n",
              "   EmployeeCount  EmployeeID  Gender  JobLevel  ... Over18 PercentSalaryHike  \\\n",
              "0              1           1  Female         1  ...      Y                11   \n",
              "\n",
              "   StandardHours  StockOptionLevel TotalWorkingYears  TrainingTimesLastYear  \\\n",
              "0              8                 0               1.0                      6   \n",
              "\n",
              "   YearsAtCompany  YearsSinceLastPromotion  YearsWithCurrManager  Attrition  \n",
              "0               1                        0                     0         No  \n",
              "\n",
              "[1 rows x 24 columns]"
            ],
            "text/html": [
              "\n",
              "  <div id=\"df-0e6b99fb-5a88-4af9-af8c-63e40945d6b7\">\n",
              "    <div class=\"colab-df-container\">\n",
              "      <div>\n",
              "<style scoped>\n",
              "    .dataframe tbody tr th:only-of-type {\n",
              "        vertical-align: middle;\n",
              "    }\n",
              "\n",
              "    .dataframe tbody tr th {\n",
              "        vertical-align: top;\n",
              "    }\n",
              "\n",
              "    .dataframe thead th {\n",
              "        text-align: right;\n",
              "    }\n",
              "</style>\n",
              "<table border=\"1\" class=\"dataframe\">\n",
              "  <thead>\n",
              "    <tr style=\"text-align: right;\">\n",
              "      <th></th>\n",
              "      <th>Age</th>\n",
              "      <th>BusinessTravel</th>\n",
              "      <th>Department</th>\n",
              "      <th>DistanceFromHome</th>\n",
              "      <th>Education</th>\n",
              "      <th>EducationField</th>\n",
              "      <th>EmployeeCount</th>\n",
              "      <th>EmployeeID</th>\n",
              "      <th>Gender</th>\n",
              "      <th>JobLevel</th>\n",
              "      <th>...</th>\n",
              "      <th>Over18</th>\n",
              "      <th>PercentSalaryHike</th>\n",
              "      <th>StandardHours</th>\n",
              "      <th>StockOptionLevel</th>\n",
              "      <th>TotalWorkingYears</th>\n",
              "      <th>TrainingTimesLastYear</th>\n",
              "      <th>YearsAtCompany</th>\n",
              "      <th>YearsSinceLastPromotion</th>\n",
              "      <th>YearsWithCurrManager</th>\n",
              "      <th>Attrition</th>\n",
              "    </tr>\n",
              "  </thead>\n",
              "  <tbody>\n",
              "    <tr>\n",
              "      <th>0</th>\n",
              "      <td>51</td>\n",
              "      <td>Travel_Rarely</td>\n",
              "      <td>Sales</td>\n",
              "      <td>6</td>\n",
              "      <td>2</td>\n",
              "      <td>Life Sciences</td>\n",
              "      <td>1</td>\n",
              "      <td>1</td>\n",
              "      <td>Female</td>\n",
              "      <td>1</td>\n",
              "      <td>...</td>\n",
              "      <td>Y</td>\n",
              "      <td>11</td>\n",
              "      <td>8</td>\n",
              "      <td>0</td>\n",
              "      <td>1.0</td>\n",
              "      <td>6</td>\n",
              "      <td>1</td>\n",
              "      <td>0</td>\n",
              "      <td>0</td>\n",
              "      <td>No</td>\n",
              "    </tr>\n",
              "  </tbody>\n",
              "</table>\n",
              "<p>1 rows × 24 columns</p>\n",
              "</div>\n",
              "      <button class=\"colab-df-convert\" onclick=\"convertToInteractive('df-0e6b99fb-5a88-4af9-af8c-63e40945d6b7')\"\n",
              "              title=\"Convert this dataframe to an interactive table.\"\n",
              "              style=\"display:none;\">\n",
              "        \n",
              "  <svg xmlns=\"http://www.w3.org/2000/svg\" height=\"24px\"viewBox=\"0 0 24 24\"\n",
              "       width=\"24px\">\n",
              "    <path d=\"M0 0h24v24H0V0z\" fill=\"none\"/>\n",
              "    <path d=\"M18.56 5.44l.94 2.06.94-2.06 2.06-.94-2.06-.94-.94-2.06-.94 2.06-2.06.94zm-11 1L8.5 8.5l.94-2.06 2.06-.94-2.06-.94L8.5 2.5l-.94 2.06-2.06.94zm10 10l.94 2.06.94-2.06 2.06-.94-2.06-.94-.94-2.06-.94 2.06-2.06.94z\"/><path d=\"M17.41 7.96l-1.37-1.37c-.4-.4-.92-.59-1.43-.59-.52 0-1.04.2-1.43.59L10.3 9.45l-7.72 7.72c-.78.78-.78 2.05 0 2.83L4 21.41c.39.39.9.59 1.41.59.51 0 1.02-.2 1.41-.59l7.78-7.78 2.81-2.81c.8-.78.8-2.07 0-2.86zM5.41 20L4 18.59l7.72-7.72 1.47 1.35L5.41 20z\"/>\n",
              "  </svg>\n",
              "      </button>\n",
              "      \n",
              "  <style>\n",
              "    .colab-df-container {\n",
              "      display:flex;\n",
              "      flex-wrap:wrap;\n",
              "      gap: 12px;\n",
              "    }\n",
              "\n",
              "    .colab-df-convert {\n",
              "      background-color: #E8F0FE;\n",
              "      border: none;\n",
              "      border-radius: 50%;\n",
              "      cursor: pointer;\n",
              "      display: none;\n",
              "      fill: #1967D2;\n",
              "      height: 32px;\n",
              "      padding: 0 0 0 0;\n",
              "      width: 32px;\n",
              "    }\n",
              "\n",
              "    .colab-df-convert:hover {\n",
              "      background-color: #E2EBFA;\n",
              "      box-shadow: 0px 1px 2px rgba(60, 64, 67, 0.3), 0px 1px 3px 1px rgba(60, 64, 67, 0.15);\n",
              "      fill: #174EA6;\n",
              "    }\n",
              "\n",
              "    [theme=dark] .colab-df-convert {\n",
              "      background-color: #3B4455;\n",
              "      fill: #D2E3FC;\n",
              "    }\n",
              "\n",
              "    [theme=dark] .colab-df-convert:hover {\n",
              "      background-color: #434B5C;\n",
              "      box-shadow: 0px 1px 3px 1px rgba(0, 0, 0, 0.15);\n",
              "      filter: drop-shadow(0px 1px 2px rgba(0, 0, 0, 0.3));\n",
              "      fill: #FFFFFF;\n",
              "    }\n",
              "  </style>\n",
              "\n",
              "      <script>\n",
              "        const buttonEl =\n",
              "          document.querySelector('#df-0e6b99fb-5a88-4af9-af8c-63e40945d6b7 button.colab-df-convert');\n",
              "        buttonEl.style.display =\n",
              "          google.colab.kernel.accessAllowed ? 'block' : 'none';\n",
              "\n",
              "        async function convertToInteractive(key) {\n",
              "          const element = document.querySelector('#df-0e6b99fb-5a88-4af9-af8c-63e40945d6b7');\n",
              "          const dataTable =\n",
              "            await google.colab.kernel.invokeFunction('convertToInteractive',\n",
              "                                                     [key], {});\n",
              "          if (!dataTable) return;\n",
              "\n",
              "          const docLinkHtml = 'Like what you see? Visit the ' +\n",
              "            '<a target=\"_blank\" href=https://colab.research.google.com/notebooks/data_table.ipynb>data table notebook</a>'\n",
              "            + ' to learn more about interactive tables.';\n",
              "          element.innerHTML = '';\n",
              "          dataTable['output_type'] = 'display_data';\n",
              "          await google.colab.output.renderOutput(dataTable, element);\n",
              "          const docLink = document.createElement('div');\n",
              "          docLink.innerHTML = docLinkHtml;\n",
              "          element.appendChild(docLink);\n",
              "        }\n",
              "      </script>\n",
              "    </div>\n",
              "  </div>\n",
              "  "
            ]
          },
          "metadata": {},
          "execution_count": 2
        }
      ],
      "source": [
        "data=pd.read_csv(r\"/content/DA Project data.csv\")\n",
        "data.head(1)"
      ]
    },
    {
      "cell_type": "code",
      "execution_count": 3,
      "id": "80b26c5e",
      "metadata": {
        "id": "80b26c5e",
        "outputId": "0b0b8538-8217-4f70-bda0-3081ef6a6d0d",
        "colab": {
          "base_uri": "https://localhost:8080/"
        }
      },
      "outputs": [
        {
          "output_type": "execute_result",
          "data": {
            "text/plain": [
              "(4410, 24)"
            ]
          },
          "metadata": {},
          "execution_count": 3
        }
      ],
      "source": [
        "data.shape"
      ]
    },
    {
      "cell_type": "code",
      "execution_count": 4,
      "id": "31fb1277",
      "metadata": {
        "id": "31fb1277",
        "outputId": "752b97fc-2133-4452-dc71-9c3f3c061bac",
        "colab": {
          "base_uri": "https://localhost:8080/"
        }
      },
      "outputs": [
        {
          "output_type": "execute_result",
          "data": {
            "text/plain": [
              "Index(['Age', 'BusinessTravel', 'Department', 'DistanceFromHome', 'Education',\n",
              "       'EducationField', 'EmployeeCount', 'EmployeeID', 'Gender', 'JobLevel',\n",
              "       'JobRole', 'MaritalStatus', 'MonthlyIncome', 'NumCompaniesWorked',\n",
              "       'Over18', 'PercentSalaryHike', 'StandardHours', 'StockOptionLevel',\n",
              "       'TotalWorkingYears', 'TrainingTimesLastYear', 'YearsAtCompany',\n",
              "       'YearsSinceLastPromotion', 'YearsWithCurrManager', 'Attrition'],\n",
              "      dtype='object')"
            ]
          },
          "metadata": {},
          "execution_count": 4
        }
      ],
      "source": [
        "data.columns"
      ]
    },
    {
      "cell_type": "markdown",
      "id": "b1db1648",
      "metadata": {
        "id": "b1db1648"
      },
      "source": [
        "# Step1) Data Cleaning"
      ]
    },
    {
      "cell_type": "markdown",
      "id": "a4ac0c16",
      "metadata": {
        "id": "a4ac0c16"
      },
      "source": [
        "### 1. Missing Value treatment"
      ]
    },
    {
      "cell_type": "code",
      "execution_count": 5,
      "id": "fb4f0bbf",
      "metadata": {
        "id": "fb4f0bbf",
        "outputId": "c4a9ad78-c6e1-4654-9109-6c9246fcd082",
        "colab": {
          "base_uri": "https://localhost:8080/"
        }
      },
      "outputs": [
        {
          "output_type": "execute_result",
          "data": {
            "text/plain": [
              "Age                         0\n",
              "BusinessTravel              0\n",
              "Department                  0\n",
              "DistanceFromHome            0\n",
              "Education                   0\n",
              "EducationField              0\n",
              "EmployeeCount               0\n",
              "EmployeeID                  0\n",
              "Gender                      0\n",
              "JobLevel                    0\n",
              "JobRole                     0\n",
              "MaritalStatus               0\n",
              "MonthlyIncome               0\n",
              "NumCompaniesWorked         19\n",
              "Over18                      0\n",
              "PercentSalaryHike           0\n",
              "StandardHours               0\n",
              "StockOptionLevel            0\n",
              "TotalWorkingYears           9\n",
              "TrainingTimesLastYear       0\n",
              "YearsAtCompany              0\n",
              "YearsSinceLastPromotion     0\n",
              "YearsWithCurrManager        0\n",
              "Attrition                   0\n",
              "dtype: int64"
            ]
          },
          "metadata": {},
          "execution_count": 5
        }
      ],
      "source": [
        "data.isnull().sum()"
      ]
    },
    {
      "cell_type": "code",
      "execution_count": 6,
      "id": "9c1bac79",
      "metadata": {
        "id": "9c1bac79",
        "outputId": "fbfbe153-b03b-4849-805f-09d07467dfe4",
        "colab": {
          "base_uri": "https://localhost:8080/"
        }
      },
      "outputs": [
        {
          "output_type": "execute_result",
          "data": {
            "text/plain": [
              "1.0    1558\n",
              "0.0     586\n",
              "3.0     474\n",
              "2.0     438\n",
              "4.0     415\n",
              "7.0     222\n",
              "6.0     208\n",
              "5.0     187\n",
              "9.0     156\n",
              "8.0     147\n",
              "Name: NumCompaniesWorked, dtype: int64"
            ]
          },
          "metadata": {},
          "execution_count": 6
        }
      ],
      "source": [
        "data.NumCompaniesWorked.value_counts()"
      ]
    },
    {
      "cell_type": "code",
      "execution_count": 7,
      "id": "6de5b9a6",
      "metadata": {
        "id": "6de5b9a6"
      },
      "outputs": [],
      "source": [
        "data.NumCompaniesWorked=data.NumCompaniesWorked.fillna(data.NumCompaniesWorked.median())"
      ]
    },
    {
      "cell_type": "code",
      "execution_count": 8,
      "id": "b21dbb00",
      "metadata": {
        "id": "b21dbb00",
        "outputId": "1e9d786a-cdca-4a9a-8c18-8ba9f821d80a",
        "colab": {
          "base_uri": "https://localhost:8080/"
        }
      },
      "outputs": [
        {
          "output_type": "execute_result",
          "data": {
            "text/plain": [
              "10.0    605\n",
              "6.0     375\n",
              "8.0     307\n",
              "9.0     287\n",
              "5.0     264\n",
              "7.0     243\n",
              "1.0     242\n",
              "4.0     189\n",
              "12.0    144\n",
              "3.0     126\n",
              "15.0    120\n",
              "16.0    111\n",
              "13.0    108\n",
              "11.0    106\n",
              "21.0    102\n",
              "17.0     99\n",
              "14.0     93\n",
              "2.0      93\n",
              "20.0     89\n",
              "18.0     81\n",
              "23.0     66\n",
              "19.0     66\n",
              "22.0     62\n",
              "24.0     54\n",
              "25.0     42\n",
              "26.0     42\n",
              "28.0     42\n",
              "0.0      33\n",
              "29.0     30\n",
              "31.0     27\n",
              "32.0     27\n",
              "27.0     21\n",
              "30.0     21\n",
              "33.0     21\n",
              "36.0     18\n",
              "34.0     15\n",
              "37.0     12\n",
              "35.0      9\n",
              "40.0      6\n",
              "38.0      3\n",
              "Name: TotalWorkingYears, dtype: int64"
            ]
          },
          "metadata": {},
          "execution_count": 8
        }
      ],
      "source": [
        "data.TotalWorkingYears.value_counts()"
      ]
    },
    {
      "cell_type": "code",
      "execution_count": 9,
      "id": "b7821b3c",
      "metadata": {
        "id": "b7821b3c"
      },
      "outputs": [],
      "source": [
        "data.TotalWorkingYears=data.TotalWorkingYears.fillna(data.TotalWorkingYears.median())"
      ]
    },
    {
      "cell_type": "code",
      "execution_count": 10,
      "id": "e57e840a",
      "metadata": {
        "id": "e57e840a",
        "outputId": "d32c7d1a-74fb-4cb5-e01b-63fc221b0e59",
        "colab": {
          "base_uri": "https://localhost:8080/"
        }
      },
      "outputs": [
        {
          "output_type": "execute_result",
          "data": {
            "text/plain": [
              "Age                        0\n",
              "BusinessTravel             0\n",
              "Department                 0\n",
              "DistanceFromHome           0\n",
              "Education                  0\n",
              "EducationField             0\n",
              "EmployeeCount              0\n",
              "EmployeeID                 0\n",
              "Gender                     0\n",
              "JobLevel                   0\n",
              "JobRole                    0\n",
              "MaritalStatus              0\n",
              "MonthlyIncome              0\n",
              "NumCompaniesWorked         0\n",
              "Over18                     0\n",
              "PercentSalaryHike          0\n",
              "StandardHours              0\n",
              "StockOptionLevel           0\n",
              "TotalWorkingYears          0\n",
              "TrainingTimesLastYear      0\n",
              "YearsAtCompany             0\n",
              "YearsSinceLastPromotion    0\n",
              "YearsWithCurrManager       0\n",
              "Attrition                  0\n",
              "dtype: int64"
            ]
          },
          "metadata": {},
          "execution_count": 10
        }
      ],
      "source": [
        "data.isnull().sum()"
      ]
    },
    {
      "cell_type": "markdown",
      "id": "07b05aa8",
      "metadata": {
        "id": "07b05aa8"
      },
      "source": [
        "### 2. Dropping Unique ID columns\n"
      ]
    },
    {
      "cell_type": "code",
      "execution_count": 11,
      "id": "14982c74",
      "metadata": {
        "id": "14982c74",
        "outputId": "e6608a9d-4a6d-4521-966f-2a3abf83f57f",
        "colab": {
          "base_uri": "https://localhost:8080/",
          "height": 918
        }
      },
      "outputs": [
        {
          "output_type": "display_data",
          "data": {
            "text/plain": [
              "<Figure size 1600x900 with 2 Axes>"
            ],
            "image/png": "[encoded data removed]"
          },
          "metadata": {}
        }
      ],
      "source": [
        "x=data.corr()\n",
        "plt.figure(figsize=(16,9))\n",
        "sns.heatmap(x,annot=True,cmap=\"Blues\")\n",
        "plt.show()"
      ]
    },
    {
      "cell_type": "code",
      "execution_count": 12,
      "id": "f948ac49",
      "metadata": {
        "id": "f948ac49"
      },
      "outputs": [],
      "source": [
        "data=data.drop([\"EmployeeID\"],axis=1)"
      ]
    },
    {
      "cell_type": "markdown",
      "id": "6a8ff861",
      "metadata": {
        "id": "6a8ff861"
      },
      "source": [
        "All Values are unique,thus we drop the column"
      ]
    },
    {
      "cell_type": "code",
      "execution_count": 13,
      "id": "7c75e061",
      "metadata": {
        "id": "7c75e061"
      },
      "outputs": [],
      "source": [
        "data=data.drop([\"Over18\"],axis=1)"
      ]
    },
    {
      "cell_type": "markdown",
      "id": "b9987655",
      "metadata": {
        "id": "b9987655"
      },
      "source": [
        "All Values are same,thus we drop the column"
      ]
    },
    {
      "cell_type": "code",
      "execution_count": 14,
      "id": "0e6c61ba",
      "metadata": {
        "id": "0e6c61ba"
      },
      "outputs": [],
      "source": [
        "data=data.drop([\"EmployeeCount\"],axis=1)"
      ]
    },
    {
      "cell_type": "markdown",
      "id": "86609c57",
      "metadata": {
        "id": "86609c57"
      },
      "source": [
        "All Values are same,thus we drop the column"
      ]
    },
    {
      "cell_type": "code",
      "execution_count": 15,
      "id": "f0ac8f73",
      "metadata": {
        "id": "f0ac8f73"
      },
      "outputs": [],
      "source": [
        "data=data.drop([\"StandardHours\"],axis=1)"
      ]
    },
    {
      "cell_type": "markdown",
      "id": "0565af35",
      "metadata": {
        "id": "0565af35"
      },
      "source": [
        "All Values are same,thus we drop the column"
      ]
    },
    {
      "cell_type": "markdown",
      "id": "0de72f02",
      "metadata": {
        "id": "0de72f02"
      },
      "source": [
        "# Step 2) Data Transformation"
      ]
    },
    {
      "cell_type": "markdown",
      "source": [
        "### Data Type Conversion"
      ],
      "metadata": {
        "id": "fHbz9JXANczl"
      },
      "id": "fHbz9JXANczl"
    },
    {
      "cell_type": "code",
      "execution_count": 16,
      "id": "fcf398f4",
      "metadata": {
        "id": "fcf398f4",
        "outputId": "db213094-ecc0-45f9-d5a2-919149feee6c",
        "colab": {
          "base_uri": "https://localhost:8080/"
        }
      },
      "outputs": [
        {
          "output_type": "execute_result",
          "data": {
            "text/plain": [
              "Age                          int64\n",
              "BusinessTravel              object\n",
              "Department                  object\n",
              "DistanceFromHome             int64\n",
              "Education                    int64\n",
              "EducationField              object\n",
              "Gender                      object\n",
              "JobLevel                     int64\n",
              "JobRole                     object\n",
              "MaritalStatus               object\n",
              "MonthlyIncome                int64\n",
              "NumCompaniesWorked         float64\n",
              "PercentSalaryHike            int64\n",
              "StockOptionLevel             int64\n",
              "TotalWorkingYears          float64\n",
              "TrainingTimesLastYear        int64\n",
              "YearsAtCompany               int64\n",
              "YearsSinceLastPromotion      int64\n",
              "YearsWithCurrManager         int64\n",
              "Attrition                   object\n",
              "dtype: object"
            ]
          },
          "metadata": {},
          "execution_count": 16
        }
      ],
      "source": [
        "data.dtypes"
      ]
    },
    {
      "cell_type": "code",
      "execution_count": 17,
      "id": "e77dbf5f",
      "metadata": {
        "id": "e77dbf5f"
      },
      "outputs": [],
      "source": [
        "from sklearn.preprocessing import LabelEncoder\n",
        "le=LabelEncoder()"
      ]
    },
    {
      "cell_type": "code",
      "execution_count": 18,
      "id": "3726fe93",
      "metadata": {
        "id": "3726fe93",
        "outputId": "1a7f3c56-c0ff-4dd7-f0e8-62012102832b",
        "colab": {
          "base_uri": "https://localhost:8080/"
        }
      },
      "outputs": [
        {
          "output_type": "execute_result",
          "data": {
            "text/plain": [
              "No     3699\n",
              "Yes     711\n",
              "Name: Attrition, dtype: int64"
            ]
          },
          "metadata": {},
          "execution_count": 18
        }
      ],
      "source": [
        "data.Attrition.value_counts()"
      ]
    },
    {
      "cell_type": "code",
      "execution_count": 19,
      "id": "e085b282",
      "metadata": {
        "id": "e085b282"
      },
      "outputs": [],
      "source": [
        "data.Attrition=le.fit_transform(data.Attrition)"
      ]
    },
    {
      "cell_type": "code",
      "execution_count": 20,
      "id": "b1cae8ce",
      "metadata": {
        "id": "b1cae8ce",
        "outputId": "0b3dcc87-c0d6-47fc-aca9-bfd9008cfecd",
        "colab": {
          "base_uri": "https://localhost:8080/"
        }
      },
      "outputs": [
        {
          "output_type": "execute_result",
          "data": {
            "text/plain": [
              "0    3699\n",
              "1     711\n",
              "Name: Attrition, dtype: int64"
            ]
          },
          "metadata": {},
          "execution_count": 20
        }
      ],
      "source": [
        "data.Attrition.value_counts()"
      ]
    },
    {
      "cell_type": "raw",
      "id": "4eae3136",
      "metadata": {
        "id": "4eae3136"
      },
      "source": [
        "No       0\n",
        "Yes      1"
      ]
    },
    {
      "cell_type": "code",
      "execution_count": 21,
      "id": "de6834b7",
      "metadata": {
        "id": "de6834b7",
        "outputId": "1eab0f46-8c4b-4f7b-c53f-009a0cdddac1",
        "colab": {
          "base_uri": "https://localhost:8080/"
        }
      },
      "outputs": [
        {
          "output_type": "execute_result",
          "data": {
            "text/plain": [
              "Travel_Rarely        3129\n",
              "Travel_Frequently     831\n",
              "Non-Travel            450\n",
              "Name: BusinessTravel, dtype: int64"
            ]
          },
          "metadata": {},
          "execution_count": 21
        }
      ],
      "source": [
        "data.BusinessTravel.value_counts()"
      ]
    },
    {
      "cell_type": "code",
      "execution_count": 22,
      "id": "03e75c79",
      "metadata": {
        "id": "03e75c79"
      },
      "outputs": [],
      "source": [
        "data.BusinessTravel=le.fit_transform(data.BusinessTravel)"
      ]
    },
    {
      "cell_type": "code",
      "execution_count": 23,
      "id": "8c0554ad",
      "metadata": {
        "id": "8c0554ad",
        "outputId": "721ae42b-ae11-4c65-d73e-bb9e843feffd",
        "colab": {
          "base_uri": "https://localhost:8080/"
        }
      },
      "outputs": [
        {
          "output_type": "execute_result",
          "data": {
            "text/plain": [
              "2    3129\n",
              "1     831\n",
              "0     450\n",
              "Name: BusinessTravel, dtype: int64"
            ]
          },
          "metadata": {},
          "execution_count": 23
        }
      ],
      "source": [
        "data.BusinessTravel.value_counts()"
      ]
    },
    {
      "cell_type": "raw",
      "id": "2241d8d1",
      "metadata": {
        "id": "2241d8d1"
      },
      "source": [
        "Travel_Rarely        2\n",
        "Travel_Frequently    1\n",
        "Non-Travel           0"
      ]
    },
    {
      "cell_type": "code",
      "execution_count": 24,
      "id": "4cd4f8ba",
      "metadata": {
        "id": "4cd4f8ba",
        "outputId": "bc33a40f-2e3b-4782-c4a7-7b676186d49d",
        "colab": {
          "base_uri": "https://localhost:8080/"
        }
      },
      "outputs": [
        {
          "output_type": "execute_result",
          "data": {
            "text/plain": [
              "Research & Development    2883\n",
              "Sales                     1338\n",
              "Human Resources            189\n",
              "Name: Department, dtype: int64"
            ]
          },
          "metadata": {},
          "execution_count": 24
        }
      ],
      "source": [
        "data.Department.value_counts()"
      ]
    },
    {
      "cell_type": "code",
      "execution_count": 25,
      "id": "1e2aebff",
      "metadata": {
        "id": "1e2aebff"
      },
      "outputs": [],
      "source": [
        "data.Department=le.fit_transform(data.Department)"
      ]
    },
    {
      "cell_type": "code",
      "execution_count": 26,
      "id": "038a91a1",
      "metadata": {
        "id": "038a91a1",
        "outputId": "fec96f24-34b8-443c-db13-35bf9fc92859",
        "colab": {
          "base_uri": "https://localhost:8080/"
        }
      },
      "outputs": [
        {
          "output_type": "execute_result",
          "data": {
            "text/plain": [
              "1    2883\n",
              "2    1338\n",
              "0     189\n",
              "Name: Department, dtype: int64"
            ]
          },
          "metadata": {},
          "execution_count": 26
        }
      ],
      "source": [
        "data.Department.value_counts()"
      ]
    },
    {
      "cell_type": "raw",
      "id": "e441e9f3",
      "metadata": {
        "id": "e441e9f3"
      },
      "source": [
        "Research & Development    1\n",
        "Sales                     2\n",
        "Human Resources           0"
      ]
    },
    {
      "cell_type": "code",
      "execution_count": 27,
      "id": "30803c0e",
      "metadata": {
        "id": "30803c0e",
        "outputId": "b2a211df-bcfc-4db7-93ef-14f5646cb314",
        "colab": {
          "base_uri": "https://localhost:8080/"
        }
      },
      "outputs": [
        {
          "output_type": "execute_result",
          "data": {
            "text/plain": [
              "Life Sciences       1818\n",
              "Medical             1392\n",
              "Marketing            477\n",
              "Technical Degree     396\n",
              "Other                246\n",
              "Human Resources       81\n",
              "Name: EducationField, dtype: int64"
            ]
          },
          "metadata": {},
          "execution_count": 27
        }
      ],
      "source": [
        "data.EducationField.value_counts()"
      ]
    },
    {
      "cell_type": "code",
      "execution_count": 28,
      "id": "764db451",
      "metadata": {
        "id": "764db451"
      },
      "outputs": [],
      "source": [
        "data.EducationField=le.fit_transform(data.EducationField)"
      ]
    },
    {
      "cell_type": "code",
      "execution_count": 29,
      "id": "b714c598",
      "metadata": {
        "id": "b714c598",
        "outputId": "4034e8c5-ee56-4665-ead6-23ceafcd946a",
        "colab": {
          "base_uri": "https://localhost:8080/"
        }
      },
      "outputs": [
        {
          "output_type": "execute_result",
          "data": {
            "text/plain": [
              "1    1818\n",
              "3    1392\n",
              "2     477\n",
              "5     396\n",
              "4     246\n",
              "0      81\n",
              "Name: EducationField, dtype: int64"
            ]
          },
          "metadata": {},
          "execution_count": 29
        }
      ],
      "source": [
        "data.EducationField.value_counts()"
      ]
    },
    {
      "cell_type": "raw",
      "id": "307effeb",
      "metadata": {
        "id": "307effeb"
      },
      "source": [
        "Life Sciences       1\n",
        "Medical             3\n",
        "Marketing           2\n",
        "Technical Degree    5\n",
        "Other               4\n",
        "Human Resources     0"
      ]
    },
    {
      "cell_type": "code",
      "execution_count": 30,
      "id": "4213a6b0",
      "metadata": {
        "id": "4213a6b0",
        "outputId": "d7588254-e9b4-49e8-d7d3-17390f35069a",
        "colab": {
          "base_uri": "https://localhost:8080/"
        }
      },
      "outputs": [
        {
          "output_type": "execute_result",
          "data": {
            "text/plain": [
              "Male      2646\n",
              "Female    1764\n",
              "Name: Gender, dtype: int64"
            ]
          },
          "metadata": {},
          "execution_count": 30
        }
      ],
      "source": [
        "data.Gender.value_counts()"
      ]
    },
    {
      "cell_type": "code",
      "execution_count": 31,
      "id": "c0e0c9fb",
      "metadata": {
        "id": "c0e0c9fb"
      },
      "outputs": [],
      "source": [
        "data.Gender=le.fit_transform(data.Gender)"
      ]
    },
    {
      "cell_type": "code",
      "execution_count": 32,
      "id": "e73b846b",
      "metadata": {
        "id": "e73b846b",
        "outputId": "123c57f6-113a-484a-b96e-caa297ae03fd",
        "colab": {
          "base_uri": "https://localhost:8080/"
        }
      },
      "outputs": [
        {
          "output_type": "execute_result",
          "data": {
            "text/plain": [
              "1    2646\n",
              "0    1764\n",
              "Name: Gender, dtype: int64"
            ]
          },
          "metadata": {},
          "execution_count": 32
        }
      ],
      "source": [
        "data.Gender.value_counts()"
      ]
    },
    {
      "cell_type": "raw",
      "id": "6253034c",
      "metadata": {
        "id": "6253034c"
      },
      "source": [
        "Male      1\n",
        "Female    0"
      ]
    },
    {
      "cell_type": "code",
      "execution_count": 33,
      "id": "1d3236a9",
      "metadata": {
        "id": "1d3236a9",
        "outputId": "48f05463-3df8-4ff0-981f-e88060857d42",
        "colab": {
          "base_uri": "https://localhost:8080/"
        }
      },
      "outputs": [
        {
          "output_type": "execute_result",
          "data": {
            "text/plain": [
              "Sales Executive              978\n",
              "Research Scientist           876\n",
              "Laboratory Technician        777\n",
              "Manufacturing Director       435\n",
              "Healthcare Representative    393\n",
              "Manager                      306\n",
              "Sales Representative         249\n",
              "Research Director            240\n",
              "Human Resources              156\n",
              "Name: JobRole, dtype: int64"
            ]
          },
          "metadata": {},
          "execution_count": 33
        }
      ],
      "source": [
        "data.JobRole.value_counts()"
      ]
    },
    {
      "cell_type": "code",
      "execution_count": 34,
      "id": "30e355d2",
      "metadata": {
        "id": "30e355d2"
      },
      "outputs": [],
      "source": [
        "data.JobRole=le.fit_transform(data.JobRole)"
      ]
    },
    {
      "cell_type": "code",
      "execution_count": 35,
      "id": "af10c813",
      "metadata": {
        "id": "af10c813",
        "outputId": "23aa290a-329b-4ca1-f9d2-4c178116ffb8",
        "colab": {
          "base_uri": "https://localhost:8080/"
        }
      },
      "outputs": [
        {
          "output_type": "execute_result",
          "data": {
            "text/plain": [
              "7    978\n",
              "6    876\n",
              "2    777\n",
              "4    435\n",
              "0    393\n",
              "3    306\n",
              "8    249\n",
              "5    240\n",
              "1    156\n",
              "Name: JobRole, dtype: int64"
            ]
          },
          "metadata": {},
          "execution_count": 35
        }
      ],
      "source": [
        "data.JobRole.value_counts()"
      ]
    },
    {
      "cell_type": "raw",
      "id": "05de2950",
      "metadata": {
        "id": "05de2950"
      },
      "source": [
        "Sales Executive              7\n",
        "Research Scientist           6\n",
        "Laboratory Technician        2\n",
        "Manufacturing Director       4\n",
        "Healthcare Representative    0\n",
        "Manager                      3\n",
        "Sales Representative         8\n",
        "Research Director            5\n",
        "Human Resources              1"
      ]
    },
    {
      "cell_type": "code",
      "execution_count": 36,
      "id": "8169d3f6",
      "metadata": {
        "id": "8169d3f6",
        "outputId": "fc13550b-962e-4139-8f7f-62555a8e7d2e",
        "colab": {
          "base_uri": "https://localhost:8080/"
        }
      },
      "outputs": [
        {
          "output_type": "execute_result",
          "data": {
            "text/plain": [
              "Married     2019\n",
              "Single      1410\n",
              "Divorced     981\n",
              "Name: MaritalStatus, dtype: int64"
            ]
          },
          "metadata": {},
          "execution_count": 36
        }
      ],
      "source": [
        "data.MaritalStatus.value_counts()"
      ]
    },
    {
      "cell_type": "code",
      "execution_count": 37,
      "id": "2a22fdb3",
      "metadata": {
        "id": "2a22fdb3"
      },
      "outputs": [],
      "source": [
        "data.MaritalStatus=le.fit_transform(data.MaritalStatus)"
      ]
    },
    {
      "cell_type": "code",
      "execution_count": 38,
      "id": "6b87257a",
      "metadata": {
        "id": "6b87257a",
        "outputId": "c5dba694-7b42-49ed-ef35-4791a8176db6",
        "colab": {
          "base_uri": "https://localhost:8080/"
        }
      },
      "outputs": [
        {
          "output_type": "execute_result",
          "data": {
            "text/plain": [
              "1    2019\n",
              "2    1410\n",
              "0     981\n",
              "Name: MaritalStatus, dtype: int64"
            ]
          },
          "metadata": {},
          "execution_count": 38
        }
      ],
      "source": [
        "data.MaritalStatus.value_counts()"
      ]
    },
    {
      "cell_type": "raw",
      "id": "85d627e8",
      "metadata": {
        "id": "85d627e8"
      },
      "source": [
        "Married     1\n",
        "Single      2\n",
        "Divorced    0"
      ]
    },
    {
      "cell_type": "code",
      "execution_count": 39,
      "id": "ed602d3e",
      "metadata": {
        "id": "ed602d3e",
        "outputId": "8c9cce43-b831-4f7b-dc82-d59120001b78",
        "colab": {
          "base_uri": "https://localhost:8080/"
        }
      },
      "outputs": [
        {
          "output_type": "execute_result",
          "data": {
            "text/plain": [
              "Age                          int64\n",
              "BusinessTravel               int64\n",
              "Department                   int64\n",
              "DistanceFromHome             int64\n",
              "Education                    int64\n",
              "EducationField               int64\n",
              "Gender                       int64\n",
              "JobLevel                     int64\n",
              "JobRole                      int64\n",
              "MaritalStatus                int64\n",
              "MonthlyIncome                int64\n",
              "NumCompaniesWorked         float64\n",
              "PercentSalaryHike            int64\n",
              "StockOptionLevel             int64\n",
              "TotalWorkingYears          float64\n",
              "TrainingTimesLastYear        int64\n",
              "YearsAtCompany               int64\n",
              "YearsSinceLastPromotion      int64\n",
              "YearsWithCurrManager         int64\n",
              "Attrition                    int64\n",
              "dtype: object"
            ]
          },
          "metadata": {},
          "execution_count": 39
        }
      ],
      "source": [
        "data.dtypes"
      ]
    },
    {
      "cell_type": "markdown",
      "source": [
        "### Outlier Treatment "
      ],
      "metadata": {
        "id": "QTIh5QwUO0Q-"
      },
      "id": "QTIh5QwUO0Q-"
    },
    {
      "cell_type": "code",
      "source": [
        "# Here we have not treated outlier because some important information might get deleted."
      ],
      "metadata": {
        "id": "HAl2HqtbPEk6"
      },
      "id": "HAl2HqtbPEk6",
      "execution_count": 40,
      "outputs": []
    },
    {
      "cell_type": "markdown",
      "source": [
        "### Skewness Treatment"
      ],
      "metadata": {
        "id": "A0loHso5PLym"
      },
      "id": "A0loHso5PLym"
    },
    {
      "cell_type": "code",
      "source": [
        "data.skew()"
      ],
      "metadata": {
        "id": "MJ0zBVnbPUNJ",
        "colab": {
          "base_uri": "https://localhost:8080/"
        },
        "outputId": "f09abf4a-2e7f-43e4-b076-acc879f7ce85"
      },
      "id": "MJ0zBVnbPUNJ",
      "execution_count": 41,
      "outputs": [
        {
          "output_type": "execute_result",
          "data": {
            "text/plain": [
              "Age                        0.413005\n",
              "BusinessTravel            -1.438026\n",
              "Department                 0.172114\n",
              "DistanceFromHome           0.957466\n",
              "Education                 -0.289484\n",
              "EducationField             0.549997\n",
              "Gender                    -0.408387\n",
              "JobLevel                   1.024703\n",
              "JobRole                   -0.357027\n",
              "MaritalStatus             -0.152071\n",
              "MonthlyIncome              1.368884\n",
              "NumCompaniesWorked         1.031980\n",
              "PercentSalaryHike          0.820569\n",
              "StockOptionLevel           0.968321\n",
              "TotalWorkingYears          1.118879\n",
              "TrainingTimesLastYear      0.552748\n",
              "YearsAtCompany             1.763328\n",
              "YearsSinceLastPromotion    1.982939\n",
              "YearsWithCurrManager       0.832884\n",
              "Attrition                  1.843111\n",
              "dtype: float64"
            ]
          },
          "metadata": {},
          "execution_count": 41
        }
      ]
    },
    {
      "cell_type": "code",
      "source": [
        "data.MonthlyIncome=np.log(data.MonthlyIncome)"
      ],
      "metadata": {
        "id": "IUm-0aXniYE_"
      },
      "id": "IUm-0aXniYE_",
      "execution_count": 42,
      "outputs": []
    },
    {
      "cell_type": "code",
      "source": [
        "data.NumCompaniesWorked=np.sqrt(data.NumCompaniesWorked)"
      ],
      "metadata": {
        "id": "ODx45-SviYLB"
      },
      "id": "ODx45-SviYLB",
      "execution_count": 43,
      "outputs": []
    },
    {
      "cell_type": "code",
      "source": [
        "data.TotalWorkingYears=np.sqrt(data.TotalWorkingYears)"
      ],
      "metadata": {
        "id": "mLSGh8Mxg9Mm"
      },
      "id": "mLSGh8Mxg9Mm",
      "execution_count": 44,
      "outputs": []
    },
    {
      "cell_type": "code",
      "source": [
        "data.YearsAtCompany=np.sqrt(data.YearsAtCompany)"
      ],
      "metadata": {
        "id": "RRBTO7aDiwWp"
      },
      "id": "RRBTO7aDiwWp",
      "execution_count": 45,
      "outputs": []
    },
    {
      "cell_type": "code",
      "source": [
        "data.YearsSinceLastPromotion=np.sqrt(data.YearsSinceLastPromotion)"
      ],
      "metadata": {
        "id": "Dcel6Tr5iwZz"
      },
      "id": "Dcel6Tr5iwZz",
      "execution_count": 46,
      "outputs": []
    },
    {
      "cell_type": "markdown",
      "source": [
        "# Step 3) Base Model"
      ],
      "metadata": {
        "id": "16JSN2eIIvqa"
      },
      "id": "16JSN2eIIvqa"
    },
    {
      "cell_type": "code",
      "source": [
        "x=data.iloc[:,0:19]\n",
        "y=data.iloc[:,-1]"
      ],
      "metadata": {
        "id": "r3GCLsd7S2Dz"
      },
      "id": "r3GCLsd7S2Dz",
      "execution_count": 47,
      "outputs": []
    },
    {
      "cell_type": "code",
      "source": [
        "import sklearn\n",
        "from sklearn.model_selection import train_test_split"
      ],
      "metadata": {
        "id": "UunvfIbUS2Hc"
      },
      "id": "UunvfIbUS2Hc",
      "execution_count": 48,
      "outputs": []
    },
    {
      "cell_type": "code",
      "source": [
        "x_train,x_test,y_train,y_test=train_test_split(x,y,test_size=0.2,random_state=100)"
      ],
      "metadata": {
        "id": "YRP3S7NuS2LO"
      },
      "id": "YRP3S7NuS2LO",
      "execution_count": 49,
      "outputs": []
    },
    {
      "cell_type": "code",
      "source": [
        "x_train.shape,x_test.shape,y_train.shape,y_test.shape"
      ],
      "metadata": {
        "colab": {
          "base_uri": "https://localhost:8080/"
        },
        "id": "A9Fvv_sqS7s8",
        "outputId": "744e5f69-b413-43f7-9a17-1981bb39d56b"
      },
      "id": "A9Fvv_sqS7s8",
      "execution_count": 50,
      "outputs": [
        {
          "output_type": "execute_result",
          "data": {
            "text/plain": [
              "((3528, 19), (882, 19), (3528,), (882,))"
            ]
          },
          "metadata": {},
          "execution_count": 50
        }
      ]
    },
    {
      "cell_type": "code",
      "source": [
        "from sklearn.naive_bayes import MultinomialNB\n",
        "from sklearn.linear_model import LogisticRegression\n",
        "from sklearn.tree import DecisionTreeClassifier\n",
        "from sklearn.ensemble import RandomForestClassifier\n",
        "from sklearn.ensemble import AdaBoostClassifier\n",
        "from sklearn.tree import DecisionTreeClassifier\n",
        "adbo=AdaBoostClassifier(DecisionTreeClassifier(),n_estimators=5)\n",
        "from sklearn.svm import SVC\n",
        "from xgboost import XGBRegressor\n",
        "from sklearn.neighbors import KNeighborsClassifier"
      ],
      "metadata": {
        "id": "sgkO_72dKjlx"
      },
      "id": "sgkO_72dKjlx",
      "execution_count": 51,
      "outputs": []
    },
    {
      "cell_type": "code",
      "source": [
        "# table of all models\n",
        "\n",
        "models = [MultinomialNB(), LogisticRegression(), DecisionTreeClassifier(), RandomForestClassifier(), AdaBoostClassifier(),  KNeighborsClassifier(), SVC()]\n",
        "\n",
        "model_names = ['Naive Bayes','Logistic regression', 'Decision Tree', 'Random Forest', 'Ada Boost', 'KNN', 'SVC']\n",
        "\n",
        "accuracy = []\n",
        "Precision=[]\n",
        "Recall=[]\n",
        "f1_score=[]\n",
        "\n",
        "for i in models:\n",
        "    i.fit(x_train,y_train)\n",
        "    i_p = i.predict(x_test)\n",
        "    accuracy.append(accuracy_score(y_test, i_p))\n",
        "    Precision.append(precision_score(i_p,y_test,average=\"weighted\"))\n",
        "    Recall.append(recall_score(i_p,y_test,average=\"weighted\"))\n",
        "    \n",
        "\n",
        "model_comparison = pd.DataFrame({'Model': model_names, 'Accuracy': accuracy , \"Precision\":Precision , \"Recall\":Recall })\n",
        "model_comparison.sort_values(by='Accuracy', ascending=False)"
      ],
      "metadata": {
        "colab": {
          "base_uri": "https://localhost:8080/",
          "height": 269
        },
        "id": "_1pF67NdI0RA",
        "outputId": "bf062938-e31b-43f3-cb6b-6a7c97bd99a7"
      },
      "id": "_1pF67NdI0RA",
      "execution_count": 52,
      "outputs": [
        {
          "output_type": "execute_result",
          "data": {
            "text/plain": [
              "                 Model  Accuracy  Precision    Recall\n",
              "3        Random Forest  0.993197   0.993197  0.993197\n",
              "2        Decision Tree  0.989796   0.989919  0.989796\n",
              "6                  SVC  0.848073   1.000000  0.848073\n",
              "1  Logistic regression  0.842404   0.963886  0.842404\n",
              "4            Ada Boost  0.835601   0.925575  0.835601\n",
              "5                  KNN  0.799320   0.817804  0.799320\n",
              "0          Naive Bayes  0.778912   0.791865  0.778912"
            ],
            "text/html": [
              "\n",
              "  <div id=\"df-d27971f8-1f19-4e57-9034-96d689312889\">\n",
              "    <div class=\"colab-df-container\">\n",
              "      <div>\n",
              "<style scoped>\n",
              "    .dataframe tbody tr th:only-of-type {\n",
              "        vertical-align: middle;\n",
              "    }\n",
              "\n",
              "    .dataframe tbody tr th {\n",
              "        vertical-align: top;\n",
              "    }\n",
              "\n",
              "    .dataframe thead th {\n",
              "        text-align: right;\n",
              "    }\n",
              "</style>\n",
              "<table border=\"1\" class=\"dataframe\">\n",
              "  <thead>\n",
              "    <tr style=\"text-align: right;\">\n",
              "      <th></th>\n",
              "      <th>Model</th>\n",
              "      <th>Accuracy</th>\n",
              "      <th>Precision</th>\n",
              "      <th>Recall</th>\n",
              "    </tr>\n",
              "  </thead>\n",
              "  <tbody>\n",
              "    <tr>\n",
              "      <th>3</th>\n",
              "      <td>Random Forest</td>\n",
              "      <td>0.993197</td>\n",
              "      <td>0.993197</td>\n",
              "      <td>0.993197</td>\n",
              "    </tr>\n",
              "    <tr>\n",
              "      <th>2</th>\n",
              "      <td>Decision Tree</td>\n",
              "      <td>0.989796</td>\n",
              "      <td>0.989919</td>\n",
              "      <td>0.989796</td>\n",
              "    </tr>\n",
              "    <tr>\n",
              "      <th>6</th>\n",
              "      <td>SVC</td>\n",
              "      <td>0.848073</td>\n",
              "      <td>1.000000</td>\n",
              "      <td>0.848073</td>\n",
              "    </tr>\n",
              "    <tr>\n",
              "      <th>1</th>\n",
              "      <td>Logistic regression</td>\n",
              "      <td>0.842404</td>\n",
              "      <td>0.963886</td>\n",
              "      <td>0.842404</td>\n",
              "    </tr>\n",
              "    <tr>\n",
              "      <th>4</th>\n",
              "      <td>Ada Boost</td>\n",
              "      <td>0.835601</td>\n",
              "      <td>0.925575</td>\n",
              "      <td>0.835601</td>\n",
              "    </tr>\n",
              "    <tr>\n",
              "      <th>5</th>\n",
              "      <td>KNN</td>\n",
              "      <td>0.799320</td>\n",
              "      <td>0.817804</td>\n",
              "      <td>0.799320</td>\n",
              "    </tr>\n",
              "    <tr>\n",
              "      <th>0</th>\n",
              "      <td>Naive Bayes</td>\n",
              "      <td>0.778912</td>\n",
              "      <td>0.791865</td>\n",
              "      <td>0.778912</td>\n",
              "    </tr>\n",
              "  </tbody>\n",
              "</table>\n",
              "</div>\n",
              "      <button class=\"colab-df-convert\" onclick=\"convertToInteractive('df-d27971f8-1f19-4e57-9034-96d689312889')\"\n",
              "              title=\"Convert this dataframe to an interactive table.\"\n",
              "              style=\"display:none;\">\n",
              "        \n",
              "  <svg xmlns=\"http://www.w3.org/2000/svg\" height=\"24px\"viewBox=\"0 0 24 24\"\n",
              "       width=\"24px\">\n",
              "    <path d=\"M0 0h24v24H0V0z\" fill=\"none\"/>\n",
              "    <path d=\"M18.56 5.44l.94 2.06.94-2.06 2.06-.94-2.06-.94-.94-2.06-.94 2.06-2.06.94zm-11 1L8.5 8.5l.94-2.06 2.06-.94-2.06-.94L8.5 2.5l-.94 2.06-2.06.94zm10 10l.94 2.06.94-2.06 2.06-.94-2.06-.94-.94-2.06-.94 2.06-2.06.94z\"/><path d=\"M17.41 7.96l-1.37-1.37c-.4-.4-.92-.59-1.43-.59-.52 0-1.04.2-1.43.59L10.3 9.45l-7.72 7.72c-.78.78-.78 2.05 0 2.83L4 21.41c.39.39.9.59 1.41.59.51 0 1.02-.2 1.41-.59l7.78-7.78 2.81-2.81c.8-.78.8-2.07 0-2.86zM5.41 20L4 18.59l7.72-7.72 1.47 1.35L5.41 20z\"/>\n",
              "  </svg>\n",
              "      </button>\n",
              "      \n",
              "  <style>\n",
              "    .colab-df-container {\n",
              "      display:flex;\n",
              "      flex-wrap:wrap;\n",
              "      gap: 12px;\n",
              "    }\n",
              "\n",
              "    .colab-df-convert {\n",
              "      background-color: #E8F0FE;\n",
              "      border: none;\n",
              "      border-radius: 50%;\n",
              "      cursor: pointer;\n",
              "      display: none;\n",
              "      fill: #1967D2;\n",
              "      height: 32px;\n",
              "      padding: 0 0 0 0;\n",
              "      width: 32px;\n",
              "    }\n",
              "\n",
              "    .colab-df-convert:hover {\n",
              "      background-color: #E2EBFA;\n",
              "      box-shadow: 0px 1px 2px rgba(60, 64, 67, 0.3), 0px 1px 3px 1px rgba(60, 64, 67, 0.15);\n",
              "      fill: #174EA6;\n",
              "    }\n",
              "\n",
              "    [theme=dark] .colab-df-convert {\n",
              "      background-color: #3B4455;\n",
              "      fill: #D2E3FC;\n",
              "    }\n",
              "\n",
              "    [theme=dark] .colab-df-convert:hover {\n",
              "      background-color: #434B5C;\n",
              "      box-shadow: 0px 1px 3px 1px rgba(0, 0, 0, 0.15);\n",
              "      filter: drop-shadow(0px 1px 2px rgba(0, 0, 0, 0.3));\n",
              "      fill: #FFFFFF;\n",
              "    }\n",
              "  </style>\n",
              "\n",
              "      <script>\n",
              "        const buttonEl =\n",
              "          document.querySelector('#df-d27971f8-1f19-4e57-9034-96d689312889 button.colab-df-convert');\n",
              "        buttonEl.style.display =\n",
              "          google.colab.kernel.accessAllowed ? 'block' : 'none';\n",
              "\n",
              "        async function convertToInteractive(key) {\n",
              "          const element = document.querySelector('#df-d27971f8-1f19-4e57-9034-96d689312889');\n",
              "          const dataTable =\n",
              "            await google.colab.kernel.invokeFunction('convertToInteractive',\n",
              "                                                     [key], {});\n",
              "          if (!dataTable) return;\n",
              "\n",
              "          const docLinkHtml = 'Like what you see? Visit the ' +\n",
              "            '<a target=\"_blank\" href=https://colab.research.google.com/notebooks/data_table.ipynb>data table notebook</a>'\n",
              "            + ' to learn more about interactive tables.';\n",
              "          element.innerHTML = '';\n",
              "          dataTable['output_type'] = 'display_data';\n",
              "          await google.colab.output.renderOutput(dataTable, element);\n",
              "          const docLink = document.createElement('div');\n",
              "          docLink.innerHTML = docLinkHtml;\n",
              "          element.appendChild(docLink);\n",
              "        }\n",
              "      </script>\n",
              "    </div>\n",
              "  </div>\n",
              "  "
            ]
          },
          "metadata": {},
          "execution_count": 52
        }
      ]
    },
    {
      "cell_type": "markdown",
      "source": [
        "### Individual Models"
      ],
      "metadata": {
        "id": "2wMTOfWDU_Zw"
      },
      "id": "2wMTOfWDU_Zw"
    },
    {
      "cell_type": "markdown",
      "metadata": {
        "id": "40fnBL77VHBA"
      },
      "source": [
        "### 1.Logistic Regression"
      ],
      "id": "40fnBL77VHBA"
    },
    {
      "cell_type": "code",
      "execution_count": 53,
      "metadata": {
        "id": "9VAqHP0FVHBB"
      },
      "outputs": [],
      "source": [
        "y=data.Attrition"
      ],
      "id": "9VAqHP0FVHBB"
    },
    {
      "cell_type": "code",
      "execution_count": 54,
      "metadata": {
        "id": "pf5Om35cVHBB"
      },
      "outputs": [],
      "source": [
        "x=data.iloc[:,0:-1]\n"
      ],
      "id": "pf5Om35cVHBB"
    },
    {
      "cell_type": "code",
      "execution_count": 55,
      "metadata": {
        "id": "4KtYYcDLVHBC"
      },
      "outputs": [],
      "source": [
        "from sklearn.model_selection import train_test_split"
      ],
      "id": "4KtYYcDLVHBC"
    },
    {
      "cell_type": "code",
      "execution_count": 56,
      "metadata": {
        "id": "VM3sW_9FVHBC"
      },
      "outputs": [],
      "source": [
        "x_train,x_test,y_train,y_test=train_test_split(x,y,test_size=0.2,random_state=100)"
      ],
      "id": "VM3sW_9FVHBC"
    },
    {
      "cell_type": "code",
      "execution_count": 57,
      "metadata": {
        "id": "Bn-eKKofVHBC"
      },
      "outputs": [],
      "source": [
        "from sklearn.linear_model import LogisticRegression\n",
        "lg=LogisticRegression()"
      ],
      "id": "Bn-eKKofVHBC"
    },
    {
      "cell_type": "code",
      "execution_count": 58,
      "metadata": {
        "colab": {
          "base_uri": "https://localhost:8080/"
        },
        "id": "3UARWaZsVHBD",
        "outputId": "1f924281-0521-4e72-a11b-4784ab79c602"
      },
      "outputs": [
        {
          "output_type": "execute_result",
          "data": {
            "text/plain": [
              "((3528, 19), (882, 19), (3528,), (882,))"
            ]
          },
          "metadata": {},
          "execution_count": 58
        }
      ],
      "source": [
        "x_train.shape,x_test.shape,y_train.shape,y_test.shape"
      ],
      "id": "3UARWaZsVHBD"
    },
    {
      "cell_type": "code",
      "execution_count": 59,
      "metadata": {
        "colab": {
          "base_uri": "https://localhost:8080/",
          "height": 75
        },
        "id": "f3d1W76dVHBD",
        "outputId": "aad22c85-e5ed-4364-91b9-bd02b0df2255"
      },
      "outputs": [
        {
          "output_type": "execute_result",
          "data": {
            "text/plain": [
              "LogisticRegression()"
            ],
            "text/html": [
              "<style>#sk-container-id-1 {color: black;background-color: white;}#sk-container-id-1 pre{padding: 0;}#sk-container-id-1 div.sk-toggleable {background-color: white;}#sk-container-id-1 label.sk-toggleable__label {cursor: pointer;display: block;width: 100%;margin-bottom: 0;padding: 0.3em;box-sizing: border-box;text-align: center;}#sk-container-id-1 label.sk-toggleable__label-arrow:before {content: \"▸\";float: left;margin-right: 0.25em;color: #696969;}#sk-container-id-1 label.sk-toggleable__label-arrow:hover:before {color: black;}#sk-container-id-1 div.sk-estimator:hover label.sk-toggleable__label-arrow:before {color: black;}#sk-container-id-1 div.sk-toggleable__content {max-height: 0;max-width: 0;overflow: hidden;text-align: left;background-color: #f0f8ff;}#sk-container-id-1 div.sk-toggleable__content pre {margin: 0.2em;color: black;border-radius: 0.25em;background-color: #f0f8ff;}#sk-container-id-1 input.sk-toggleable__control:checked~div.sk-toggleable__content {max-height: 200px;max-width: 100%;overflow: auto;}#sk-container-id-1 input.sk-toggleable__control:checked~label.sk-toggleable__label-arrow:before {content: \"▾\";}#sk-container-id-1 div.sk-estimator input.sk-toggleable__control:checked~label.sk-toggleable__label {background-color: #d4ebff;}#sk-container-id-1 div.sk-label input.sk-toggleable__control:checked~label.sk-toggleable__label {background-color: #d4ebff;}#sk-container-id-1 input.sk-hidden--visually {border: 0;clip: rect(1px 1px 1px 1px);clip: rect(1px, 1px, 1px, 1px);height: 1px;margin: -1px;overflow: hidden;padding: 0;position: absolute;width: 1px;}#sk-container-id-1 div.sk-estimator {font-family: monospace;background-color: #f0f8ff;border: 1px dotted black;border-radius: 0.25em;box-sizing: border-box;margin-bottom: 0.5em;}#sk-container-id-1 div.sk-estimator:hover {background-color: #d4ebff;}#sk-container-id-1 div.sk-parallel-item::after {content: \"\";width: 100%;border-bottom: 1px solid gray;flex-grow: 1;}#sk-container-id-1 div.sk-label:hover label.sk-toggleable__label {background-color: #d4ebff;}#sk-container-id-1 div.sk-serial::before {content: \"\";position: absolute;border-left: 1px solid gray;box-sizing: border-box;top: 0;bottom: 0;left: 50%;z-index: 0;}#sk-container-id-1 div.sk-serial {display: flex;flex-direction: column;align-items: center;background-color: white;padding-right: 0.2em;padding-left: 0.2em;position: relative;}#sk-container-id-1 div.sk-item {position: relative;z-index: 1;}#sk-container-id-1 div.sk-parallel {display: flex;align-items: stretch;justify-content: center;background-color: white;position: relative;}#sk-container-id-1 div.sk-item::before, #sk-container-id-1 div.sk-parallel-item::before {content: \"\";position: absolute;border-left: 1px solid gray;box-sizing: border-box;top: 0;bottom: 0;left: 50%;z-index: -1;}#sk-container-id-1 div.sk-parallel-item {display: flex;flex-direction: column;z-index: 1;position: relative;background-color: white;}#sk-container-id-1 div.sk-parallel-item:first-child::after {align-self: flex-end;width: 50%;}#sk-container-id-1 div.sk-parallel-item:last-child::after {align-self: flex-start;width: 50%;}#sk-container-id-1 div.sk-parallel-item:only-child::after {width: 0;}#sk-container-id-1 div.sk-dashed-wrapped {border: 1px dashed gray;margin: 0 0.4em 0.5em 0.4em;box-sizing: border-box;padding-bottom: 0.4em;background-color: white;}#sk-container-id-1 div.sk-label label {font-family: monospace;font-weight: bold;display: inline-block;line-height: 1.2em;}#sk-container-id-1 div.sk-label-container {text-align: center;}#sk-container-id-1 div.sk-container {/* jupyter's `normalize.less` sets `[hidden] { display: none; }` but bootstrap.min.css set `[hidden] { display: none !important; }` so we also need the `!important` here to be able to override the default hidden behavior on the sphinx rendered scikit-learn.org. See: https://github.com/scikit-learn/scikit-learn/issues/21755 */display: inline-block !important;position: relative;}#sk-container-id-1 div.sk-text-repr-fallback {display: none;}</style><div id=\"sk-container-id-1\" class=\"sk-top-container\"><div class=\"sk-text-repr-fallback\"><pre>LogisticRegression()</pre><b>In a Jupyter environment, please rerun this cell to show the HTML representation or trust the notebook. <br />On GitHub, the HTML representation is unable to render, please try loading this page with nbviewer.org.</b></div><div class=\"sk-container\" hidden><div class=\"sk-item\"><div class=\"sk-estimator sk-toggleable\"><input class=\"sk-toggleable__control sk-hidden--visually\" id=\"sk-estimator-id-1\" type=\"checkbox\" checked><label for=\"sk-estimator-id-1\" class=\"sk-toggleable__label sk-toggleable__label-arrow\">LogisticRegression</label><div class=\"sk-toggleable__content\"><pre>LogisticRegression()</pre></div></div></div></div></div>"
            ]
          },
          "metadata": {},
          "execution_count": 59
        }
      ],
      "source": [
        "lg.fit(x_train,y_train)"
      ],
      "id": "f3d1W76dVHBD"
    },
    {
      "cell_type": "code",
      "execution_count": 60,
      "metadata": {
        "id": "yZQ-oppPVHBD"
      },
      "outputs": [],
      "source": [
        "lg_p=lg.predict(x_test)"
      ],
      "id": "yZQ-oppPVHBD"
    },
    {
      "cell_type": "code",
      "execution_count": 61,
      "metadata": {
        "id": "ffCi1jXuVHBE"
      },
      "outputs": [],
      "source": [
        "from sklearn.metrics import confusion_matrix\n",
        "from sklearn.metrics import classification_report"
      ],
      "id": "ffCi1jXuVHBE"
    },
    {
      "cell_type": "code",
      "execution_count": 62,
      "metadata": {
        "colab": {
          "base_uri": "https://localhost:8080/"
        },
        "id": "QgE6mKViVHBE",
        "outputId": "cc6006b1-7520-4009-8e20-27ae86882dde"
      },
      "outputs": [
        {
          "output_type": "execute_result",
          "data": {
            "text/plain": [
              "array([[736, 127],\n",
              "       [ 12,   7]])"
            ]
          },
          "metadata": {},
          "execution_count": 62
        }
      ],
      "source": [
        "lg_cf=confusion_matrix(lg_p,y_test)\n",
        "lg_cf"
      ],
      "id": "QgE6mKViVHBE"
    },
    {
      "cell_type": "code",
      "execution_count": 63,
      "metadata": {
        "colab": {
          "base_uri": "https://localhost:8080/"
        },
        "id": "qNLE0pdXVHBE",
        "outputId": "6cfd18b7-eba0-4f21-f686-7d6577bec0e6"
      },
      "outputs": [
        {
          "output_type": "execute_result",
          "data": {
            "text/plain": [
              "84.24036281179139"
            ]
          },
          "metadata": {},
          "execution_count": 63
        }
      ],
      "source": [
        "lg_acc=lg_cf.diagonal().sum()/lg_cf.sum()*100\n",
        "lg_acc"
      ],
      "id": "qNLE0pdXVHBE"
    },
    {
      "cell_type": "code",
      "execution_count": 64,
      "metadata": {
        "colab": {
          "base_uri": "https://localhost:8080/"
        },
        "id": "0TB8nLZWVHBF",
        "outputId": "88ad8548-efd5-40af-93f3-f813d93eec24"
      },
      "outputs": [
        {
          "output_type": "stream",
          "name": "stdout",
          "text": [
            "              precision    recall  f1-score   support\n",
            "\n",
            "           0       0.98      0.85      0.91       863\n",
            "           1       0.05      0.37      0.09        19\n",
            "\n",
            "    accuracy                           0.84       882\n",
            "   macro avg       0.52      0.61      0.50       882\n",
            "weighted avg       0.96      0.84      0.90       882\n",
            "\n"
          ]
        }
      ],
      "source": [
        "print(classification_report(lg_p,y_test))"
      ],
      "id": "0TB8nLZWVHBF"
    },
    {
      "cell_type": "markdown",
      "metadata": {
        "id": "KpuURROOVHBF"
      },
      "source": [
        "### 2.Decision Tree"
      ],
      "id": "KpuURROOVHBF"
    },
    {
      "cell_type": "code",
      "execution_count": 65,
      "metadata": {
        "id": "XYLmk2roVHBG"
      },
      "outputs": [],
      "source": [
        "from sklearn.tree import DecisionTreeClassifier\n",
        "dt=DecisionTreeClassifier()"
      ],
      "id": "XYLmk2roVHBG"
    },
    {
      "cell_type": "code",
      "execution_count": 66,
      "metadata": {
        "colab": {
          "base_uri": "https://localhost:8080/",
          "height": 75
        },
        "id": "HHEdwrzWVHBG",
        "outputId": "8f09106e-78f5-4445-a13b-968da5735f92"
      },
      "outputs": [
        {
          "output_type": "execute_result",
          "data": {
            "text/plain": [
              "DecisionTreeClassifier()"
            ],
            "text/html": [
              "<style>#sk-container-id-2 {color: black;background-color: white;}#sk-container-id-2 pre{padding: 0;}#sk-container-id-2 div.sk-toggleable {background-color: white;}#sk-container-id-2 label.sk-toggleable__label {cursor: pointer;display: block;width: 100%;margin-bottom: 0;padding: 0.3em;box-sizing: border-box;text-align: center;}#sk-container-id-2 label.sk-toggleable__label-arrow:before {content: \"▸\";float: left;margin-right: 0.25em;color: #696969;}#sk-container-id-2 label.sk-toggleable__label-arrow:hover:before {color: black;}#sk-container-id-2 div.sk-estimator:hover label.sk-toggleable__label-arrow:before {color: black;}#sk-container-id-2 div.sk-toggleable__content {max-height: 0;max-width: 0;overflow: hidden;text-align: left;background-color: #f0f8ff;}#sk-container-id-2 div.sk-toggleable__content pre {margin: 0.2em;color: black;border-radius: 0.25em;background-color: #f0f8ff;}#sk-container-id-2 input.sk-toggleable__control:checked~div.sk-toggleable__content {max-height: 200px;max-width: 100%;overflow: auto;}#sk-container-id-2 input.sk-toggleable__control:checked~label.sk-toggleable__label-arrow:before {content: \"▾\";}#sk-container-id-2 div.sk-estimator input.sk-toggleable__control:checked~label.sk-toggleable__label {background-color: #d4ebff;}#sk-container-id-2 div.sk-label input.sk-toggleable__control:checked~label.sk-toggleable__label {background-color: #d4ebff;}#sk-container-id-2 input.sk-hidden--visually {border: 0;clip: rect(1px 1px 1px 1px);clip: rect(1px, 1px, 1px, 1px);height: 1px;margin: -1px;overflow: hidden;padding: 0;position: absolute;width: 1px;}#sk-container-id-2 div.sk-estimator {font-family: monospace;background-color: #f0f8ff;border: 1px dotted black;border-radius: 0.25em;box-sizing: border-box;margin-bottom: 0.5em;}#sk-container-id-2 div.sk-estimator:hover {background-color: #d4ebff;}#sk-container-id-2 div.sk-parallel-item::after {content: \"\";width: 100%;border-bottom: 1px solid gray;flex-grow: 1;}#sk-container-id-2 div.sk-label:hover label.sk-toggleable__label {background-color: #d4ebff;}#sk-container-id-2 div.sk-serial::before {content: \"\";position: absolute;border-left: 1px solid gray;box-sizing: border-box;top: 0;bottom: 0;left: 50%;z-index: 0;}#sk-container-id-2 div.sk-serial {display: flex;flex-direction: column;align-items: center;background-color: white;padding-right: 0.2em;padding-left: 0.2em;position: relative;}#sk-container-id-2 div.sk-item {position: relative;z-index: 1;}#sk-container-id-2 div.sk-parallel {display: flex;align-items: stretch;justify-content: center;background-color: white;position: relative;}#sk-container-id-2 div.sk-item::before, #sk-container-id-2 div.sk-parallel-item::before {content: \"\";position: absolute;border-left: 1px solid gray;box-sizing: border-box;top: 0;bottom: 0;left: 50%;z-index: -1;}#sk-container-id-2 div.sk-parallel-item {display: flex;flex-direction: column;z-index: 1;position: relative;background-color: white;}#sk-container-id-2 div.sk-parallel-item:first-child::after {align-self: flex-end;width: 50%;}#sk-container-id-2 div.sk-parallel-item:last-child::after {align-self: flex-start;width: 50%;}#sk-container-id-2 div.sk-parallel-item:only-child::after {width: 0;}#sk-container-id-2 div.sk-dashed-wrapped {border: 1px dashed gray;margin: 0 0.4em 0.5em 0.4em;box-sizing: border-box;padding-bottom: 0.4em;background-color: white;}#sk-container-id-2 div.sk-label label {font-family: monospace;font-weight: bold;display: inline-block;line-height: 1.2em;}#sk-container-id-2 div.sk-label-container {text-align: center;}#sk-container-id-2 div.sk-container {/* jupyter's `normalize.less` sets `[hidden] { display: none; }` but bootstrap.min.css set `[hidden] { display: none !important; }` so we also need the `!important` here to be able to override the default hidden behavior on the sphinx rendered scikit-learn.org. See: https://github.com/scikit-learn/scikit-learn/issues/21755 */display: inline-block !important;position: relative;}#sk-container-id-2 div.sk-text-repr-fallback {display: none;}</style><div id=\"sk-container-id-2\" class=\"sk-top-container\"><div class=\"sk-text-repr-fallback\"><pre>DecisionTreeClassifier()</pre><b>In a Jupyter environment, please rerun this cell to show the HTML representation or trust the notebook. <br />On GitHub, the HTML representation is unable to render, please try loading this page with nbviewer.org.</b></div><div class=\"sk-container\" hidden><div class=\"sk-item\"><div class=\"sk-estimator sk-toggleable\"><input class=\"sk-toggleable__control sk-hidden--visually\" id=\"sk-estimator-id-2\" type=\"checkbox\" checked><label for=\"sk-estimator-id-2\" class=\"sk-toggleable__label sk-toggleable__label-arrow\">DecisionTreeClassifier</label><div class=\"sk-toggleable__content\"><pre>DecisionTreeClassifier()</pre></div></div></div></div></div>"
            ]
          },
          "metadata": {},
          "execution_count": 66
        }
      ],
      "source": [
        "dt.fit(x_train,y_train)"
      ],
      "id": "HHEdwrzWVHBG"
    },
    {
      "cell_type": "code",
      "execution_count": 67,
      "metadata": {
        "id": "VmjL6YzxVHBG"
      },
      "outputs": [],
      "source": [
        "dt_p=dt.predict(x_test)"
      ],
      "id": "VmjL6YzxVHBG"
    },
    {
      "cell_type": "code",
      "execution_count": 68,
      "metadata": {
        "colab": {
          "base_uri": "https://localhost:8080/"
        },
        "id": "3K3q8de1VHBH",
        "outputId": "dd53e9eb-b074-4590-cce3-6a0588c33bc3"
      },
      "outputs": [
        {
          "output_type": "execute_result",
          "data": {
            "text/plain": [
              "array([[742,   0],\n",
              "       [  6, 134]])"
            ]
          },
          "metadata": {},
          "execution_count": 68
        }
      ],
      "source": [
        "dt_cf=confusion_matrix(dt_p,y_test)\n",
        "dt_cf"
      ],
      "id": "3K3q8de1VHBH"
    },
    {
      "cell_type": "code",
      "execution_count": 69,
      "metadata": {
        "colab": {
          "base_uri": "https://localhost:8080/"
        },
        "id": "678jb4qzVHBH",
        "outputId": "67daa154-d0cc-4f57-b19c-6d4b6ae0ed07"
      },
      "outputs": [
        {
          "output_type": "execute_result",
          "data": {
            "text/plain": [
              "99.31972789115646"
            ]
          },
          "metadata": {},
          "execution_count": 69
        }
      ],
      "source": [
        "dt_acc=dt_cf.diagonal().sum()/dt_cf.sum()*100\n",
        "dt_acc"
      ],
      "id": "678jb4qzVHBH"
    },
    {
      "cell_type": "code",
      "execution_count": 70,
      "metadata": {
        "colab": {
          "base_uri": "https://localhost:8080/"
        },
        "id": "fttyzHHmVHBK",
        "outputId": "18d88d60-c76f-4ed3-ef2b-6604322d360e"
      },
      "outputs": [
        {
          "output_type": "stream",
          "name": "stdout",
          "text": [
            "              precision    recall  f1-score   support\n",
            "\n",
            "           0       0.99      1.00      1.00       742\n",
            "           1       1.00      0.96      0.98       140\n",
            "\n",
            "    accuracy                           0.99       882\n",
            "   macro avg       1.00      0.98      0.99       882\n",
            "weighted avg       0.99      0.99      0.99       882\n",
            "\n"
          ]
        }
      ],
      "source": [
        "print(classification_report(dt_p,y_test))"
      ],
      "id": "fttyzHHmVHBK"
    },
    {
      "cell_type": "markdown",
      "metadata": {
        "id": "qYn4AjYFVHBK"
      },
      "source": [
        "### 3.Random Forest"
      ],
      "id": "qYn4AjYFVHBK"
    },
    {
      "cell_type": "code",
      "execution_count": 71,
      "metadata": {
        "id": "NgKujtfsVHBL"
      },
      "outputs": [],
      "source": [
        "from sklearn.ensemble import RandomForestClassifier\n",
        "rf=RandomForestClassifier()"
      ],
      "id": "NgKujtfsVHBL"
    },
    {
      "cell_type": "code",
      "execution_count": 72,
      "metadata": {
        "colab": {
          "base_uri": "https://localhost:8080/",
          "height": 75
        },
        "id": "ZxLNNml1VHBM",
        "outputId": "bf6e3be3-990d-4fe5-b54e-6a8d7a3ed5cb"
      },
      "outputs": [
        {
          "output_type": "execute_result",
          "data": {
            "text/plain": [
              "RandomForestClassifier()"
            ],
            "text/html": [
              "<style>#sk-container-id-3 {color: black;background-color: white;}#sk-container-id-3 pre{padding: 0;}#sk-container-id-3 div.sk-toggleable {background-color: white;}#sk-container-id-3 label.sk-toggleable__label {cursor: pointer;display: block;width: 100%;margin-bottom: 0;padding: 0.3em;box-sizing: border-box;text-align: center;}#sk-container-id-3 label.sk-toggleable__label-arrow:before {content: \"▸\";float: left;margin-right: 0.25em;color: #696969;}#sk-container-id-3 label.sk-toggleable__label-arrow:hover:before {color: black;}#sk-container-id-3 div.sk-estimator:hover label.sk-toggleable__label-arrow:before {color: black;}#sk-container-id-3 div.sk-toggleable__content {max-height: 0;max-width: 0;overflow: hidden;text-align: left;background-color: #f0f8ff;}#sk-container-id-3 div.sk-toggleable__content pre {margin: 0.2em;color: black;border-radius: 0.25em;background-color: #f0f8ff;}#sk-container-id-3 input.sk-toggleable__control:checked~div.sk-toggleable__content {max-height: 200px;max-width: 100%;overflow: auto;}#sk-container-id-3 input.sk-toggleable__control:checked~label.sk-toggleable__label-arrow:before {content: \"▾\";}#sk-container-id-3 div.sk-estimator input.sk-toggleable__control:checked~label.sk-toggleable__label {background-color: #d4ebff;}#sk-container-id-3 div.sk-label input.sk-toggleable__control:checked~label.sk-toggleable__label {background-color: #d4ebff;}#sk-container-id-3 input.sk-hidden--visually {border: 0;clip: rect(1px 1px 1px 1px);clip: rect(1px, 1px, 1px, 1px);height: 1px;margin: -1px;overflow: hidden;padding: 0;position: absolute;width: 1px;}#sk-container-id-3 div.sk-estimator {font-family: monospace;background-color: #f0f8ff;border: 1px dotted black;border-radius: 0.25em;box-sizing: border-box;margin-bottom: 0.5em;}#sk-container-id-3 div.sk-estimator:hover {background-color: #d4ebff;}#sk-container-id-3 div.sk-parallel-item::after {content: \"\";width: 100%;border-bottom: 1px solid gray;flex-grow: 1;}#sk-container-id-3 div.sk-label:hover label.sk-toggleable__label {background-color: #d4ebff;}#sk-container-id-3 div.sk-serial::before {content: \"\";position: absolute;border-left: 1px solid gray;box-sizing: border-box;top: 0;bottom: 0;left: 50%;z-index: 0;}#sk-container-id-3 div.sk-serial {display: flex;flex-direction: column;align-items: center;background-color: white;padding-right: 0.2em;padding-left: 0.2em;position: relative;}#sk-container-id-3 div.sk-item {position: relative;z-index: 1;}#sk-container-id-3 div.sk-parallel {display: flex;align-items: stretch;justify-content: center;background-color: white;position: relative;}#sk-container-id-3 div.sk-item::before, #sk-container-id-3 div.sk-parallel-item::before {content: \"\";position: absolute;border-left: 1px solid gray;box-sizing: border-box;top: 0;bottom: 0;left: 50%;z-index: -1;}#sk-container-id-3 div.sk-parallel-item {display: flex;flex-direction: column;z-index: 1;position: relative;background-color: white;}#sk-container-id-3 div.sk-parallel-item:first-child::after {align-self: flex-end;width: 50%;}#sk-container-id-3 div.sk-parallel-item:last-child::after {align-self: flex-start;width: 50%;}#sk-container-id-3 div.sk-parallel-item:only-child::after {width: 0;}#sk-container-id-3 div.sk-dashed-wrapped {border: 1px dashed gray;margin: 0 0.4em 0.5em 0.4em;box-sizing: border-box;padding-bottom: 0.4em;background-color: white;}#sk-container-id-3 div.sk-label label {font-family: monospace;font-weight: bold;display: inline-block;line-height: 1.2em;}#sk-container-id-3 div.sk-label-container {text-align: center;}#sk-container-id-3 div.sk-container {/* jupyter's `normalize.less` sets `[hidden] { display: none; }` but bootstrap.min.css set `[hidden] { display: none !important; }` so we also need the `!important` here to be able to override the default hidden behavior on the sphinx rendered scikit-learn.org. See: https://github.com/scikit-learn/scikit-learn/issues/21755 */display: inline-block !important;position: relative;}#sk-container-id-3 div.sk-text-repr-fallback {display: none;}</style><div id=\"sk-container-id-3\" class=\"sk-top-container\"><div class=\"sk-text-repr-fallback\"><pre>RandomForestClassifier()</pre><b>In a Jupyter environment, please rerun this cell to show the HTML representation or trust the notebook. <br />On GitHub, the HTML representation is unable to render, please try loading this page with nbviewer.org.</b></div><div class=\"sk-container\" hidden><div class=\"sk-item\"><div class=\"sk-estimator sk-toggleable\"><input class=\"sk-toggleable__control sk-hidden--visually\" id=\"sk-estimator-id-3\" type=\"checkbox\" checked><label for=\"sk-estimator-id-3\" class=\"sk-toggleable__label sk-toggleable__label-arrow\">RandomForestClassifier</label><div class=\"sk-toggleable__content\"><pre>RandomForestClassifier()</pre></div></div></div></div></div>"
            ]
          },
          "metadata": {},
          "execution_count": 72
        }
      ],
      "source": [
        "rf.fit(x_train,y_train)"
      ],
      "id": "ZxLNNml1VHBM"
    },
    {
      "cell_type": "code",
      "execution_count": 73,
      "metadata": {
        "id": "DJL4BcqzVHBM"
      },
      "outputs": [],
      "source": [
        "rf_p=rf.predict(x_test)"
      ],
      "id": "DJL4BcqzVHBM"
    },
    {
      "cell_type": "code",
      "execution_count": 74,
      "metadata": {
        "colab": {
          "base_uri": "https://localhost:8080/"
        },
        "id": "OJtmxpoLVHBN",
        "outputId": "283fa3a5-712b-4fa3-c9ee-c5b3e370b447"
      },
      "outputs": [
        {
          "output_type": "execute_result",
          "data": {
            "text/plain": [
              "array([[745,   3],\n",
              "       [  3, 131]])"
            ]
          },
          "metadata": {},
          "execution_count": 74
        }
      ],
      "source": [
        "rf_cf=confusion_matrix(rf_p,y_test)\n",
        "rf_cf"
      ],
      "id": "OJtmxpoLVHBN"
    },
    {
      "cell_type": "code",
      "execution_count": 75,
      "metadata": {
        "colab": {
          "base_uri": "https://localhost:8080/"
        },
        "id": "NVz-H2STVHBN",
        "outputId": "f7b33faf-4ec0-410b-ed65-dfbf19860f35"
      },
      "outputs": [
        {
          "output_type": "execute_result",
          "data": {
            "text/plain": [
              "99.31972789115646"
            ]
          },
          "metadata": {},
          "execution_count": 75
        }
      ],
      "source": [
        "rf_acc=rf_cf.diagonal().sum()/rf_cf.sum()*100\n",
        "rf_acc"
      ],
      "id": "NVz-H2STVHBN"
    },
    {
      "cell_type": "code",
      "execution_count": 76,
      "metadata": {
        "colab": {
          "base_uri": "https://localhost:8080/"
        },
        "id": "ND5v90FMVHBO",
        "outputId": "419bcdd0-39e0-4930-d928-1108a96006c0"
      },
      "outputs": [
        {
          "output_type": "stream",
          "name": "stdout",
          "text": [
            "              precision    recall  f1-score   support\n",
            "\n",
            "           0       1.00      1.00      1.00       748\n",
            "           1       0.98      0.98      0.98       134\n",
            "\n",
            "    accuracy                           0.99       882\n",
            "   macro avg       0.99      0.99      0.99       882\n",
            "weighted avg       0.99      0.99      0.99       882\n",
            "\n"
          ]
        }
      ],
      "source": [
        "print(classification_report(rf_p,y_test))"
      ],
      "id": "ND5v90FMVHBO"
    },
    {
      "cell_type": "markdown",
      "metadata": {
        "id": "MNg0Gu1YVHBO"
      },
      "source": [
        "### 4.KNN"
      ],
      "id": "MNg0Gu1YVHBO"
    },
    {
      "cell_type": "code",
      "execution_count": 77,
      "metadata": {
        "id": "lHcPF7_VVHBP"
      },
      "outputs": [],
      "source": [
        "from sklearn.neighbors import KNeighborsClassifier\n",
        "knn= KNeighborsClassifier(n_neighbors=7)"
      ],
      "id": "lHcPF7_VVHBP"
    },
    {
      "cell_type": "code",
      "execution_count": 78,
      "metadata": {
        "colab": {
          "base_uri": "https://localhost:8080/",
          "height": 75
        },
        "id": "3YbZjT7nVHBP",
        "outputId": "055dd684-dd2c-45a9-8af3-b44987830b6c"
      },
      "outputs": [
        {
          "output_type": "execute_result",
          "data": {
            "text/plain": [
              "KNeighborsClassifier(n_neighbors=7)"
            ],
            "text/html": [
              "<style>#sk-container-id-4 {color: black;background-color: white;}#sk-container-id-4 pre{padding: 0;}#sk-container-id-4 div.sk-toggleable {background-color: white;}#sk-container-id-4 label.sk-toggleable__label {cursor: pointer;display: block;width: 100%;margin-bottom: 0;padding: 0.3em;box-sizing: border-box;text-align: center;}#sk-container-id-4 label.sk-toggleable__label-arrow:before {content: \"▸\";float: left;margin-right: 0.25em;color: #696969;}#sk-container-id-4 label.sk-toggleable__label-arrow:hover:before {color: black;}#sk-container-id-4 div.sk-estimator:hover label.sk-toggleable__label-arrow:before {color: black;}#sk-container-id-4 div.sk-toggleable__content {max-height: 0;max-width: 0;overflow: hidden;text-align: left;background-color: #f0f8ff;}#sk-container-id-4 div.sk-toggleable__content pre {margin: 0.2em;color: black;border-radius: 0.25em;background-color: #f0f8ff;}#sk-container-id-4 input.sk-toggleable__control:checked~div.sk-toggleable__content {max-height: 200px;max-width: 100%;overflow: auto;}#sk-container-id-4 input.sk-toggleable__control:checked~label.sk-toggleable__label-arrow:before {content: \"▾\";}#sk-container-id-4 div.sk-estimator input.sk-toggleable__control:checked~label.sk-toggleable__label {background-color: #d4ebff;}#sk-container-id-4 div.sk-label input.sk-toggleable__control:checked~label.sk-toggleable__label {background-color: #d4ebff;}#sk-container-id-4 input.sk-hidden--visually {border: 0;clip: rect(1px 1px 1px 1px);clip: rect(1px, 1px, 1px, 1px);height: 1px;margin: -1px;overflow: hidden;padding: 0;position: absolute;width: 1px;}#sk-container-id-4 div.sk-estimator {font-family: monospace;background-color: #f0f8ff;border: 1px dotted black;border-radius: 0.25em;box-sizing: border-box;margin-bottom: 0.5em;}#sk-container-id-4 div.sk-estimator:hover {background-color: #d4ebff;}#sk-container-id-4 div.sk-parallel-item::after {content: \"\";width: 100%;border-bottom: 1px solid gray;flex-grow: 1;}#sk-container-id-4 div.sk-label:hover label.sk-toggleable__label {background-color: #d4ebff;}#sk-container-id-4 div.sk-serial::before {content: \"\";position: absolute;border-left: 1px solid gray;box-sizing: border-box;top: 0;bottom: 0;left: 50%;z-index: 0;}#sk-container-id-4 div.sk-serial {display: flex;flex-direction: column;align-items: center;background-color: white;padding-right: 0.2em;padding-left: 0.2em;position: relative;}#sk-container-id-4 div.sk-item {position: relative;z-index: 1;}#sk-container-id-4 div.sk-parallel {display: flex;align-items: stretch;justify-content: center;background-color: white;position: relative;}#sk-container-id-4 div.sk-item::before, #sk-container-id-4 div.sk-parallel-item::before {content: \"\";position: absolute;border-left: 1px solid gray;box-sizing: border-box;top: 0;bottom: 0;left: 50%;z-index: -1;}#sk-container-id-4 div.sk-parallel-item {display: flex;flex-direction: column;z-index: 1;position: relative;background-color: white;}#sk-container-id-4 div.sk-parallel-item:first-child::after {align-self: flex-end;width: 50%;}#sk-container-id-4 div.sk-parallel-item:last-child::after {align-self: flex-start;width: 50%;}#sk-container-id-4 div.sk-parallel-item:only-child::after {width: 0;}#sk-container-id-4 div.sk-dashed-wrapped {border: 1px dashed gray;margin: 0 0.4em 0.5em 0.4em;box-sizing: border-box;padding-bottom: 0.4em;background-color: white;}#sk-container-id-4 div.sk-label label {font-family: monospace;font-weight: bold;display: inline-block;line-height: 1.2em;}#sk-container-id-4 div.sk-label-container {text-align: center;}#sk-container-id-4 div.sk-container {/* jupyter's `normalize.less` sets `[hidden] { display: none; }` but bootstrap.min.css set `[hidden] { display: none !important; }` so we also need the `!important` here to be able to override the default hidden behavior on the sphinx rendered scikit-learn.org. See: https://github.com/scikit-learn/scikit-learn/issues/21755 */display: inline-block !important;position: relative;}#sk-container-id-4 div.sk-text-repr-fallback {display: none;}</style><div id=\"sk-container-id-4\" class=\"sk-top-container\"><div class=\"sk-text-repr-fallback\"><pre>KNeighborsClassifier(n_neighbors=7)</pre><b>In a Jupyter environment, please rerun this cell to show the HTML representation or trust the notebook. <br />On GitHub, the HTML representation is unable to render, please try loading this page with nbviewer.org.</b></div><div class=\"sk-container\" hidden><div class=\"sk-item\"><div class=\"sk-estimator sk-toggleable\"><input class=\"sk-toggleable__control sk-hidden--visually\" id=\"sk-estimator-id-4\" type=\"checkbox\" checked><label for=\"sk-estimator-id-4\" class=\"sk-toggleable__label sk-toggleable__label-arrow\">KNeighborsClassifier</label><div class=\"sk-toggleable__content\"><pre>KNeighborsClassifier(n_neighbors=7)</pre></div></div></div></div></div>"
            ]
          },
          "metadata": {},
          "execution_count": 78
        }
      ],
      "source": [
        "knn.fit(x_train,y_train)"
      ],
      "id": "3YbZjT7nVHBP"
    },
    {
      "cell_type": "code",
      "execution_count": 79,
      "metadata": {
        "id": "riCekBcTVHBQ"
      },
      "outputs": [],
      "source": [
        "knn_p=knn.predict(x_test)"
      ],
      "id": "riCekBcTVHBQ"
    },
    {
      "cell_type": "code",
      "execution_count": 80,
      "metadata": {
        "colab": {
          "base_uri": "https://localhost:8080/"
        },
        "id": "nJDl4RtDVHBQ",
        "outputId": "621ff2f7-50e8-4c6c-bee5-dc842f616d0b"
      },
      "outputs": [
        {
          "output_type": "execute_result",
          "data": {
            "text/plain": [
              "array([[715,  97],\n",
              "       [ 33,  37]])"
            ]
          },
          "metadata": {},
          "execution_count": 80
        }
      ],
      "source": [
        "knn_cf=confusion_matrix(knn_p,y_test)\n",
        "knn_cf"
      ],
      "id": "nJDl4RtDVHBQ"
    },
    {
      "cell_type": "code",
      "execution_count": 81,
      "metadata": {
        "colab": {
          "base_uri": "https://localhost:8080/"
        },
        "id": "u7ZXQUfRVHBR",
        "outputId": "da74115f-7b61-4b6d-a263-7287fa86c900"
      },
      "outputs": [
        {
          "output_type": "execute_result",
          "data": {
            "text/plain": [
              "85.26077097505669"
            ]
          },
          "metadata": {},
          "execution_count": 81
        }
      ],
      "source": [
        "knn_acc=knn_cf.diagonal().sum()/knn_cf.sum()*100\n",
        "knn_acc"
      ],
      "id": "u7ZXQUfRVHBR"
    },
    {
      "cell_type": "code",
      "execution_count": 82,
      "metadata": {
        "colab": {
          "base_uri": "https://localhost:8080/"
        },
        "id": "czwQfz4ZVHBR",
        "outputId": "52fb798c-0319-49f1-e65e-f1a79328db81"
      },
      "outputs": [
        {
          "output_type": "stream",
          "name": "stdout",
          "text": [
            "              precision    recall  f1-score   support\n",
            "\n",
            "           0       0.96      0.88      0.92       812\n",
            "           1       0.28      0.53      0.36        70\n",
            "\n",
            "    accuracy                           0.85       882\n",
            "   macro avg       0.62      0.70      0.64       882\n",
            "weighted avg       0.90      0.85      0.87       882\n",
            "\n"
          ]
        }
      ],
      "source": [
        "print(classification_report(knn_p,y_test))"
      ],
      "id": "czwQfz4ZVHBR"
    },
    {
      "cell_type": "markdown",
      "metadata": {
        "id": "Eo-_7GVsVHBS"
      },
      "source": [
        "### 5.Ada Boost"
      ],
      "id": "Eo-_7GVsVHBS"
    },
    {
      "cell_type": "code",
      "execution_count": 83,
      "metadata": {
        "id": "nEQn7dIpVHBS"
      },
      "outputs": [],
      "source": [
        "from sklearn.ensemble import AdaBoostClassifier\n",
        "from sklearn.tree import DecisionTreeClassifier"
      ],
      "id": "nEQn7dIpVHBS"
    },
    {
      "cell_type": "code",
      "execution_count": 84,
      "metadata": {
        "id": "47sECXhgVHBT"
      },
      "outputs": [],
      "source": [
        "adbo=AdaBoostClassifier(DecisionTreeClassifier(),n_estimators=5)"
      ],
      "id": "47sECXhgVHBT"
    },
    {
      "cell_type": "code",
      "execution_count": 85,
      "metadata": {
        "colab": {
          "base_uri": "https://localhost:8080/",
          "height": 118
        },
        "id": "5h3u3CXJVHBT",
        "outputId": "067c80d3-dd73-4222-a14d-5c2622afbfc5"
      },
      "outputs": [
        {
          "output_type": "execute_result",
          "data": {
            "text/plain": [
              "AdaBoostClassifier(estimator=DecisionTreeClassifier(), n_estimators=5)"
            ],
            "text/html": [
              "<style>#sk-container-id-5 {color: black;background-color: white;}#sk-container-id-5 pre{padding: 0;}#sk-container-id-5 div.sk-toggleable {background-color: white;}#sk-container-id-5 label.sk-toggleable__label {cursor: pointer;display: block;width: 100%;margin-bottom: 0;padding: 0.3em;box-sizing: border-box;text-align: center;}#sk-container-id-5 label.sk-toggleable__label-arrow:before {content: \"▸\";float: left;margin-right: 0.25em;color: #696969;}#sk-container-id-5 label.sk-toggleable__label-arrow:hover:before {color: black;}#sk-container-id-5 div.sk-estimator:hover label.sk-toggleable__label-arrow:before {color: black;}#sk-container-id-5 div.sk-toggleable__content {max-height: 0;max-width: 0;overflow: hidden;text-align: left;background-color: #f0f8ff;}#sk-container-id-5 div.sk-toggleable__content pre {margin: 0.2em;color: black;border-radius: 0.25em;background-color: #f0f8ff;}#sk-container-id-5 input.sk-toggleable__control:checked~div.sk-toggleable__content {max-height: 200px;max-width: 100%;overflow: auto;}#sk-container-id-5 input.sk-toggleable__control:checked~label.sk-toggleable__label-arrow:before {content: \"▾\";}#sk-container-id-5 div.sk-estimator input.sk-toggleable__control:checked~label.sk-toggleable__label {background-color: #d4ebff;}#sk-container-id-5 div.sk-label input.sk-toggleable__control:checked~label.sk-toggleable__label {background-color: #d4ebff;}#sk-container-id-5 input.sk-hidden--visually {border: 0;clip: rect(1px 1px 1px 1px);clip: rect(1px, 1px, 1px, 1px);height: 1px;margin: -1px;overflow: hidden;padding: 0;position: absolute;width: 1px;}#sk-container-id-5 div.sk-estimator {font-family: monospace;background-color: #f0f8ff;border: 1px dotted black;border-radius: 0.25em;box-sizing: border-box;margin-bottom: 0.5em;}#sk-container-id-5 div.sk-estimator:hover {background-color: #d4ebff;}#sk-container-id-5 div.sk-parallel-item::after {content: \"\";width: 100%;border-bottom: 1px solid gray;flex-grow: 1;}#sk-container-id-5 div.sk-label:hover label.sk-toggleable__label {background-color: #d4ebff;}#sk-container-id-5 div.sk-serial::before {content: \"\";position: absolute;border-left: 1px solid gray;box-sizing: border-box;top: 0;bottom: 0;left: 50%;z-index: 0;}#sk-container-id-5 div.sk-serial {display: flex;flex-direction: column;align-items: center;background-color: white;padding-right: 0.2em;padding-left: 0.2em;position: relative;}#sk-container-id-5 div.sk-item {position: relative;z-index: 1;}#sk-container-id-5 div.sk-parallel {display: flex;align-items: stretch;justify-content: center;background-color: white;position: relative;}#sk-container-id-5 div.sk-item::before, #sk-container-id-5 div.sk-parallel-item::before {content: \"\";position: absolute;border-left: 1px solid gray;box-sizing: border-box;top: 0;bottom: 0;left: 50%;z-index: -1;}#sk-container-id-5 div.sk-parallel-item {display: flex;flex-direction: column;z-index: 1;position: relative;background-color: white;}#sk-container-id-5 div.sk-parallel-item:first-child::after {align-self: flex-end;width: 50%;}#sk-container-id-5 div.sk-parallel-item:last-child::after {align-self: flex-start;width: 50%;}#sk-container-id-5 div.sk-parallel-item:only-child::after {width: 0;}#sk-container-id-5 div.sk-dashed-wrapped {border: 1px dashed gray;margin: 0 0.4em 0.5em 0.4em;box-sizing: border-box;padding-bottom: 0.4em;background-color: white;}#sk-container-id-5 div.sk-label label {font-family: monospace;font-weight: bold;display: inline-block;line-height: 1.2em;}#sk-container-id-5 div.sk-label-container {text-align: center;}#sk-container-id-5 div.sk-container {/* jupyter's `normalize.less` sets `[hidden] { display: none; }` but bootstrap.min.css set `[hidden] { display: none !important; }` so we also need the `!important` here to be able to override the default hidden behavior on the sphinx rendered scikit-learn.org. See: https://github.com/scikit-learn/scikit-learn/issues/21755 */display: inline-block !important;position: relative;}#sk-container-id-5 div.sk-text-repr-fallback {display: none;}</style><div id=\"sk-container-id-5\" class=\"sk-top-container\"><div class=\"sk-text-repr-fallback\"><pre>AdaBoostClassifier(estimator=DecisionTreeClassifier(), n_estimators=5)</pre><b>In a Jupyter environment, please rerun this cell to show the HTML representation or trust the notebook. <br />On GitHub, the HTML representation is unable to render, please try loading this page with nbviewer.org.</b></div><div class=\"sk-container\" hidden><div class=\"sk-item sk-dashed-wrapped\"><div class=\"sk-label-container\"><div class=\"sk-label sk-toggleable\"><input class=\"sk-toggleable__control sk-hidden--visually\" id=\"sk-estimator-id-5\" type=\"checkbox\" ><label for=\"sk-estimator-id-5\" class=\"sk-toggleable__label sk-toggleable__label-arrow\">AdaBoostClassifier</label><div class=\"sk-toggleable__content\"><pre>AdaBoostClassifier(estimator=DecisionTreeClassifier(), n_estimators=5)</pre></div></div></div><div class=\"sk-parallel\"><div class=\"sk-parallel-item\"><div class=\"sk-item\"><div class=\"sk-label-container\"><div class=\"sk-label sk-toggleable\"><input class=\"sk-toggleable__control sk-hidden--visually\" id=\"sk-estimator-id-6\" type=\"checkbox\" ><label for=\"sk-estimator-id-6\" class=\"sk-toggleable__label sk-toggleable__label-arrow\">estimator: DecisionTreeClassifier</label><div class=\"sk-toggleable__content\"><pre>DecisionTreeClassifier()</pre></div></div></div><div class=\"sk-serial\"><div class=\"sk-item\"><div class=\"sk-estimator sk-toggleable\"><input class=\"sk-toggleable__control sk-hidden--visually\" id=\"sk-estimator-id-7\" type=\"checkbox\" ><label for=\"sk-estimator-id-7\" class=\"sk-toggleable__label sk-toggleable__label-arrow\">DecisionTreeClassifier</label><div class=\"sk-toggleable__content\"><pre>DecisionTreeClassifier()</pre></div></div></div></div></div></div></div></div></div></div>"
            ]
          },
          "metadata": {},
          "execution_count": 85
        }
      ],
      "source": [
        "adbo.fit(x_train,y_train)"
      ],
      "id": "5h3u3CXJVHBT"
    },
    {
      "cell_type": "code",
      "execution_count": 86,
      "metadata": {
        "id": "G8-XkK5sVHBU"
      },
      "outputs": [],
      "source": [
        "adbo_p=adbo.predict(x_test)"
      ],
      "id": "G8-XkK5sVHBU"
    },
    {
      "cell_type": "code",
      "execution_count": 87,
      "metadata": {
        "colab": {
          "base_uri": "https://localhost:8080/"
        },
        "id": "m2wHszypVHBU",
        "outputId": "d5dc89b9-346b-4f75-da7f-845b93a10a8a"
      },
      "outputs": [
        {
          "output_type": "execute_result",
          "data": {
            "text/plain": [
              "array([[745,   0],\n",
              "       [  3, 134]])"
            ]
          },
          "metadata": {},
          "execution_count": 87
        }
      ],
      "source": [
        "adbo_cf=confusion_matrix(adbo_p,y_test)\n",
        "adbo_cf"
      ],
      "id": "m2wHszypVHBU"
    },
    {
      "cell_type": "code",
      "execution_count": 88,
      "metadata": {
        "colab": {
          "base_uri": "https://localhost:8080/"
        },
        "id": "NKTGBV51VHBU",
        "outputId": "a846becd-dbc8-4ae7-c1b6-20d14207dd4c"
      },
      "outputs": [
        {
          "output_type": "execute_result",
          "data": {
            "text/plain": [
              "99.65986394557824"
            ]
          },
          "metadata": {},
          "execution_count": 88
        }
      ],
      "source": [
        "adbo_acc=adbo_cf.diagonal().sum()/adbo_cf.sum()*100\n",
        "adbo_acc"
      ],
      "id": "NKTGBV51VHBU"
    },
    {
      "cell_type": "code",
      "execution_count": 89,
      "metadata": {
        "colab": {
          "base_uri": "https://localhost:8080/"
        },
        "id": "3zWuvt5-VHBV",
        "outputId": "f3d4ee18-695f-4def-c550-d2c23321d795"
      },
      "outputs": [
        {
          "output_type": "stream",
          "name": "stdout",
          "text": [
            "              precision    recall  f1-score   support\n",
            "\n",
            "           0       1.00      1.00      1.00       745\n",
            "           1       1.00      0.98      0.99       137\n",
            "\n",
            "    accuracy                           1.00       882\n",
            "   macro avg       1.00      0.99      0.99       882\n",
            "weighted avg       1.00      1.00      1.00       882\n",
            "\n"
          ]
        }
      ],
      "source": [
        "print(classification_report(adbo_p,y_test))"
      ],
      "id": "3zWuvt5-VHBV"
    },
    {
      "cell_type": "markdown",
      "source": [
        "### 6.Naive Bayes"
      ],
      "metadata": {
        "id": "wVm0XQYyVHBV"
      },
      "id": "wVm0XQYyVHBV"
    },
    {
      "cell_type": "code",
      "source": [
        "from sklearn.naive_bayes import MultinomialNB\n",
        "nb=MultinomialNB()"
      ],
      "metadata": {
        "id": "qCHAUO2wVHBV"
      },
      "execution_count": 90,
      "outputs": [],
      "id": "qCHAUO2wVHBV"
    },
    {
      "cell_type": "code",
      "source": [
        "nb.fit(x_train,y_train)"
      ],
      "metadata": {
        "colab": {
          "base_uri": "https://localhost:8080/",
          "height": 75
        },
        "id": "IY-hwxWDVHBW",
        "outputId": "cad38754-38fc-4f8b-e288-959f33decbdb"
      },
      "execution_count": 91,
      "outputs": [
        {
          "output_type": "execute_result",
          "data": {
            "text/plain": [
              "MultinomialNB()"
            ],
            "text/html": [
              "<style>#sk-container-id-6 {color: black;background-color: white;}#sk-container-id-6 pre{padding: 0;}#sk-container-id-6 div.sk-toggleable {background-color: white;}#sk-container-id-6 label.sk-toggleable__label {cursor: pointer;display: block;width: 100%;margin-bottom: 0;padding: 0.3em;box-sizing: border-box;text-align: center;}#sk-container-id-6 label.sk-toggleable__label-arrow:before {content: \"▸\";float: left;margin-right: 0.25em;color: #696969;}#sk-container-id-6 label.sk-toggleable__label-arrow:hover:before {color: black;}#sk-container-id-6 div.sk-estimator:hover label.sk-toggleable__label-arrow:before {color: black;}#sk-container-id-6 div.sk-toggleable__content {max-height: 0;max-width: 0;overflow: hidden;text-align: left;background-color: #f0f8ff;}#sk-container-id-6 div.sk-toggleable__content pre {margin: 0.2em;color: black;border-radius: 0.25em;background-color: #f0f8ff;}#sk-container-id-6 input.sk-toggleable__control:checked~div.sk-toggleable__content {max-height: 200px;max-width: 100%;overflow: auto;}#sk-container-id-6 input.sk-toggleable__control:checked~label.sk-toggleable__label-arrow:before {content: \"▾\";}#sk-container-id-6 div.sk-estimator input.sk-toggleable__control:checked~label.sk-toggleable__label {background-color: #d4ebff;}#sk-container-id-6 div.sk-label input.sk-toggleable__control:checked~label.sk-toggleable__label {background-color: #d4ebff;}#sk-container-id-6 input.sk-hidden--visually {border: 0;clip: rect(1px 1px 1px 1px);clip: rect(1px, 1px, 1px, 1px);height: 1px;margin: -1px;overflow: hidden;padding: 0;position: absolute;width: 1px;}#sk-container-id-6 div.sk-estimator {font-family: monospace;background-color: #f0f8ff;border: 1px dotted black;border-radius: 0.25em;box-sizing: border-box;margin-bottom: 0.5em;}#sk-container-id-6 div.sk-estimator:hover {background-color: #d4ebff;}#sk-container-id-6 div.sk-parallel-item::after {content: \"\";width: 100%;border-bottom: 1px solid gray;flex-grow: 1;}#sk-container-id-6 div.sk-label:hover label.sk-toggleable__label {background-color: #d4ebff;}#sk-container-id-6 div.sk-serial::before {content: \"\";position: absolute;border-left: 1px solid gray;box-sizing: border-box;top: 0;bottom: 0;left: 50%;z-index: 0;}#sk-container-id-6 div.sk-serial {display: flex;flex-direction: column;align-items: center;background-color: white;padding-right: 0.2em;padding-left: 0.2em;position: relative;}#sk-container-id-6 div.sk-item {position: relative;z-index: 1;}#sk-container-id-6 div.sk-parallel {display: flex;align-items: stretch;justify-content: center;background-color: white;position: relative;}#sk-container-id-6 div.sk-item::before, #sk-container-id-6 div.sk-parallel-item::before {content: \"\";position: absolute;border-left: 1px solid gray;box-sizing: border-box;top: 0;bottom: 0;left: 50%;z-index: -1;}#sk-container-id-6 div.sk-parallel-item {display: flex;flex-direction: column;z-index: 1;position: relative;background-color: white;}#sk-container-id-6 div.sk-parallel-item:first-child::after {align-self: flex-end;width: 50%;}#sk-container-id-6 div.sk-parallel-item:last-child::after {align-self: flex-start;width: 50%;}#sk-container-id-6 div.sk-parallel-item:only-child::after {width: 0;}#sk-container-id-6 div.sk-dashed-wrapped {border: 1px dashed gray;margin: 0 0.4em 0.5em 0.4em;box-sizing: border-box;padding-bottom: 0.4em;background-color: white;}#sk-container-id-6 div.sk-label label {font-family: monospace;font-weight: bold;display: inline-block;line-height: 1.2em;}#sk-container-id-6 div.sk-label-container {text-align: center;}#sk-container-id-6 div.sk-container {/* jupyter's `normalize.less` sets `[hidden] { display: none; }` but bootstrap.min.css set `[hidden] { display: none !important; }` so we also need the `!important` here to be able to override the default hidden behavior on the sphinx rendered scikit-learn.org. See: https://github.com/scikit-learn/scikit-learn/issues/21755 */display: inline-block !important;position: relative;}#sk-container-id-6 div.sk-text-repr-fallback {display: none;}</style><div id=\"sk-container-id-6\" class=\"sk-top-container\"><div class=\"sk-text-repr-fallback\"><pre>MultinomialNB()</pre><b>In a Jupyter environment, please rerun this cell to show the HTML representation or trust the notebook. <br />On GitHub, the HTML representation is unable to render, please try loading this page with nbviewer.org.</b></div><div class=\"sk-container\" hidden><div class=\"sk-item\"><div class=\"sk-estimator sk-toggleable\"><input class=\"sk-toggleable__control sk-hidden--visually\" id=\"sk-estimator-id-8\" type=\"checkbox\" checked><label for=\"sk-estimator-id-8\" class=\"sk-toggleable__label sk-toggleable__label-arrow\">MultinomialNB</label><div class=\"sk-toggleable__content\"><pre>MultinomialNB()</pre></div></div></div></div></div>"
            ]
          },
          "metadata": {},
          "execution_count": 91
        }
      ],
      "id": "IY-hwxWDVHBW"
    },
    {
      "cell_type": "code",
      "source": [
        "nb_p=nb.predict(x_test)"
      ],
      "metadata": {
        "id": "hGmEDoOFVHBW"
      },
      "execution_count": 92,
      "outputs": [],
      "id": "hGmEDoOFVHBW"
    },
    {
      "cell_type": "code",
      "source": [
        "nb_cf=confusion_matrix(nb_p,y_test)"
      ],
      "metadata": {
        "id": "q8_1C2eOVHBW"
      },
      "execution_count": 93,
      "outputs": [],
      "id": "q8_1C2eOVHBW"
    },
    {
      "cell_type": "code",
      "source": [
        "nb_acc=nb_cf.diagonal().sum()/nb_cf.sum()*100\n",
        "nb_acc"
      ],
      "metadata": {
        "colab": {
          "base_uri": "https://localhost:8080/"
        },
        "id": "Dc6r8Et_VHBX",
        "outputId": "d48f8e6f-57ae-48d3-cabd-d87e514c9cfe"
      },
      "execution_count": 94,
      "outputs": [
        {
          "output_type": "execute_result",
          "data": {
            "text/plain": [
              "77.89115646258503"
            ]
          },
          "metadata": {},
          "execution_count": 94
        }
      ],
      "id": "Dc6r8Et_VHBX"
    },
    {
      "cell_type": "code",
      "source": [
        "print(classification_report(nb_p,y_test))"
      ],
      "metadata": {
        "colab": {
          "base_uri": "https://localhost:8080/"
        },
        "id": "slJs1dO8VHBX",
        "outputId": "75048ffc-1e0c-44b3-8305-7eb8a76e42b7"
      },
      "execution_count": 95,
      "outputs": [
        {
          "output_type": "stream",
          "name": "stdout",
          "text": [
            "              precision    recall  f1-score   support\n",
            "\n",
            "           0       0.88      0.86      0.87       765\n",
            "           1       0.21      0.24      0.22       117\n",
            "\n",
            "    accuracy                           0.78       882\n",
            "   macro avg       0.54      0.55      0.55       882\n",
            "weighted avg       0.79      0.78      0.79       882\n",
            "\n"
          ]
        }
      ],
      "id": "slJs1dO8VHBX"
    },
    {
      "cell_type": "markdown",
      "source": [
        "### 7.SVM"
      ],
      "metadata": {
        "id": "XePaEj6rVHBX"
      },
      "id": "XePaEj6rVHBX"
    },
    {
      "cell_type": "code",
      "source": [
        "from sklearn.svm import SVC\n",
        "svc=SVC()"
      ],
      "metadata": {
        "id": "YlCAAa9UVHBY"
      },
      "execution_count": 96,
      "outputs": [],
      "id": "YlCAAa9UVHBY"
    },
    {
      "cell_type": "code",
      "source": [
        "svc.fit(x_train,y_train)"
      ],
      "metadata": {
        "colab": {
          "base_uri": "https://localhost:8080/",
          "height": 75
        },
        "id": "co_duwjAVHBY",
        "outputId": "46c62ae3-67c8-4366-ae03-3831a52e55b2"
      },
      "execution_count": 97,
      "outputs": [
        {
          "output_type": "execute_result",
          "data": {
            "text/plain": [
              "SVC()"
            ],
            "text/html": [
              "<style>#sk-container-id-7 {color: black;background-color: white;}#sk-container-id-7 pre{padding: 0;}#sk-container-id-7 div.sk-toggleable {background-color: white;}#sk-container-id-7 label.sk-toggleable__label {cursor: pointer;display: block;width: 100%;margin-bottom: 0;padding: 0.3em;box-sizing: border-box;text-align: center;}#sk-container-id-7 label.sk-toggleable__label-arrow:before {content: \"▸\";float: left;margin-right: 0.25em;color: #696969;}#sk-container-id-7 label.sk-toggleable__label-arrow:hover:before {color: black;}#sk-container-id-7 div.sk-estimator:hover label.sk-toggleable__label-arrow:before {color: black;}#sk-container-id-7 div.sk-toggleable__content {max-height: 0;max-width: 0;overflow: hidden;text-align: left;background-color: #f0f8ff;}#sk-container-id-7 div.sk-toggleable__content pre {margin: 0.2em;color: black;border-radius: 0.25em;background-color: #f0f8ff;}#sk-container-id-7 input.sk-toggleable__control:checked~div.sk-toggleable__content {max-height: 200px;max-width: 100%;overflow: auto;}#sk-container-id-7 input.sk-toggleable__control:checked~label.sk-toggleable__label-arrow:before {content: \"▾\";}#sk-container-id-7 div.sk-estimator input.sk-toggleable__control:checked~label.sk-toggleable__label {background-color: #d4ebff;}#sk-container-id-7 div.sk-label input.sk-toggleable__control:checked~label.sk-toggleable__label {background-color: #d4ebff;}#sk-container-id-7 input.sk-hidden--visually {border: 0;clip: rect(1px 1px 1px 1px);clip: rect(1px, 1px, 1px, 1px);height: 1px;margin: -1px;overflow: hidden;padding: 0;position: absolute;width: 1px;}#sk-container-id-7 div.sk-estimator {font-family: monospace;background-color: #f0f8ff;border: 1px dotted black;border-radius: 0.25em;box-sizing: border-box;margin-bottom: 0.5em;}#sk-container-id-7 div.sk-estimator:hover {background-color: #d4ebff;}#sk-container-id-7 div.sk-parallel-item::after {content: \"\";width: 100%;border-bottom: 1px solid gray;flex-grow: 1;}#sk-container-id-7 div.sk-label:hover label.sk-toggleable__label {background-color: #d4ebff;}#sk-container-id-7 div.sk-serial::before {content: \"\";position: absolute;border-left: 1px solid gray;box-sizing: border-box;top: 0;bottom: 0;left: 50%;z-index: 0;}#sk-container-id-7 div.sk-serial {display: flex;flex-direction: column;align-items: center;background-color: white;padding-right: 0.2em;padding-left: 0.2em;position: relative;}#sk-container-id-7 div.sk-item {position: relative;z-index: 1;}#sk-container-id-7 div.sk-parallel {display: flex;align-items: stretch;justify-content: center;background-color: white;position: relative;}#sk-container-id-7 div.sk-item::before, #sk-container-id-7 div.sk-parallel-item::before {content: \"\";position: absolute;border-left: 1px solid gray;box-sizing: border-box;top: 0;bottom: 0;left: 50%;z-index: -1;}#sk-container-id-7 div.sk-parallel-item {display: flex;flex-direction: column;z-index: 1;position: relative;background-color: white;}#sk-container-id-7 div.sk-parallel-item:first-child::after {align-self: flex-end;width: 50%;}#sk-container-id-7 div.sk-parallel-item:last-child::after {align-self: flex-start;width: 50%;}#sk-container-id-7 div.sk-parallel-item:only-child::after {width: 0;}#sk-container-id-7 div.sk-dashed-wrapped {border: 1px dashed gray;margin: 0 0.4em 0.5em 0.4em;box-sizing: border-box;padding-bottom: 0.4em;background-color: white;}#sk-container-id-7 div.sk-label label {font-family: monospace;font-weight: bold;display: inline-block;line-height: 1.2em;}#sk-container-id-7 div.sk-label-container {text-align: center;}#sk-container-id-7 div.sk-container {/* jupyter's `normalize.less` sets `[hidden] { display: none; }` but bootstrap.min.css set `[hidden] { display: none !important; }` so we also need the `!important` here to be able to override the default hidden behavior on the sphinx rendered scikit-learn.org. See: https://github.com/scikit-learn/scikit-learn/issues/21755 */display: inline-block !important;position: relative;}#sk-container-id-7 div.sk-text-repr-fallback {display: none;}</style><div id=\"sk-container-id-7\" class=\"sk-top-container\"><div class=\"sk-text-repr-fallback\"><pre>SVC()</pre><b>In a Jupyter environment, please rerun this cell to show the HTML representation or trust the notebook. <br />On GitHub, the HTML representation is unable to render, please try loading this page with nbviewer.org.</b></div><div class=\"sk-container\" hidden><div class=\"sk-item\"><div class=\"sk-estimator sk-toggleable\"><input class=\"sk-toggleable__control sk-hidden--visually\" id=\"sk-estimator-id-9\" type=\"checkbox\" checked><label for=\"sk-estimator-id-9\" class=\"sk-toggleable__label sk-toggleable__label-arrow\">SVC</label><div class=\"sk-toggleable__content\"><pre>SVC()</pre></div></div></div></div></div>"
            ]
          },
          "metadata": {},
          "execution_count": 97
        }
      ],
      "id": "co_duwjAVHBY"
    },
    {
      "cell_type": "code",
      "source": [
        "svc_p=svc.predict(x_test)"
      ],
      "metadata": {
        "id": "WQSGwf3_VHBY"
      },
      "execution_count": 98,
      "outputs": [],
      "id": "WQSGwf3_VHBY"
    },
    {
      "cell_type": "code",
      "source": [
        "svc_cf=confusion_matrix(svc_p,y_test)"
      ],
      "metadata": {
        "id": "rao4vnXWVHBZ"
      },
      "execution_count": 99,
      "outputs": [],
      "id": "rao4vnXWVHBZ"
    },
    {
      "cell_type": "code",
      "source": [
        "svc_acc=svc_cf.diagonal().sum()/svc_cf.sum()*100\n",
        "svc_acc"
      ],
      "metadata": {
        "colab": {
          "base_uri": "https://localhost:8080/"
        },
        "id": "LwzdvTQmVHBZ",
        "outputId": "104347fb-acb1-4175-9b7d-362dac0bcd47"
      },
      "execution_count": 100,
      "outputs": [
        {
          "output_type": "execute_result",
          "data": {
            "text/plain": [
              "84.80725623582767"
            ]
          },
          "metadata": {},
          "execution_count": 100
        }
      ],
      "id": "LwzdvTQmVHBZ"
    },
    {
      "cell_type": "code",
      "source": [
        "print(classification_report(svc_p,y_test))"
      ],
      "metadata": {
        "colab": {
          "base_uri": "https://localhost:8080/"
        },
        "id": "BOnLPtYRVHBZ",
        "outputId": "cbaae2d5-7b3c-4ce8-ab01-ef7be79a1b8d"
      },
      "execution_count": 101,
      "outputs": [
        {
          "output_type": "stream",
          "name": "stdout",
          "text": [
            "              precision    recall  f1-score   support\n",
            "\n",
            "           0       1.00      0.85      0.92       882\n",
            "           1       0.00      0.00      0.00         0\n",
            "\n",
            "    accuracy                           0.85       882\n",
            "   macro avg       0.50      0.42      0.46       882\n",
            "weighted avg       1.00      0.85      0.92       882\n",
            "\n"
          ]
        }
      ],
      "id": "BOnLPtYRVHBZ"
    },
    {
      "cell_type": "code",
      "source": [
        "from sklearn.metrics import roc_auc_score\n",
        "from sklearn.metrics import roc_curve"
      ],
      "metadata": {
        "id": "b7MW5O8oflcq"
      },
      "id": "b7MW5O8oflcq",
      "execution_count": 102,
      "outputs": []
    },
    {
      "cell_type": "code",
      "source": [
        "roc=roc_auc_score(rf_p,y_test)\n",
        "roc"
      ],
      "metadata": {
        "colab": {
          "base_uri": "https://localhost:8080/"
        },
        "id": "6TQ2Azweflft",
        "outputId": "4ce15dbb-e278-4995-f9f2-53c94ad3a37b"
      },
      "id": "6TQ2Azweflft",
      "execution_count": 103,
      "outputs": [
        {
          "output_type": "execute_result",
          "data": {
            "text/plain": [
              "0.9868006225556708"
            ]
          },
          "metadata": {},
          "execution_count": 103
        }
      ]
    },
    {
      "cell_type": "code",
      "source": [
        "rf_prob=rf.predict_proba(x_test)"
      ],
      "metadata": {
        "id": "1VPZek3_fqrG"
      },
      "id": "1VPZek3_fqrG",
      "execution_count": 104,
      "outputs": []
    },
    {
      "cell_type": "code",
      "source": [
        "df=pd.DataFrame(rf_prob)"
      ],
      "metadata": {
        "id": "dWR1Ht2bftHs"
      },
      "id": "dWR1Ht2bftHs",
      "execution_count": 105,
      "outputs": []
    },
    {
      "cell_type": "code",
      "source": [
        "fpr,tpr,threshhold=roc_curve(y_test,df.iloc[:,1])"
      ],
      "metadata": {
        "id": "paHQ4XRRfwVh"
      },
      "id": "paHQ4XRRfwVh",
      "execution_count": 106,
      "outputs": []
    },
    {
      "cell_type": "code",
      "source": [
        "plt.plot(fpr,tpr)"
      ],
      "metadata": {
        "colab": {
          "base_uri": "https://localhost:8080/",
          "height": 448
        },
        "id": "azSRJ92bfwS8",
        "outputId": "a96bb566-f14b-49e7-efc9-cb00ded3d157"
      },
      "id": "azSRJ92bfwS8",
      "execution_count": 107,
      "outputs": [
        {
          "output_type": "execute_result",
          "data": {
            "text/plain": [
              "[<matplotlib.lines.Line2D at 0x7fea826d95e0>]"
            ]
          },
          "metadata": {},
          "execution_count": 107
        },
        {
          "output_type": "display_data",
          "data": {
            "text/plain": [
              "<Figure size 640x480 with 1 Axes>"
            ],
            "image/png": "[encoded data removed]"
          },
          "metadata": {}
        }
      ]
    },
    {
      "cell_type": "markdown",
      "id": "6df3f065",
      "metadata": {
        "id": "6df3f065"
      },
      "source": [
        "# Step 4) Data Preprocessing"
      ]
    },
    {
      "cell_type": "markdown",
      "id": "c8be3ecd",
      "metadata": {
        "id": "c8be3ecd"
      },
      "source": [
        "### 1.Random Undersampling"
      ]
    },
    {
      "cell_type": "code",
      "execution_count": 108,
      "id": "e4f6a3c1",
      "metadata": {
        "id": "e4f6a3c1",
        "outputId": "4fa2be42-a9db-4145-b93f-bd828cddd326",
        "colab": {
          "base_uri": "https://localhost:8080/"
        }
      },
      "outputs": [
        {
          "output_type": "execute_result",
          "data": {
            "text/plain": [
              "(3699, 711)"
            ]
          },
          "metadata": {},
          "execution_count": 108
        }
      ],
      "source": [
        "c_1,c_0=data[\"Attrition\"].value_counts()\n",
        "c_1,c_0"
      ]
    },
    {
      "cell_type": "code",
      "execution_count": 109,
      "id": "76204eb1",
      "metadata": {
        "id": "76204eb1"
      },
      "outputs": [],
      "source": [
        "data_0=data.loc[data[\"Attrition\"]==0]\n",
        "data_1=data.loc[data[\"Attrition\"]==1]"
      ]
    },
    {
      "cell_type": "code",
      "execution_count": 110,
      "id": "099498c6",
      "metadata": {
        "id": "099498c6",
        "outputId": "e9f20330-b4e2-4054-c228-acc3f4c0839e",
        "colab": {
          "base_uri": "https://localhost:8080/"
        }
      },
      "outputs": [
        {
          "output_type": "execute_result",
          "data": {
            "text/plain": [
              "((3699, 20), (711, 20))"
            ]
          },
          "metadata": {},
          "execution_count": 110
        }
      ],
      "source": [
        "data_0.shape,data_1.shape"
      ]
    },
    {
      "cell_type": "code",
      "execution_count": 111,
      "id": "8807f1d3",
      "metadata": {
        "id": "8807f1d3"
      },
      "outputs": [],
      "source": [
        "class_0under=data_0.sample(711)"
      ]
    },
    {
      "cell_type": "code",
      "execution_count": 112,
      "id": "994cfdd8",
      "metadata": {
        "id": "994cfdd8"
      },
      "outputs": [],
      "source": [
        "class1_0=pd.concat([class_0under,data_1],axis=0)"
      ]
    },
    {
      "cell_type": "code",
      "execution_count": 113,
      "id": "908fc32b",
      "metadata": {
        "id": "908fc32b",
        "outputId": "0b93f633-ca38-4aaf-c2d5-03f46cac16ae",
        "colab": {
          "base_uri": "https://localhost:8080/"
        }
      },
      "outputs": [
        {
          "output_type": "execute_result",
          "data": {
            "text/plain": [
              "(1422, 20)"
            ]
          },
          "metadata": {},
          "execution_count": 113
        }
      ],
      "source": [
        "class1_0.head()\n",
        "class1_0.shape"
      ]
    },
    {
      "cell_type": "code",
      "execution_count": 114,
      "id": "a70b744a",
      "metadata": {
        "id": "a70b744a",
        "outputId": "985f83fd-760e-48d6-9c8f-5b514d3ea575",
        "colab": {
          "base_uri": "https://localhost:8080/"
        }
      },
      "outputs": [
        {
          "output_type": "execute_result",
          "data": {
            "text/plain": [
              "0    711\n",
              "1    711\n",
              "Name: Attrition, dtype: int64"
            ]
          },
          "metadata": {},
          "execution_count": 114
        }
      ],
      "source": [
        "class1_0.Attrition.value_counts()"
      ]
    },
    {
      "cell_type": "code",
      "execution_count": 115,
      "id": "db7a35ef",
      "metadata": {
        "id": "db7a35ef",
        "colab": {
          "base_uri": "https://localhost:8080/",
          "height": 0
        },
        "outputId": "ac3bcc46-c057-47cf-8ce9-959ca2f606e2"
      },
      "outputs": [
        {
          "output_type": "execute_result",
          "data": {
            "text/plain": [
              "      Age  BusinessTravel  Department  DistanceFromHome  Education  \\\n",
              "1787   54               2           1                18          4   \n",
              "981    31               1           2                 3          3   \n",
              "1888   35               2           1                 2          1   \n",
              "1122   35               2           1                25          1   \n",
              "1010   53               0           1                10          4   \n",
              "...   ...             ...         ...               ...        ...   \n",
              "4381   29               2           1                 7          1   \n",
              "4386   33               2           2                11          4   \n",
              "4388   33               2           2                 1          3   \n",
              "4391   32               2           2                23          1   \n",
              "4402   37               1           2                 2          3   \n",
              "\n",
              "      EducationField  Gender  JobLevel  JobRole  MaritalStatus  MonthlyIncome  \\\n",
              "1787               3       0         2        2              0      10.812351   \n",
              "981                2       1         2        7              2      10.740952   \n",
              "1888               1       1         3        0              1      11.572043   \n",
              "1122               3       1         1        7              1      10.898589   \n",
              "1010               3       1         2        0              1       9.937889   \n",
              "...              ...     ...       ...      ...            ...            ...   \n",
              "4381               1       0         1        6              2       9.989665   \n",
              "4386               2       1         1        6              1      11.176053   \n",
              "4388               1       1         2        3              1      10.848754   \n",
              "4391               1       1         3        0              2      10.113748   \n",
              "4402               2       1         1        2              0      10.596885   \n",
              "\n",
              "      NumCompaniesWorked  PercentSalaryHike  StockOptionLevel  \\\n",
              "1787            3.000000                 15                 1   \n",
              "981             1.414214                 18                 1   \n",
              "1888            1.000000                 22                 0   \n",
              "1122            0.000000                 18                 0   \n",
              "1010            2.000000                 13                 2   \n",
              "...                  ...                ...               ...   \n",
              "4381            1.000000                 21                 0   \n",
              "4386            2.236068                 21                 0   \n",
              "4388            2.645751                 11                 0   \n",
              "4391            0.000000                 11                 0   \n",
              "4402            2.449490                 11                 1   \n",
              "\n",
              "      TotalWorkingYears  TrainingTimesLastYear  YearsAtCompany  \\\n",
              "1787           3.000000                      2        2.236068   \n",
              "981            3.000000                      3        2.236068   \n",
              "1888           3.162278                      3        3.162278   \n",
              "1122           2.449490                      4        2.236068   \n",
              "1010           5.196152                      2        1.732051   \n",
              "...                 ...                    ...             ...   \n",
              "4381           2.000000                      2        2.000000   \n",
              "4386           2.828427                      2        2.236068   \n",
              "4388           3.605551                      2        3.000000   \n",
              "4391           2.000000                      2        1.732051   \n",
              "4402           4.123106                      2        1.000000   \n",
              "\n",
              "      YearsSinceLastPromotion  YearsWithCurrManager  Attrition  \n",
              "1787                      1.0                     4          0  \n",
              "981                       1.0                     4          0  \n",
              "1888                      0.0                     7          0  \n",
              "1122                      0.0                     4          0  \n",
              "1010                      0.0                     2          0  \n",
              "...                       ...                   ...        ...  \n",
              "4381                      0.0                     1          1  \n",
              "4386                      0.0                     4          1  \n",
              "4388                      1.0                     7          1  \n",
              "4391                      1.0                     2          1  \n",
              "4402                      0.0                     0          1  \n",
              "\n",
              "[1422 rows x 20 columns]"
            ],
            "text/html": [
              "\n",
              "  <div id=\"df-2f423077-765b-4039-89e0-2ba69436b7b8\">\n",
              "    <div class=\"colab-df-container\">\n",
              "      <div>\n",
              "<style scoped>\n",
              "    .dataframe tbody tr th:only-of-type {\n",
              "        vertical-align: middle;\n",
              "    }\n",
              "\n",
              "    .dataframe tbody tr th {\n",
              "        vertical-align: top;\n",
              "    }\n",
              "\n",
              "    .dataframe thead th {\n",
              "        text-align: right;\n",
              "    }\n",
              "</style>\n",
              "<table border=\"1\" class=\"dataframe\">\n",
              "  <thead>\n",
              "    <tr style=\"text-align: right;\">\n",
              "      <th></th>\n",
              "      <th>Age</th>\n",
              "      <th>BusinessTravel</th>\n",
              "      <th>Department</th>\n",
              "      <th>DistanceFromHome</th>\n",
              "      <th>Education</th>\n",
              "      <th>EducationField</th>\n",
              "      <th>Gender</th>\n",
              "      <th>JobLevel</th>\n",
              "      <th>JobRole</th>\n",
              "      <th>MaritalStatus</th>\n",
              "      <th>MonthlyIncome</th>\n",
              "      <th>NumCompaniesWorked</th>\n",
              "      <th>PercentSalaryHike</th>\n",
              "      <th>StockOptionLevel</th>\n",
              "      <th>TotalWorkingYears</th>\n",
              "      <th>TrainingTimesLastYear</th>\n",
              "      <th>YearsAtCompany</th>\n",
              "      <th>YearsSinceLastPromotion</th>\n",
              "      <th>YearsWithCurrManager</th>\n",
              "      <th>Attrition</th>\n",
              "    </tr>\n",
              "  </thead>\n",
              "  <tbody>\n",
              "    <tr>\n",
              "      <th>1787</th>\n",
              "      <td>54</td>\n",
              "      <td>2</td>\n",
              "      <td>1</td>\n",
              "      <td>18</td>\n",
              "      <td>4</td>\n",
              "      <td>3</td>\n",
              "      <td>0</td>\n",
              "      <td>2</td>\n",
              "      <td>2</td>\n",
              "      <td>0</td>\n",
              "      <td>10.812351</td>\n",
              "      <td>3.000000</td>\n",
              "      <td>15</td>\n",
              "      <td>1</td>\n",
              "      <td>3.000000</td>\n",
              "      <td>2</td>\n",
              "      <td>2.236068</td>\n",
              "      <td>1.0</td>\n",
              "      <td>4</td>\n",
              "      <td>0</td>\n",
              "    </tr>\n",
              "    <tr>\n",
              "      <th>981</th>\n",
              "      <td>31</td>\n",
              "      <td>1</td>\n",
              "      <td>2</td>\n",
              "      <td>3</td>\n",
              "      <td>3</td>\n",
              "      <td>2</td>\n",
              "      <td>1</td>\n",
              "      <td>2</td>\n",
              "      <td>7</td>\n",
              "      <td>2</td>\n",
              "      <td>10.740952</td>\n",
              "      <td>1.414214</td>\n",
              "      <td>18</td>\n",
              "      <td>1</td>\n",
              "      <td>3.000000</td>\n",
              "      <td>3</td>\n",
              "      <td>2.236068</td>\n",
              "      <td>1.0</td>\n",
              "      <td>4</td>\n",
              "      <td>0</td>\n",
              "    </tr>\n",
              "    <tr>\n",
              "      <th>1888</th>\n",
              "      <td>35</td>\n",
              "      <td>2</td>\n",
              "      <td>1</td>\n",
              "      <td>2</td>\n",
              "      <td>1</td>\n",
              "      <td>1</td>\n",
              "      <td>1</td>\n",
              "      <td>3</td>\n",
              "      <td>0</td>\n",
              "      <td>1</td>\n",
              "      <td>11.572043</td>\n",
              "      <td>1.000000</td>\n",
              "      <td>22</td>\n",
              "      <td>0</td>\n",
              "      <td>3.162278</td>\n",
              "      <td>3</td>\n",
              "      <td>3.162278</td>\n",
              "      <td>0.0</td>\n",
              "      <td>7</td>\n",
              "      <td>0</td>\n",
              "    </tr>\n",
              "    <tr>\n",
              "      <th>1122</th>\n",
              "      <td>35</td>\n",
              "      <td>2</td>\n",
              "      <td>1</td>\n",
              "      <td>25</td>\n",
              "      <td>1</td>\n",
              "      <td>3</td>\n",
              "      <td>1</td>\n",
              "      <td>1</td>\n",
              "      <td>7</td>\n",
              "      <td>1</td>\n",
              "      <td>10.898589</td>\n",
              "      <td>0.000000</td>\n",
              "      <td>18</td>\n",
              "      <td>0</td>\n",
              "      <td>2.449490</td>\n",
              "      <td>4</td>\n",
              "      <td>2.236068</td>\n",
              "      <td>0.0</td>\n",
              "      <td>4</td>\n",
              "      <td>0</td>\n",
              "    </tr>\n",
              "    <tr>\n",
              "      <th>1010</th>\n",
              "      <td>53</td>\n",
              "      <td>0</td>\n",
              "      <td>1</td>\n",
              "      <td>10</td>\n",
              "      <td>4</td>\n",
              "      <td>3</td>\n",
              "      <td>1</td>\n",
              "      <td>2</td>\n",
              "      <td>0</td>\n",
              "      <td>1</td>\n",
              "      <td>9.937889</td>\n",
              "      <td>2.000000</td>\n",
              "      <td>13</td>\n",
              "      <td>2</td>\n",
              "      <td>5.196152</td>\n",
              "      <td>2</td>\n",
              "      <td>1.732051</td>\n",
              "      <td>0.0</td>\n",
              "      <td>2</td>\n",
              "      <td>0</td>\n",
              "    </tr>\n",
              "    <tr>\n",
              "      <th>...</th>\n",
              "      <td>...</td>\n",
              "      <td>...</td>\n",
              "      <td>...</td>\n",
              "      <td>...</td>\n",
              "      <td>...</td>\n",
              "      <td>...</td>\n",
              "      <td>...</td>\n",
              "      <td>...</td>\n",
              "      <td>...</td>\n",
              "      <td>...</td>\n",
              "      <td>...</td>\n",
              "      <td>...</td>\n",
              "      <td>...</td>\n",
              "      <td>...</td>\n",
              "      <td>...</td>\n",
              "      <td>...</td>\n",
              "      <td>...</td>\n",
              "      <td>...</td>\n",
              "      <td>...</td>\n",
              "      <td>...</td>\n",
              "    </tr>\n",
              "    <tr>\n",
              "      <th>4381</th>\n",
              "      <td>29</td>\n",
              "      <td>2</td>\n",
              "      <td>1</td>\n",
              "      <td>7</td>\n",
              "      <td>1</td>\n",
              "      <td>1</td>\n",
              "      <td>0</td>\n",
              "      <td>1</td>\n",
              "      <td>6</td>\n",
              "      <td>2</td>\n",
              "      <td>9.989665</td>\n",
              "      <td>1.000000</td>\n",
              "      <td>21</td>\n",
              "      <td>0</td>\n",
              "      <td>2.000000</td>\n",
              "      <td>2</td>\n",
              "      <td>2.000000</td>\n",
              "      <td>0.0</td>\n",
              "      <td>1</td>\n",
              "      <td>1</td>\n",
              "    </tr>\n",
              "    <tr>\n",
              "      <th>4386</th>\n",
              "      <td>33</td>\n",
              "      <td>2</td>\n",
              "      <td>2</td>\n",
              "      <td>11</td>\n",
              "      <td>4</td>\n",
              "      <td>2</td>\n",
              "      <td>1</td>\n",
              "      <td>1</td>\n",
              "      <td>6</td>\n",
              "      <td>1</td>\n",
              "      <td>11.176053</td>\n",
              "      <td>2.236068</td>\n",
              "      <td>21</td>\n",
              "      <td>0</td>\n",
              "      <td>2.828427</td>\n",
              "      <td>2</td>\n",
              "      <td>2.236068</td>\n",
              "      <td>0.0</td>\n",
              "      <td>4</td>\n",
              "      <td>1</td>\n",
              "    </tr>\n",
              "    <tr>\n",
              "      <th>4388</th>\n",
              "      <td>33</td>\n",
              "      <td>2</td>\n",
              "      <td>2</td>\n",
              "      <td>1</td>\n",
              "      <td>3</td>\n",
              "      <td>1</td>\n",
              "      <td>1</td>\n",
              "      <td>2</td>\n",
              "      <td>3</td>\n",
              "      <td>1</td>\n",
              "      <td>10.848754</td>\n",
              "      <td>2.645751</td>\n",
              "      <td>11</td>\n",
              "      <td>0</td>\n",
              "      <td>3.605551</td>\n",
              "      <td>2</td>\n",
              "      <td>3.000000</td>\n",
              "      <td>1.0</td>\n",
              "      <td>7</td>\n",
              "      <td>1</td>\n",
              "    </tr>\n",
              "    <tr>\n",
              "      <th>4391</th>\n",
              "      <td>32</td>\n",
              "      <td>2</td>\n",
              "      <td>2</td>\n",
              "      <td>23</td>\n",
              "      <td>1</td>\n",
              "      <td>1</td>\n",
              "      <td>1</td>\n",
              "      <td>3</td>\n",
              "      <td>0</td>\n",
              "      <td>2</td>\n",
              "      <td>10.113748</td>\n",
              "      <td>0.000000</td>\n",
              "      <td>11</td>\n",
              "      <td>0</td>\n",
              "      <td>2.000000</td>\n",
              "      <td>2</td>\n",
              "      <td>1.732051</td>\n",
              "      <td>1.0</td>\n",
              "      <td>2</td>\n",
              "      <td>1</td>\n",
              "    </tr>\n",
              "    <tr>\n",
              "      <th>4402</th>\n",
              "      <td>37</td>\n",
              "      <td>1</td>\n",
              "      <td>2</td>\n",
              "      <td>2</td>\n",
              "      <td>3</td>\n",
              "      <td>2</td>\n",
              "      <td>1</td>\n",
              "      <td>1</td>\n",
              "      <td>2</td>\n",
              "      <td>0</td>\n",
              "      <td>10.596885</td>\n",
              "      <td>2.449490</td>\n",
              "      <td>11</td>\n",
              "      <td>1</td>\n",
              "      <td>4.123106</td>\n",
              "      <td>2</td>\n",
              "      <td>1.000000</td>\n",
              "      <td>0.0</td>\n",
              "      <td>0</td>\n",
              "      <td>1</td>\n",
              "    </tr>\n",
              "  </tbody>\n",
              "</table>\n",
              "<p>1422 rows × 20 columns</p>\n",
              "</div>\n",
              "      <button class=\"colab-df-convert\" onclick=\"convertToInteractive('df-2f423077-765b-4039-89e0-2ba69436b7b8')\"\n",
              "              title=\"Convert this dataframe to an interactive table.\"\n",
              "              style=\"display:none;\">\n",
              "        \n",
              "  <svg xmlns=\"http://www.w3.org/2000/svg\" height=\"24px\"viewBox=\"0 0 24 24\"\n",
              "       width=\"24px\">\n",
              "    <path d=\"M0 0h24v24H0V0z\" fill=\"none\"/>\n",
              "    <path d=\"M18.56 5.44l.94 2.06.94-2.06 2.06-.94-2.06-.94-.94-2.06-.94 2.06-2.06.94zm-11 1L8.5 8.5l.94-2.06 2.06-.94-2.06-.94L8.5 2.5l-.94 2.06-2.06.94zm10 10l.94 2.06.94-2.06 2.06-.94-2.06-.94-.94-2.06-.94 2.06-2.06.94z\"/><path d=\"M17.41 7.96l-1.37-1.37c-.4-.4-.92-.59-1.43-.59-.52 0-1.04.2-1.43.59L10.3 9.45l-7.72 7.72c-.78.78-.78 2.05 0 2.83L4 21.41c.39.39.9.59 1.41.59.51 0 1.02-.2 1.41-.59l7.78-7.78 2.81-2.81c.8-.78.8-2.07 0-2.86zM5.41 20L4 18.59l7.72-7.72 1.47 1.35L5.41 20z\"/>\n",
              "  </svg>\n",
              "      </button>\n",
              "      \n",
              "  <style>\n",
              "    .colab-df-container {\n",
              "      display:flex;\n",
              "      flex-wrap:wrap;\n",
              "      gap: 12px;\n",
              "    }\n",
              "\n",
              "    .colab-df-convert {\n",
              "      background-color: #E8F0FE;\n",
              "      border: none;\n",
              "      border-radius: 50%;\n",
              "      cursor: pointer;\n",
              "      display: none;\n",
              "      fill: #1967D2;\n",
              "      height: 32px;\n",
              "      padding: 0 0 0 0;\n",
              "      width: 32px;\n",
              "    }\n",
              "\n",
              "    .colab-df-convert:hover {\n",
              "      background-color: #E2EBFA;\n",
              "      box-shadow: 0px 1px 2px rgba(60, 64, 67, 0.3), 0px 1px 3px 1px rgba(60, 64, 67, 0.15);\n",
              "      fill: #174EA6;\n",
              "    }\n",
              "\n",
              "    [theme=dark] .colab-df-convert {\n",
              "      background-color: #3B4455;\n",
              "      fill: #D2E3FC;\n",
              "    }\n",
              "\n",
              "    [theme=dark] .colab-df-convert:hover {\n",
              "      background-color: #434B5C;\n",
              "      box-shadow: 0px 1px 3px 1px rgba(0, 0, 0, 0.15);\n",
              "      filter: drop-shadow(0px 1px 2px rgba(0, 0, 0, 0.3));\n",
              "      fill: #FFFFFF;\n",
              "    }\n",
              "  </style>\n",
              "\n",
              "      <script>\n",
              "        const buttonEl =\n",
              "          document.querySelector('#df-2f423077-765b-4039-89e0-2ba69436b7b8 button.colab-df-convert');\n",
              "        buttonEl.style.display =\n",
              "          google.colab.kernel.accessAllowed ? 'block' : 'none';\n",
              "\n",
              "        async function convertToInteractive(key) {\n",
              "          const element = document.querySelector('#df-2f423077-765b-4039-89e0-2ba69436b7b8');\n",
              "          const dataTable =\n",
              "            await google.colab.kernel.invokeFunction('convertToInteractive',\n",
              "                                                     [key], {});\n",
              "          if (!dataTable) return;\n",
              "\n",
              "          const docLinkHtml = 'Like what you see? Visit the ' +\n",
              "            '<a target=\"_blank\" href=https://colab.research.google.com/notebooks/data_table.ipynb>data table notebook</a>'\n",
              "            + ' to learn more about interactive tables.';\n",
              "          element.innerHTML = '';\n",
              "          dataTable['output_type'] = 'display_data';\n",
              "          await google.colab.output.renderOutput(dataTable, element);\n",
              "          const docLink = document.createElement('div');\n",
              "          docLink.innerHTML = docLinkHtml;\n",
              "          element.appendChild(docLink);\n",
              "        }\n",
              "      </script>\n",
              "    </div>\n",
              "  </div>\n",
              "  "
            ]
          },
          "metadata": {},
          "execution_count": 115
        }
      ],
      "source": [
        "class1_0"
      ]
    },
    {
      "cell_type": "markdown",
      "id": "e3c3c5ed",
      "metadata": {
        "id": "e3c3c5ed"
      },
      "source": [
        "### 2. Feature Selection"
      ]
    },
    {
      "cell_type": "code",
      "source": [
        "u_x=class1_0.iloc[:,0:-1]\n",
        "u_y=class1_0.iloc[:,-1]"
      ],
      "metadata": {
        "id": "w1dfKtaoMVDl"
      },
      "id": "w1dfKtaoMVDl",
      "execution_count": 116,
      "outputs": []
    },
    {
      "cell_type": "code",
      "source": [
        "u_x_train,u_x_test,u_y_train,u_y_test=train_test_split(u_x,u_y,test_size=0.2,random_state=90)\n",
        "u_x_train.shape,u_x_test.shape,u_y_train.shape,u_y_test.shape"
      ],
      "metadata": {
        "colab": {
          "base_uri": "https://localhost:8080/"
        },
        "id": "XHlbU0waMVG6",
        "outputId": "882cb728-b2fb-431e-93ad-98bda22ef674"
      },
      "id": "XHlbU0waMVG6",
      "execution_count": 117,
      "outputs": [
        {
          "output_type": "execute_result",
          "data": {
            "text/plain": [
              "((1137, 19), (285, 19), (1137,), (285,))"
            ]
          },
          "metadata": {},
          "execution_count": 117
        }
      ]
    },
    {
      "cell_type": "code",
      "execution_count": 118,
      "id": "5e1fc885",
      "metadata": {
        "id": "5e1fc885"
      },
      "outputs": [],
      "source": [
        "from sklearn.feature_selection import RFE\n",
        "from sklearn.tree import DecisionTreeClassifier\n",
        "dTree=DecisionTreeClassifier()"
      ]
    },
    {
      "cell_type": "code",
      "execution_count": 119,
      "id": "265ac2ea",
      "metadata": {
        "id": "265ac2ea",
        "outputId": "1c245e41-1e81-4e28-f896-ad994d4477f5",
        "colab": {
          "base_uri": "https://localhost:8080/",
          "height": 0
        }
      },
      "outputs": [
        {
          "output_type": "execute_result",
          "data": {
            "text/plain": [
              "    score                  columns\n",
              "0    True                      Age\n",
              "11   True       NumCompaniesWorked\n",
              "3    True         DistanceFromHome\n",
              "4    True                Education\n",
              "16   True           YearsAtCompany\n",
              "15   True    TrainingTimesLastYear\n",
              "14   True        TotalWorkingYears\n",
              "12   True        PercentSalaryHike\n",
              "10   True            MonthlyIncome\n",
              "17  False  YearsSinceLastPromotion\n",
              "13  False         StockOptionLevel\n",
              "9   False            MaritalStatus\n",
              "1   False           BusinessTravel\n",
              "8   False                  JobRole\n",
              "7   False                 JobLevel\n",
              "6   False                   Gender\n",
              "5   False           EducationField\n",
              "2   False               Department\n",
              "18  False     YearsWithCurrManager"
            ],
            "text/html": [
              "\n",
              "  <div id=\"df-ade201ea-bee9-426b-9ce6-718f2cfbf4d4\">\n",
              "    <div class=\"colab-df-container\">\n",
              "      <div>\n",
              "<style scoped>\n",
              "    .dataframe tbody tr th:only-of-type {\n",
              "        vertical-align: middle;\n",
              "    }\n",
              "\n",
              "    .dataframe tbody tr th {\n",
              "        vertical-align: top;\n",
              "    }\n",
              "\n",
              "    .dataframe thead th {\n",
              "        text-align: right;\n",
              "    }\n",
              "</style>\n",
              "<table border=\"1\" class=\"dataframe\">\n",
              "  <thead>\n",
              "    <tr style=\"text-align: right;\">\n",
              "      <th></th>\n",
              "      <th>score</th>\n",
              "      <th>columns</th>\n",
              "    </tr>\n",
              "  </thead>\n",
              "  <tbody>\n",
              "    <tr>\n",
              "      <th>0</th>\n",
              "      <td>True</td>\n",
              "      <td>Age</td>\n",
              "    </tr>\n",
              "    <tr>\n",
              "      <th>11</th>\n",
              "      <td>True</td>\n",
              "      <td>NumCompaniesWorked</td>\n",
              "    </tr>\n",
              "    <tr>\n",
              "      <th>3</th>\n",
              "      <td>True</td>\n",
              "      <td>DistanceFromHome</td>\n",
              "    </tr>\n",
              "    <tr>\n",
              "      <th>4</th>\n",
              "      <td>True</td>\n",
              "      <td>Education</td>\n",
              "    </tr>\n",
              "    <tr>\n",
              "      <th>16</th>\n",
              "      <td>True</td>\n",
              "      <td>YearsAtCompany</td>\n",
              "    </tr>\n",
              "    <tr>\n",
              "      <th>15</th>\n",
              "      <td>True</td>\n",
              "      <td>TrainingTimesLastYear</td>\n",
              "    </tr>\n",
              "    <tr>\n",
              "      <th>14</th>\n",
              "      <td>True</td>\n",
              "      <td>TotalWorkingYears</td>\n",
              "    </tr>\n",
              "    <tr>\n",
              "      <th>12</th>\n",
              "      <td>True</td>\n",
              "      <td>PercentSalaryHike</td>\n",
              "    </tr>\n",
              "    <tr>\n",
              "      <th>10</th>\n",
              "      <td>True</td>\n",
              "      <td>MonthlyIncome</td>\n",
              "    </tr>\n",
              "    <tr>\n",
              "      <th>17</th>\n",
              "      <td>False</td>\n",
              "      <td>YearsSinceLastPromotion</td>\n",
              "    </tr>\n",
              "    <tr>\n",
              "      <th>13</th>\n",
              "      <td>False</td>\n",
              "      <td>StockOptionLevel</td>\n",
              "    </tr>\n",
              "    <tr>\n",
              "      <th>9</th>\n",
              "      <td>False</td>\n",
              "      <td>MaritalStatus</td>\n",
              "    </tr>\n",
              "    <tr>\n",
              "      <th>1</th>\n",
              "      <td>False</td>\n",
              "      <td>BusinessTravel</td>\n",
              "    </tr>\n",
              "    <tr>\n",
              "      <th>8</th>\n",
              "      <td>False</td>\n",
              "      <td>JobRole</td>\n",
              "    </tr>\n",
              "    <tr>\n",
              "      <th>7</th>\n",
              "      <td>False</td>\n",
              "      <td>JobLevel</td>\n",
              "    </tr>\n",
              "    <tr>\n",
              "      <th>6</th>\n",
              "      <td>False</td>\n",
              "      <td>Gender</td>\n",
              "    </tr>\n",
              "    <tr>\n",
              "      <th>5</th>\n",
              "      <td>False</td>\n",
              "      <td>EducationField</td>\n",
              "    </tr>\n",
              "    <tr>\n",
              "      <th>2</th>\n",
              "      <td>False</td>\n",
              "      <td>Department</td>\n",
              "    </tr>\n",
              "    <tr>\n",
              "      <th>18</th>\n",
              "      <td>False</td>\n",
              "      <td>YearsWithCurrManager</td>\n",
              "    </tr>\n",
              "  </tbody>\n",
              "</table>\n",
              "</div>\n",
              "      <button class=\"colab-df-convert\" onclick=\"convertToInteractive('df-ade201ea-bee9-426b-9ce6-718f2cfbf4d4')\"\n",
              "              title=\"Convert this dataframe to an interactive table.\"\n",
              "              style=\"display:none;\">\n",
              "        \n",
              "  <svg xmlns=\"http://www.w3.org/2000/svg\" height=\"24px\"viewBox=\"0 0 24 24\"\n",
              "       width=\"24px\">\n",
              "    <path d=\"M0 0h24v24H0V0z\" fill=\"none\"/>\n",
              "    <path d=\"M18.56 5.44l.94 2.06.94-2.06 2.06-.94-2.06-.94-.94-2.06-.94 2.06-2.06.94zm-11 1L8.5 8.5l.94-2.06 2.06-.94-2.06-.94L8.5 2.5l-.94 2.06-2.06.94zm10 10l.94 2.06.94-2.06 2.06-.94-2.06-.94-.94-2.06-.94 2.06-2.06.94z\"/><path d=\"M17.41 7.96l-1.37-1.37c-.4-.4-.92-.59-1.43-.59-.52 0-1.04.2-1.43.59L10.3 9.45l-7.72 7.72c-.78.78-.78 2.05 0 2.83L4 21.41c.39.39.9.59 1.41.59.51 0 1.02-.2 1.41-.59l7.78-7.78 2.81-2.81c.8-.78.8-2.07 0-2.86zM5.41 20L4 18.59l7.72-7.72 1.47 1.35L5.41 20z\"/>\n",
              "  </svg>\n",
              "      </button>\n",
              "      \n",
              "  <style>\n",
              "    .colab-df-container {\n",
              "      display:flex;\n",
              "      flex-wrap:wrap;\n",
              "      gap: 12px;\n",
              "    }\n",
              "\n",
              "    .colab-df-convert {\n",
              "      background-color: #E8F0FE;\n",
              "      border: none;\n",
              "      border-radius: 50%;\n",
              "      cursor: pointer;\n",
              "      display: none;\n",
              "      fill: #1967D2;\n",
              "      height: 32px;\n",
              "      padding: 0 0 0 0;\n",
              "      width: 32px;\n",
              "    }\n",
              "\n",
              "    .colab-df-convert:hover {\n",
              "      background-color: #E2EBFA;\n",
              "      box-shadow: 0px 1px 2px rgba(60, 64, 67, 0.3), 0px 1px 3px 1px rgba(60, 64, 67, 0.15);\n",
              "      fill: #174EA6;\n",
              "    }\n",
              "\n",
              "    [theme=dark] .colab-df-convert {\n",
              "      background-color: #3B4455;\n",
              "      fill: #D2E3FC;\n",
              "    }\n",
              "\n",
              "    [theme=dark] .colab-df-convert:hover {\n",
              "      background-color: #434B5C;\n",
              "      box-shadow: 0px 1px 3px 1px rgba(0, 0, 0, 0.15);\n",
              "      filter: drop-shadow(0px 1px 2px rgba(0, 0, 0, 0.3));\n",
              "      fill: #FFFFFF;\n",
              "    }\n",
              "  </style>\n",
              "\n",
              "      <script>\n",
              "        const buttonEl =\n",
              "          document.querySelector('#df-ade201ea-bee9-426b-9ce6-718f2cfbf4d4 button.colab-df-convert');\n",
              "        buttonEl.style.display =\n",
              "          google.colab.kernel.accessAllowed ? 'block' : 'none';\n",
              "\n",
              "        async function convertToInteractive(key) {\n",
              "          const element = document.querySelector('#df-ade201ea-bee9-426b-9ce6-718f2cfbf4d4');\n",
              "          const dataTable =\n",
              "            await google.colab.kernel.invokeFunction('convertToInteractive',\n",
              "                                                     [key], {});\n",
              "          if (!dataTable) return;\n",
              "\n",
              "          const docLinkHtml = 'Like what you see? Visit the ' +\n",
              "            '<a target=\"_blank\" href=https://colab.research.google.com/notebooks/data_table.ipynb>data table notebook</a>'\n",
              "            + ' to learn more about interactive tables.';\n",
              "          element.innerHTML = '';\n",
              "          dataTable['output_type'] = 'display_data';\n",
              "          await google.colab.output.renderOutput(dataTable, element);\n",
              "          const docLink = document.createElement('div');\n",
              "          docLink.innerHTML = docLinkHtml;\n",
              "          element.appendChild(docLink);\n",
              "        }\n",
              "      </script>\n",
              "    </div>\n",
              "  </div>\n",
              "  "
            ]
          },
          "metadata": {},
          "execution_count": 119
        }
      ],
      "source": [
        "rfe=RFE(dTree)\n",
        "\n",
        "rfe.fit(u_x,u_y)\n",
        "rfe.support_\n",
        "df=pd.DataFrame({\"score\":list(rfe.support_),\"columns\":list(x)})\n",
        "df1=df.sort_values([\"score\"],ascending=False)\n",
        "df1"
      ]
    },
    {
      "cell_type": "code",
      "execution_count": 120,
      "id": "8f8fd16d",
      "metadata": {
        "id": "8f8fd16d"
      },
      "outputs": [],
      "source": [
        "data=data.drop([\"JobLevel\"],axis=1)\n",
        "data=data.drop([\"BusinessTravel\"],axis=1)\n",
        "data=data.drop([\"Gender\"],axis=1)\n",
        "data=data.drop([\"NumCompaniesWorked\"],axis=1)\n",
        "data=data.drop([\"EducationField\"],axis=1)\n",
        "data=data.drop([\"StockOptionLevel\"],axis=1)\n",
        "data=data.drop([\"Education\"],axis=1)\n",
        "data=data.drop([\"Department\"],axis=1)\n",
        "data=data.drop([\"YearsSinceLastPromotion\"],axis=1)\n",
        "data=data.drop([\"MaritalStatus\"],axis=1)"
      ]
    },
    {
      "cell_type": "markdown",
      "id": "ea6b2ad3",
      "metadata": {
        "id": "ea6b2ad3"
      },
      "source": [
        "### 3.Skewness Treatment"
      ]
    },
    {
      "cell_type": "code",
      "execution_count": 121,
      "id": "8af96e2c",
      "metadata": {
        "id": "8af96e2c",
        "outputId": "f27682a5-f054-4ba4-caad-352aad812758",
        "colab": {
          "base_uri": "https://localhost:8080/"
        }
      },
      "outputs": [
        {
          "output_type": "execute_result",
          "data": {
            "text/plain": [
              "Age                      0.413005\n",
              "DistanceFromHome         0.957466\n",
              "JobRole                 -0.357027\n",
              "MonthlyIncome            0.285997\n",
              "PercentSalaryHike        0.820569\n",
              "TotalWorkingYears        0.177327\n",
              "TrainingTimesLastYear    0.552748\n",
              "YearsAtCompany           0.426544\n",
              "YearsWithCurrManager     0.832884\n",
              "Attrition                1.843111\n",
              "dtype: float64"
            ]
          },
          "metadata": {},
          "execution_count": 121
        }
      ],
      "source": [
        "data.skew()"
      ]
    },
    {
      "cell_type": "code",
      "execution_count": 122,
      "id": "d1466106",
      "metadata": {
        "id": "d1466106"
      },
      "outputs": [],
      "source": [
        "#sns.boxplot(y=data)"
      ]
    },
    {
      "cell_type": "code",
      "execution_count": 123,
      "id": "a1af2a4c",
      "metadata": {
        "id": "a1af2a4c"
      },
      "outputs": [],
      "source": [
        "data.MonthlyIncome=np.log(data.MonthlyIncome)"
      ]
    },
    {
      "cell_type": "code",
      "execution_count": 124,
      "id": "936cfae9",
      "metadata": {
        "id": "936cfae9"
      },
      "outputs": [],
      "source": [
        "data.TotalWorkingYears=np.sqrt(data.TotalWorkingYears)"
      ]
    },
    {
      "cell_type": "code",
      "execution_count": 125,
      "id": "3f4f41f3",
      "metadata": {
        "id": "3f4f41f3"
      },
      "outputs": [],
      "source": [
        "data.YearsAtCompany=np.sqrt(data.YearsAtCompany)"
      ]
    },
    {
      "cell_type": "code",
      "execution_count": 126,
      "id": "cb59e84c",
      "metadata": {
        "id": "cb59e84c",
        "outputId": "7a5a25a1-b6b8-41c4-e893-ced4f67fcb25",
        "colab": {
          "base_uri": "https://localhost:8080/"
        }
      },
      "outputs": [
        {
          "output_type": "execute_result",
          "data": {
            "text/plain": [
              "Age                      0.413005\n",
              "DistanceFromHome         0.957466\n",
              "JobRole                 -0.357027\n",
              "MonthlyIncome            0.172652\n",
              "PercentSalaryHike        0.820569\n",
              "TotalWorkingYears       -0.943003\n",
              "TrainingTimesLastYear    0.552748\n",
              "YearsAtCompany          -1.095131\n",
              "YearsWithCurrManager     0.832884\n",
              "Attrition                1.843111\n",
              "dtype: float64"
            ]
          },
          "metadata": {},
          "execution_count": 126
        }
      ],
      "source": [
        "data.skew()"
      ]
    },
    {
      "cell_type": "markdown",
      "id": "81a61af9",
      "metadata": {
        "id": "81a61af9"
      },
      "source": [
        "# Step 5) Model Building"
      ]
    },
    {
      "cell_type": "markdown",
      "id": "62b356d9",
      "metadata": {
        "id": "62b356d9"
      },
      "source": [
        "### 1.Logistic Regression"
      ]
    },
    {
      "cell_type": "code",
      "execution_count": 127,
      "id": "a004d291",
      "metadata": {
        "id": "a004d291"
      },
      "outputs": [],
      "source": [
        "y=data.Attrition"
      ]
    },
    {
      "cell_type": "code",
      "execution_count": 128,
      "id": "43a12ce1",
      "metadata": {
        "id": "43a12ce1"
      },
      "outputs": [],
      "source": [
        "x=data.iloc[:,0:-1]\n"
      ]
    },
    {
      "cell_type": "code",
      "execution_count": 129,
      "id": "20151460",
      "metadata": {
        "id": "20151460"
      },
      "outputs": [],
      "source": [
        "from sklearn.model_selection import train_test_split"
      ]
    },
    {
      "cell_type": "code",
      "execution_count": 130,
      "id": "7d6ac1e7",
      "metadata": {
        "id": "7d6ac1e7"
      },
      "outputs": [],
      "source": [
        "x_train,x_test,y_train,y_test=train_test_split(x,y,test_size=0.2,random_state=100)"
      ]
    },
    {
      "cell_type": "code",
      "execution_count": 131,
      "id": "68018808",
      "metadata": {
        "id": "68018808"
      },
      "outputs": [],
      "source": [
        "from sklearn.linear_model import LogisticRegression\n",
        "lg=LogisticRegression()"
      ]
    },
    {
      "cell_type": "code",
      "execution_count": 132,
      "id": "0b003c14",
      "metadata": {
        "id": "0b003c14",
        "outputId": "ea23e615-a1f6-481d-bb84-768650f8c12f",
        "colab": {
          "base_uri": "https://localhost:8080/"
        }
      },
      "outputs": [
        {
          "output_type": "execute_result",
          "data": {
            "text/plain": [
              "((3528, 9), (882, 9), (3528,), (882,))"
            ]
          },
          "metadata": {},
          "execution_count": 132
        }
      ],
      "source": [
        "x_train.shape,x_test.shape,y_train.shape,y_test.shape"
      ]
    },
    {
      "cell_type": "code",
      "execution_count": 133,
      "id": "d3886ea5",
      "metadata": {
        "id": "d3886ea5",
        "outputId": "18bdb335-85f6-4efd-9676-efb475ec02f4",
        "colab": {
          "base_uri": "https://localhost:8080/",
          "height": 75
        }
      },
      "outputs": [
        {
          "output_type": "execute_result",
          "data": {
            "text/plain": [
              "LogisticRegression()"
            ],
            "text/html": [
              "<style>#sk-container-id-8 {color: black;background-color: white;}#sk-container-id-8 pre{padding: 0;}#sk-container-id-8 div.sk-toggleable {background-color: white;}#sk-container-id-8 label.sk-toggleable__label {cursor: pointer;display: block;width: 100%;margin-bottom: 0;padding: 0.3em;box-sizing: border-box;text-align: center;}#sk-container-id-8 label.sk-toggleable__label-arrow:before {content: \"▸\";float: left;margin-right: 0.25em;color: #696969;}#sk-container-id-8 label.sk-toggleable__label-arrow:hover:before {color: black;}#sk-container-id-8 div.sk-estimator:hover label.sk-toggleable__label-arrow:before {color: black;}#sk-container-id-8 div.sk-toggleable__content {max-height: 0;max-width: 0;overflow: hidden;text-align: left;background-color: #f0f8ff;}#sk-container-id-8 div.sk-toggleable__content pre {margin: 0.2em;color: black;border-radius: 0.25em;background-color: #f0f8ff;}#sk-container-id-8 input.sk-toggleable__control:checked~div.sk-toggleable__content {max-height: 200px;max-width: 100%;overflow: auto;}#sk-container-id-8 input.sk-toggleable__control:checked~label.sk-toggleable__label-arrow:before {content: \"▾\";}#sk-container-id-8 div.sk-estimator input.sk-toggleable__control:checked~label.sk-toggleable__label {background-color: #d4ebff;}#sk-container-id-8 div.sk-label input.sk-toggleable__control:checked~label.sk-toggleable__label {background-color: #d4ebff;}#sk-container-id-8 input.sk-hidden--visually {border: 0;clip: rect(1px 1px 1px 1px);clip: rect(1px, 1px, 1px, 1px);height: 1px;margin: -1px;overflow: hidden;padding: 0;position: absolute;width: 1px;}#sk-container-id-8 div.sk-estimator {font-family: monospace;background-color: #f0f8ff;border: 1px dotted black;border-radius: 0.25em;box-sizing: border-box;margin-bottom: 0.5em;}#sk-container-id-8 div.sk-estimator:hover {background-color: #d4ebff;}#sk-container-id-8 div.sk-parallel-item::after {content: \"\";width: 100%;border-bottom: 1px solid gray;flex-grow: 1;}#sk-container-id-8 div.sk-label:hover label.sk-toggleable__label {background-color: #d4ebff;}#sk-container-id-8 div.sk-serial::before {content: \"\";position: absolute;border-left: 1px solid gray;box-sizing: border-box;top: 0;bottom: 0;left: 50%;z-index: 0;}#sk-container-id-8 div.sk-serial {display: flex;flex-direction: column;align-items: center;background-color: white;padding-right: 0.2em;padding-left: 0.2em;position: relative;}#sk-container-id-8 div.sk-item {position: relative;z-index: 1;}#sk-container-id-8 div.sk-parallel {display: flex;align-items: stretch;justify-content: center;background-color: white;position: relative;}#sk-container-id-8 div.sk-item::before, #sk-container-id-8 div.sk-parallel-item::before {content: \"\";position: absolute;border-left: 1px solid gray;box-sizing: border-box;top: 0;bottom: 0;left: 50%;z-index: -1;}#sk-container-id-8 div.sk-parallel-item {display: flex;flex-direction: column;z-index: 1;position: relative;background-color: white;}#sk-container-id-8 div.sk-parallel-item:first-child::after {align-self: flex-end;width: 50%;}#sk-container-id-8 div.sk-parallel-item:last-child::after {align-self: flex-start;width: 50%;}#sk-container-id-8 div.sk-parallel-item:only-child::after {width: 0;}#sk-container-id-8 div.sk-dashed-wrapped {border: 1px dashed gray;margin: 0 0.4em 0.5em 0.4em;box-sizing: border-box;padding-bottom: 0.4em;background-color: white;}#sk-container-id-8 div.sk-label label {font-family: monospace;font-weight: bold;display: inline-block;line-height: 1.2em;}#sk-container-id-8 div.sk-label-container {text-align: center;}#sk-container-id-8 div.sk-container {/* jupyter's `normalize.less` sets `[hidden] { display: none; }` but bootstrap.min.css set `[hidden] { display: none !important; }` so we also need the `!important` here to be able to override the default hidden behavior on the sphinx rendered scikit-learn.org. See: https://github.com/scikit-learn/scikit-learn/issues/21755 */display: inline-block !important;position: relative;}#sk-container-id-8 div.sk-text-repr-fallback {display: none;}</style><div id=\"sk-container-id-8\" class=\"sk-top-container\"><div class=\"sk-text-repr-fallback\"><pre>LogisticRegression()</pre><b>In a Jupyter environment, please rerun this cell to show the HTML representation or trust the notebook. <br />On GitHub, the HTML representation is unable to render, please try loading this page with nbviewer.org.</b></div><div class=\"sk-container\" hidden><div class=\"sk-item\"><div class=\"sk-estimator sk-toggleable\"><input class=\"sk-toggleable__control sk-hidden--visually\" id=\"sk-estimator-id-10\" type=\"checkbox\" checked><label for=\"sk-estimator-id-10\" class=\"sk-toggleable__label sk-toggleable__label-arrow\">LogisticRegression</label><div class=\"sk-toggleable__content\"><pre>LogisticRegression()</pre></div></div></div></div></div>"
            ]
          },
          "metadata": {},
          "execution_count": 133
        }
      ],
      "source": [
        "lg.fit(x_train,y_train)"
      ]
    },
    {
      "cell_type": "code",
      "execution_count": 134,
      "id": "2dc9999b",
      "metadata": {
        "id": "2dc9999b"
      },
      "outputs": [],
      "source": [
        "lg_p=lg.predict(x_test)"
      ]
    },
    {
      "cell_type": "code",
      "execution_count": 135,
      "id": "46e9aa9e",
      "metadata": {
        "id": "46e9aa9e"
      },
      "outputs": [],
      "source": [
        "from sklearn.metrics import confusion_matrix\n",
        "from sklearn.metrics import classification_report"
      ]
    },
    {
      "cell_type": "code",
      "execution_count": 136,
      "id": "11912488",
      "metadata": {
        "id": "11912488",
        "outputId": "8dd3f804-8802-465c-81dc-7b0b1ff35a88",
        "colab": {
          "base_uri": "https://localhost:8080/"
        }
      },
      "outputs": [
        {
          "output_type": "execute_result",
          "data": {
            "text/plain": [
              "array([[743, 132],\n",
              "       [  5,   2]])"
            ]
          },
          "metadata": {},
          "execution_count": 136
        }
      ],
      "source": [
        "lg_cf=confusion_matrix(lg_p,y_test)\n",
        "lg_cf"
      ]
    },
    {
      "cell_type": "code",
      "execution_count": 137,
      "id": "3f4a38c7",
      "metadata": {
        "id": "3f4a38c7",
        "outputId": "70f0d058-249d-4aea-f5e4-995ea93fedc9",
        "colab": {
          "base_uri": "https://localhost:8080/"
        }
      },
      "outputs": [
        {
          "output_type": "execute_result",
          "data": {
            "text/plain": [
              "84.4671201814059"
            ]
          },
          "metadata": {},
          "execution_count": 137
        }
      ],
      "source": [
        "lg_acc=lg_cf.diagonal().sum()/lg_cf.sum()*100\n",
        "lg_acc"
      ]
    },
    {
      "cell_type": "code",
      "execution_count": 138,
      "id": "c07188e1",
      "metadata": {
        "id": "c07188e1",
        "outputId": "544b033d-6438-418b-b1cc-ffcaa32e70ee",
        "colab": {
          "base_uri": "https://localhost:8080/"
        }
      },
      "outputs": [
        {
          "output_type": "stream",
          "name": "stdout",
          "text": [
            "              precision    recall  f1-score   support\n",
            "\n",
            "           0       0.99      0.85      0.92       875\n",
            "           1       0.01      0.29      0.03         7\n",
            "\n",
            "    accuracy                           0.84       882\n",
            "   macro avg       0.50      0.57      0.47       882\n",
            "weighted avg       0.99      0.84      0.91       882\n",
            "\n"
          ]
        }
      ],
      "source": [
        "print(classification_report(lg_p,y_test))"
      ]
    },
    {
      "cell_type": "markdown",
      "id": "f80ec88c",
      "metadata": {
        "id": "f80ec88c"
      },
      "source": [
        "### 2.Decision Tree"
      ]
    },
    {
      "cell_type": "code",
      "execution_count": 139,
      "id": "0aeab7ac",
      "metadata": {
        "id": "0aeab7ac"
      },
      "outputs": [],
      "source": [
        "from sklearn.tree import DecisionTreeClassifier\n",
        "dt=DecisionTreeClassifier()"
      ]
    },
    {
      "cell_type": "code",
      "execution_count": 140,
      "id": "92f18881",
      "metadata": {
        "id": "92f18881",
        "outputId": "244cb0b9-54b1-426d-964a-1ad3352dcacc",
        "colab": {
          "base_uri": "https://localhost:8080/",
          "height": 75
        }
      },
      "outputs": [
        {
          "output_type": "execute_result",
          "data": {
            "text/plain": [
              "DecisionTreeClassifier()"
            ],
            "text/html": [
              "<style>#sk-container-id-9 {color: black;background-color: white;}#sk-container-id-9 pre{padding: 0;}#sk-container-id-9 div.sk-toggleable {background-color: white;}#sk-container-id-9 label.sk-toggleable__label {cursor: pointer;display: block;width: 100%;margin-bottom: 0;padding: 0.3em;box-sizing: border-box;text-align: center;}#sk-container-id-9 label.sk-toggleable__label-arrow:before {content: \"▸\";float: left;margin-right: 0.25em;color: #696969;}#sk-container-id-9 label.sk-toggleable__label-arrow:hover:before {color: black;}#sk-container-id-9 div.sk-estimator:hover label.sk-toggleable__label-arrow:before {color: black;}#sk-container-id-9 div.sk-toggleable__content {max-height: 0;max-width: 0;overflow: hidden;text-align: left;background-color: #f0f8ff;}#sk-container-id-9 div.sk-toggleable__content pre {margin: 0.2em;color: black;border-radius: 0.25em;background-color: #f0f8ff;}#sk-container-id-9 input.sk-toggleable__control:checked~div.sk-toggleable__content {max-height: 200px;max-width: 100%;overflow: auto;}#sk-container-id-9 input.sk-toggleable__control:checked~label.sk-toggleable__label-arrow:before {content: \"▾\";}#sk-container-id-9 div.sk-estimator input.sk-toggleable__control:checked~label.sk-toggleable__label {background-color: #d4ebff;}#sk-container-id-9 div.sk-label input.sk-toggleable__control:checked~label.sk-toggleable__label {background-color: #d4ebff;}#sk-container-id-9 input.sk-hidden--visually {border: 0;clip: rect(1px 1px 1px 1px);clip: rect(1px, 1px, 1px, 1px);height: 1px;margin: -1px;overflow: hidden;padding: 0;position: absolute;width: 1px;}#sk-container-id-9 div.sk-estimator {font-family: monospace;background-color: #f0f8ff;border: 1px dotted black;border-radius: 0.25em;box-sizing: border-box;margin-bottom: 0.5em;}#sk-container-id-9 div.sk-estimator:hover {background-color: #d4ebff;}#sk-container-id-9 div.sk-parallel-item::after {content: \"\";width: 100%;border-bottom: 1px solid gray;flex-grow: 1;}#sk-container-id-9 div.sk-label:hover label.sk-toggleable__label {background-color: #d4ebff;}#sk-container-id-9 div.sk-serial::before {content: \"\";position: absolute;border-left: 1px solid gray;box-sizing: border-box;top: 0;bottom: 0;left: 50%;z-index: 0;}#sk-container-id-9 div.sk-serial {display: flex;flex-direction: column;align-items: center;background-color: white;padding-right: 0.2em;padding-left: 0.2em;position: relative;}#sk-container-id-9 div.sk-item {position: relative;z-index: 1;}#sk-container-id-9 div.sk-parallel {display: flex;align-items: stretch;justify-content: center;background-color: white;position: relative;}#sk-container-id-9 div.sk-item::before, #sk-container-id-9 div.sk-parallel-item::before {content: \"\";position: absolute;border-left: 1px solid gray;box-sizing: border-box;top: 0;bottom: 0;left: 50%;z-index: -1;}#sk-container-id-9 div.sk-parallel-item {display: flex;flex-direction: column;z-index: 1;position: relative;background-color: white;}#sk-container-id-9 div.sk-parallel-item:first-child::after {align-self: flex-end;width: 50%;}#sk-container-id-9 div.sk-parallel-item:last-child::after {align-self: flex-start;width: 50%;}#sk-container-id-9 div.sk-parallel-item:only-child::after {width: 0;}#sk-container-id-9 div.sk-dashed-wrapped {border: 1px dashed gray;margin: 0 0.4em 0.5em 0.4em;box-sizing: border-box;padding-bottom: 0.4em;background-color: white;}#sk-container-id-9 div.sk-label label {font-family: monospace;font-weight: bold;display: inline-block;line-height: 1.2em;}#sk-container-id-9 div.sk-label-container {text-align: center;}#sk-container-id-9 div.sk-container {/* jupyter's `normalize.less` sets `[hidden] { display: none; }` but bootstrap.min.css set `[hidden] { display: none !important; }` so we also need the `!important` here to be able to override the default hidden behavior on the sphinx rendered scikit-learn.org. See: https://github.com/scikit-learn/scikit-learn/issues/21755 */display: inline-block !important;position: relative;}#sk-container-id-9 div.sk-text-repr-fallback {display: none;}</style><div id=\"sk-container-id-9\" class=\"sk-top-container\"><div class=\"sk-text-repr-fallback\"><pre>DecisionTreeClassifier()</pre><b>In a Jupyter environment, please rerun this cell to show the HTML representation or trust the notebook. <br />On GitHub, the HTML representation is unable to render, please try loading this page with nbviewer.org.</b></div><div class=\"sk-container\" hidden><div class=\"sk-item\"><div class=\"sk-estimator sk-toggleable\"><input class=\"sk-toggleable__control sk-hidden--visually\" id=\"sk-estimator-id-11\" type=\"checkbox\" checked><label for=\"sk-estimator-id-11\" class=\"sk-toggleable__label sk-toggleable__label-arrow\">DecisionTreeClassifier</label><div class=\"sk-toggleable__content\"><pre>DecisionTreeClassifier()</pre></div></div></div></div></div>"
            ]
          },
          "metadata": {},
          "execution_count": 140
        }
      ],
      "source": [
        "dt.fit(x_train,y_train)"
      ]
    },
    {
      "cell_type": "code",
      "execution_count": 141,
      "id": "ff77bccd",
      "metadata": {
        "id": "ff77bccd"
      },
      "outputs": [],
      "source": [
        "dt_p=dt.predict(x_test)"
      ]
    },
    {
      "cell_type": "code",
      "execution_count": 142,
      "id": "b6c4709c",
      "metadata": {
        "id": "b6c4709c",
        "outputId": "57f03099-6e2f-4515-bc08-3f8c922ea4fc",
        "colab": {
          "base_uri": "https://localhost:8080/"
        }
      },
      "outputs": [
        {
          "output_type": "execute_result",
          "data": {
            "text/plain": [
              "array([[745,   3],\n",
              "       [  3, 131]])"
            ]
          },
          "metadata": {},
          "execution_count": 142
        }
      ],
      "source": [
        "dt_cf=confusion_matrix(dt_p,y_test)\n",
        "dt_cf"
      ]
    },
    {
      "cell_type": "code",
      "execution_count": 143,
      "id": "d1a6f8ac",
      "metadata": {
        "id": "d1a6f8ac",
        "outputId": "4643a441-0651-4f44-a18e-4570370046e3",
        "colab": {
          "base_uri": "https://localhost:8080/"
        }
      },
      "outputs": [
        {
          "output_type": "execute_result",
          "data": {
            "text/plain": [
              "99.31972789115646"
            ]
          },
          "metadata": {},
          "execution_count": 143
        }
      ],
      "source": [
        "dt_acc=dt_cf.diagonal().sum()/dt_cf.sum()*100\n",
        "dt_acc"
      ]
    },
    {
      "cell_type": "code",
      "execution_count": 144,
      "id": "044c5a78",
      "metadata": {
        "id": "044c5a78",
        "outputId": "8a311c09-2938-4df1-f6a7-4ba3650b53ab",
        "colab": {
          "base_uri": "https://localhost:8080/"
        }
      },
      "outputs": [
        {
          "output_type": "stream",
          "name": "stdout",
          "text": [
            "              precision    recall  f1-score   support\n",
            "\n",
            "           0       1.00      1.00      1.00       748\n",
            "           1       0.98      0.98      0.98       134\n",
            "\n",
            "    accuracy                           0.99       882\n",
            "   macro avg       0.99      0.99      0.99       882\n",
            "weighted avg       0.99      0.99      0.99       882\n",
            "\n"
          ]
        }
      ],
      "source": [
        "print(classification_report(dt_p,y_test))"
      ]
    },
    {
      "cell_type": "markdown",
      "id": "6cfcc314",
      "metadata": {
        "id": "6cfcc314"
      },
      "source": [
        "### 3.Random Forest"
      ]
    },
    {
      "cell_type": "code",
      "execution_count": 145,
      "id": "4426e258",
      "metadata": {
        "id": "4426e258"
      },
      "outputs": [],
      "source": [
        "from sklearn.ensemble import RandomForestClassifier\n",
        "rf=RandomForestClassifier()"
      ]
    },
    {
      "cell_type": "code",
      "execution_count": 146,
      "id": "fd10c208",
      "metadata": {
        "id": "fd10c208",
        "outputId": "cd0ccfa4-8ad5-4042-f008-946160e1d40a",
        "colab": {
          "base_uri": "https://localhost:8080/",
          "height": 75
        }
      },
      "outputs": [
        {
          "output_type": "execute_result",
          "data": {
            "text/plain": [
              "RandomForestClassifier()"
            ],
            "text/html": [
              "<style>#sk-container-id-10 {color: black;background-color: white;}#sk-container-id-10 pre{padding: 0;}#sk-container-id-10 div.sk-toggleable {background-color: white;}#sk-container-id-10 label.sk-toggleable__label {cursor: pointer;display: block;width: 100%;margin-bottom: 0;padding: 0.3em;box-sizing: border-box;text-align: center;}#sk-container-id-10 label.sk-toggleable__label-arrow:before {content: \"▸\";float: left;margin-right: 0.25em;color: #696969;}#sk-container-id-10 label.sk-toggleable__label-arrow:hover:before {color: black;}#sk-container-id-10 div.sk-estimator:hover label.sk-toggleable__label-arrow:before {color: black;}#sk-container-id-10 div.sk-toggleable__content {max-height: 0;max-width: 0;overflow: hidden;text-align: left;background-color: #f0f8ff;}#sk-container-id-10 div.sk-toggleable__content pre {margin: 0.2em;color: black;border-radius: 0.25em;background-color: #f0f8ff;}#sk-container-id-10 input.sk-toggleable__control:checked~div.sk-toggleable__content {max-height: 200px;max-width: 100%;overflow: auto;}#sk-container-id-10 input.sk-toggleable__control:checked~label.sk-toggleable__label-arrow:before {content: \"▾\";}#sk-container-id-10 div.sk-estimator input.sk-toggleable__control:checked~label.sk-toggleable__label {background-color: #d4ebff;}#sk-container-id-10 div.sk-label input.sk-toggleable__control:checked~label.sk-toggleable__label {background-color: #d4ebff;}#sk-container-id-10 input.sk-hidden--visually {border: 0;clip: rect(1px 1px 1px 1px);clip: rect(1px, 1px, 1px, 1px);height: 1px;margin: -1px;overflow: hidden;padding: 0;position: absolute;width: 1px;}#sk-container-id-10 div.sk-estimator {font-family: monospace;background-color: #f0f8ff;border: 1px dotted black;border-radius: 0.25em;box-sizing: border-box;margin-bottom: 0.5em;}#sk-container-id-10 div.sk-estimator:hover {background-color: #d4ebff;}#sk-container-id-10 div.sk-parallel-item::after {content: \"\";width: 100%;border-bottom: 1px solid gray;flex-grow: 1;}#sk-container-id-10 div.sk-label:hover label.sk-toggleable__label {background-color: #d4ebff;}#sk-container-id-10 div.sk-serial::before {content: \"\";position: absolute;border-left: 1px solid gray;box-sizing: border-box;top: 0;bottom: 0;left: 50%;z-index: 0;}#sk-container-id-10 div.sk-serial {display: flex;flex-direction: column;align-items: center;background-color: white;padding-right: 0.2em;padding-left: 0.2em;position: relative;}#sk-container-id-10 div.sk-item {position: relative;z-index: 1;}#sk-container-id-10 div.sk-parallel {display: flex;align-items: stretch;justify-content: center;background-color: white;position: relative;}#sk-container-id-10 div.sk-item::before, #sk-container-id-10 div.sk-parallel-item::before {content: \"\";position: absolute;border-left: 1px solid gray;box-sizing: border-box;top: 0;bottom: 0;left: 50%;z-index: -1;}#sk-container-id-10 div.sk-parallel-item {display: flex;flex-direction: column;z-index: 1;position: relative;background-color: white;}#sk-container-id-10 div.sk-parallel-item:first-child::after {align-self: flex-end;width: 50%;}#sk-container-id-10 div.sk-parallel-item:last-child::after {align-self: flex-start;width: 50%;}#sk-container-id-10 div.sk-parallel-item:only-child::after {width: 0;}#sk-container-id-10 div.sk-dashed-wrapped {border: 1px dashed gray;margin: 0 0.4em 0.5em 0.4em;box-sizing: border-box;padding-bottom: 0.4em;background-color: white;}#sk-container-id-10 div.sk-label label {font-family: monospace;font-weight: bold;display: inline-block;line-height: 1.2em;}#sk-container-id-10 div.sk-label-container {text-align: center;}#sk-container-id-10 div.sk-container {/* jupyter's `normalize.less` sets `[hidden] { display: none; }` but bootstrap.min.css set `[hidden] { display: none !important; }` so we also need the `!important` here to be able to override the default hidden behavior on the sphinx rendered scikit-learn.org. See: https://github.com/scikit-learn/scikit-learn/issues/21755 */display: inline-block !important;position: relative;}#sk-container-id-10 div.sk-text-repr-fallback {display: none;}</style><div id=\"sk-container-id-10\" class=\"sk-top-container\"><div class=\"sk-text-repr-fallback\"><pre>RandomForestClassifier()</pre><b>In a Jupyter environment, please rerun this cell to show the HTML representation or trust the notebook. <br />On GitHub, the HTML representation is unable to render, please try loading this page with nbviewer.org.</b></div><div class=\"sk-container\" hidden><div class=\"sk-item\"><div class=\"sk-estimator sk-toggleable\"><input class=\"sk-toggleable__control sk-hidden--visually\" id=\"sk-estimator-id-12\" type=\"checkbox\" checked><label for=\"sk-estimator-id-12\" class=\"sk-toggleable__label sk-toggleable__label-arrow\">RandomForestClassifier</label><div class=\"sk-toggleable__content\"><pre>RandomForestClassifier()</pre></div></div></div></div></div>"
            ]
          },
          "metadata": {},
          "execution_count": 146
        }
      ],
      "source": [
        "rf.fit(x_train,y_train)"
      ]
    },
    {
      "cell_type": "code",
      "execution_count": 147,
      "id": "2df5f546",
      "metadata": {
        "id": "2df5f546"
      },
      "outputs": [],
      "source": [
        "rf_p=rf.predict(x_test)"
      ]
    },
    {
      "cell_type": "code",
      "execution_count": 148,
      "id": "34876880",
      "metadata": {
        "id": "34876880",
        "outputId": "55fe79ec-0fd8-40fb-e139-516fad5fb3df",
        "colab": {
          "base_uri": "https://localhost:8080/"
        }
      },
      "outputs": [
        {
          "output_type": "execute_result",
          "data": {
            "text/plain": [
              "array([[745,   3],\n",
              "       [  3, 131]])"
            ]
          },
          "metadata": {},
          "execution_count": 148
        }
      ],
      "source": [
        "rf_cf=confusion_matrix(rf_p,y_test)\n",
        "rf_cf"
      ]
    },
    {
      "cell_type": "code",
      "execution_count": 149,
      "id": "b535470e",
      "metadata": {
        "id": "b535470e",
        "outputId": "5472edec-d662-47a7-d9b0-f7d86c4967b0",
        "colab": {
          "base_uri": "https://localhost:8080/"
        }
      },
      "outputs": [
        {
          "output_type": "execute_result",
          "data": {
            "text/plain": [
              "99.31972789115646"
            ]
          },
          "metadata": {},
          "execution_count": 149
        }
      ],
      "source": [
        "rf_acc=rf_cf.diagonal().sum()/rf_cf.sum()*100\n",
        "rf_acc"
      ]
    },
    {
      "cell_type": "code",
      "execution_count": 150,
      "id": "289942b0",
      "metadata": {
        "id": "289942b0",
        "outputId": "804cc6e0-2939-4278-ee0c-8dc4495be2c2",
        "colab": {
          "base_uri": "https://localhost:8080/"
        }
      },
      "outputs": [
        {
          "output_type": "stream",
          "name": "stdout",
          "text": [
            "              precision    recall  f1-score   support\n",
            "\n",
            "           0       1.00      1.00      1.00       748\n",
            "           1       0.98      0.98      0.98       134\n",
            "\n",
            "    accuracy                           0.99       882\n",
            "   macro avg       0.99      0.99      0.99       882\n",
            "weighted avg       0.99      0.99      0.99       882\n",
            "\n"
          ]
        }
      ],
      "source": [
        "print(classification_report(rf_p,y_test))"
      ]
    },
    {
      "cell_type": "markdown",
      "id": "18845411",
      "metadata": {
        "id": "18845411"
      },
      "source": [
        "### 4.KNN"
      ]
    },
    {
      "cell_type": "code",
      "execution_count": 151,
      "id": "30a1df10",
      "metadata": {
        "id": "30a1df10"
      },
      "outputs": [],
      "source": [
        "from sklearn.neighbors import KNeighborsClassifier\n",
        "knn= KNeighborsClassifier(n_neighbors=7)"
      ]
    },
    {
      "cell_type": "code",
      "execution_count": 152,
      "id": "82b3d811",
      "metadata": {
        "id": "82b3d811",
        "outputId": "407e9179-b1b3-49ad-9e9e-f821e110352d",
        "colab": {
          "base_uri": "https://localhost:8080/",
          "height": 75
        }
      },
      "outputs": [
        {
          "output_type": "execute_result",
          "data": {
            "text/plain": [
              "KNeighborsClassifier(n_neighbors=7)"
            ],
            "text/html": [
              "<style>#sk-container-id-11 {color: black;background-color: white;}#sk-container-id-11 pre{padding: 0;}#sk-container-id-11 div.sk-toggleable {background-color: white;}#sk-container-id-11 label.sk-toggleable__label {cursor: pointer;display: block;width: 100%;margin-bottom: 0;padding: 0.3em;box-sizing: border-box;text-align: center;}#sk-container-id-11 label.sk-toggleable__label-arrow:before {content: \"▸\";float: left;margin-right: 0.25em;color: #696969;}#sk-container-id-11 label.sk-toggleable__label-arrow:hover:before {color: black;}#sk-container-id-11 div.sk-estimator:hover label.sk-toggleable__label-arrow:before {color: black;}#sk-container-id-11 div.sk-toggleable__content {max-height: 0;max-width: 0;overflow: hidden;text-align: left;background-color: #f0f8ff;}#sk-container-id-11 div.sk-toggleable__content pre {margin: 0.2em;color: black;border-radius: 0.25em;background-color: #f0f8ff;}#sk-container-id-11 input.sk-toggleable__control:checked~div.sk-toggleable__content {max-height: 200px;max-width: 100%;overflow: auto;}#sk-container-id-11 input.sk-toggleable__control:checked~label.sk-toggleable__label-arrow:before {content: \"▾\";}#sk-container-id-11 div.sk-estimator input.sk-toggleable__control:checked~label.sk-toggleable__label {background-color: #d4ebff;}#sk-container-id-11 div.sk-label input.sk-toggleable__control:checked~label.sk-toggleable__label {background-color: #d4ebff;}#sk-container-id-11 input.sk-hidden--visually {border: 0;clip: rect(1px 1px 1px 1px);clip: rect(1px, 1px, 1px, 1px);height: 1px;margin: -1px;overflow: hidden;padding: 0;position: absolute;width: 1px;}#sk-container-id-11 div.sk-estimator {font-family: monospace;background-color: #f0f8ff;border: 1px dotted black;border-radius: 0.25em;box-sizing: border-box;margin-bottom: 0.5em;}#sk-container-id-11 div.sk-estimator:hover {background-color: #d4ebff;}#sk-container-id-11 div.sk-parallel-item::after {content: \"\";width: 100%;border-bottom: 1px solid gray;flex-grow: 1;}#sk-container-id-11 div.sk-label:hover label.sk-toggleable__label {background-color: #d4ebff;}#sk-container-id-11 div.sk-serial::before {content: \"\";position: absolute;border-left: 1px solid gray;box-sizing: border-box;top: 0;bottom: 0;left: 50%;z-index: 0;}#sk-container-id-11 div.sk-serial {display: flex;flex-direction: column;align-items: center;background-color: white;padding-right: 0.2em;padding-left: 0.2em;position: relative;}#sk-container-id-11 div.sk-item {position: relative;z-index: 1;}#sk-container-id-11 div.sk-parallel {display: flex;align-items: stretch;justify-content: center;background-color: white;position: relative;}#sk-container-id-11 div.sk-item::before, #sk-container-id-11 div.sk-parallel-item::before {content: \"\";position: absolute;border-left: 1px solid gray;box-sizing: border-box;top: 0;bottom: 0;left: 50%;z-index: -1;}#sk-container-id-11 div.sk-parallel-item {display: flex;flex-direction: column;z-index: 1;position: relative;background-color: white;}#sk-container-id-11 div.sk-parallel-item:first-child::after {align-self: flex-end;width: 50%;}#sk-container-id-11 div.sk-parallel-item:last-child::after {align-self: flex-start;width: 50%;}#sk-container-id-11 div.sk-parallel-item:only-child::after {width: 0;}#sk-container-id-11 div.sk-dashed-wrapped {border: 1px dashed gray;margin: 0 0.4em 0.5em 0.4em;box-sizing: border-box;padding-bottom: 0.4em;background-color: white;}#sk-container-id-11 div.sk-label label {font-family: monospace;font-weight: bold;display: inline-block;line-height: 1.2em;}#sk-container-id-11 div.sk-label-container {text-align: center;}#sk-container-id-11 div.sk-container {/* jupyter's `normalize.less` sets `[hidden] { display: none; }` but bootstrap.min.css set `[hidden] { display: none !important; }` so we also need the `!important` here to be able to override the default hidden behavior on the sphinx rendered scikit-learn.org. See: https://github.com/scikit-learn/scikit-learn/issues/21755 */display: inline-block !important;position: relative;}#sk-container-id-11 div.sk-text-repr-fallback {display: none;}</style><div id=\"sk-container-id-11\" class=\"sk-top-container\"><div class=\"sk-text-repr-fallback\"><pre>KNeighborsClassifier(n_neighbors=7)</pre><b>In a Jupyter environment, please rerun this cell to show the HTML representation or trust the notebook. <br />On GitHub, the HTML representation is unable to render, please try loading this page with nbviewer.org.</b></div><div class=\"sk-container\" hidden><div class=\"sk-item\"><div class=\"sk-estimator sk-toggleable\"><input class=\"sk-toggleable__control sk-hidden--visually\" id=\"sk-estimator-id-13\" type=\"checkbox\" checked><label for=\"sk-estimator-id-13\" class=\"sk-toggleable__label sk-toggleable__label-arrow\">KNeighborsClassifier</label><div class=\"sk-toggleable__content\"><pre>KNeighborsClassifier(n_neighbors=7)</pre></div></div></div></div></div>"
            ]
          },
          "metadata": {},
          "execution_count": 152
        }
      ],
      "source": [
        "knn.fit(x_train,y_train)"
      ]
    },
    {
      "cell_type": "code",
      "execution_count": 153,
      "id": "8120248a",
      "metadata": {
        "id": "8120248a"
      },
      "outputs": [],
      "source": [
        "knn_p=knn.predict(x_test)"
      ]
    },
    {
      "cell_type": "code",
      "execution_count": 154,
      "id": "6efc30c5",
      "metadata": {
        "id": "6efc30c5",
        "outputId": "7bcb204c-cc7f-42a2-c18c-addc81e2f595",
        "colab": {
          "base_uri": "https://localhost:8080/"
        }
      },
      "outputs": [
        {
          "output_type": "execute_result",
          "data": {
            "text/plain": [
              "array([[723,  94],\n",
              "       [ 25,  40]])"
            ]
          },
          "metadata": {},
          "execution_count": 154
        }
      ],
      "source": [
        "knn_cf=confusion_matrix(knn_p,y_test)\n",
        "knn_cf"
      ]
    },
    {
      "cell_type": "code",
      "execution_count": 155,
      "id": "10478829",
      "metadata": {
        "id": "10478829",
        "outputId": "902d8782-0e51-4d95-d6ca-c351d65761ef",
        "colab": {
          "base_uri": "https://localhost:8080/"
        }
      },
      "outputs": [
        {
          "output_type": "execute_result",
          "data": {
            "text/plain": [
              "86.5079365079365"
            ]
          },
          "metadata": {},
          "execution_count": 155
        }
      ],
      "source": [
        "knn_acc=knn_cf.diagonal().sum()/knn_cf.sum()*100\n",
        "knn_acc"
      ]
    },
    {
      "cell_type": "code",
      "execution_count": 156,
      "id": "9d2af56e",
      "metadata": {
        "id": "9d2af56e",
        "outputId": "397fe917-3abb-4d0b-951e-01c7de8596d6",
        "colab": {
          "base_uri": "https://localhost:8080/"
        }
      },
      "outputs": [
        {
          "output_type": "stream",
          "name": "stdout",
          "text": [
            "              precision    recall  f1-score   support\n",
            "\n",
            "           0       0.97      0.88      0.92       817\n",
            "           1       0.30      0.62      0.40        65\n",
            "\n",
            "    accuracy                           0.87       882\n",
            "   macro avg       0.63      0.75      0.66       882\n",
            "weighted avg       0.92      0.87      0.89       882\n",
            "\n"
          ]
        }
      ],
      "source": [
        "print(classification_report(knn_p,y_test))"
      ]
    },
    {
      "cell_type": "markdown",
      "id": "f5e56012",
      "metadata": {
        "id": "f5e56012"
      },
      "source": [
        "### 5.Ada Boost"
      ]
    },
    {
      "cell_type": "code",
      "execution_count": 157,
      "id": "84b741a8",
      "metadata": {
        "id": "84b741a8"
      },
      "outputs": [],
      "source": [
        "from sklearn.ensemble import AdaBoostClassifier\n",
        "from sklearn.tree import DecisionTreeClassifier"
      ]
    },
    {
      "cell_type": "code",
      "execution_count": 158,
      "id": "8f364a41",
      "metadata": {
        "id": "8f364a41"
      },
      "outputs": [],
      "source": [
        "adbo=AdaBoostClassifier(DecisionTreeClassifier(),n_estimators=5)"
      ]
    },
    {
      "cell_type": "code",
      "execution_count": 159,
      "id": "e49fff4f",
      "metadata": {
        "id": "e49fff4f",
        "outputId": "68cfcb0d-de7a-40c4-c681-443fe0872a55",
        "colab": {
          "base_uri": "https://localhost:8080/",
          "height": 118
        }
      },
      "outputs": [
        {
          "output_type": "execute_result",
          "data": {
            "text/plain": [
              "AdaBoostClassifier(estimator=DecisionTreeClassifier(), n_estimators=5)"
            ],
            "text/html": [
              "<style>#sk-container-id-12 {color: black;background-color: white;}#sk-container-id-12 pre{padding: 0;}#sk-container-id-12 div.sk-toggleable {background-color: white;}#sk-container-id-12 label.sk-toggleable__label {cursor: pointer;display: block;width: 100%;margin-bottom: 0;padding: 0.3em;box-sizing: border-box;text-align: center;}#sk-container-id-12 label.sk-toggleable__label-arrow:before {content: \"▸\";float: left;margin-right: 0.25em;color: #696969;}#sk-container-id-12 label.sk-toggleable__label-arrow:hover:before {color: black;}#sk-container-id-12 div.sk-estimator:hover label.sk-toggleable__label-arrow:before {color: black;}#sk-container-id-12 div.sk-toggleable__content {max-height: 0;max-width: 0;overflow: hidden;text-align: left;background-color: #f0f8ff;}#sk-container-id-12 div.sk-toggleable__content pre {margin: 0.2em;color: black;border-radius: 0.25em;background-color: #f0f8ff;}#sk-container-id-12 input.sk-toggleable__control:checked~div.sk-toggleable__content {max-height: 200px;max-width: 100%;overflow: auto;}#sk-container-id-12 input.sk-toggleable__control:checked~label.sk-toggleable__label-arrow:before {content: \"▾\";}#sk-container-id-12 div.sk-estimator input.sk-toggleable__control:checked~label.sk-toggleable__label {background-color: #d4ebff;}#sk-container-id-12 div.sk-label input.sk-toggleable__control:checked~label.sk-toggleable__label {background-color: #d4ebff;}#sk-container-id-12 input.sk-hidden--visually {border: 0;clip: rect(1px 1px 1px 1px);clip: rect(1px, 1px, 1px, 1px);height: 1px;margin: -1px;overflow: hidden;padding: 0;position: absolute;width: 1px;}#sk-container-id-12 div.sk-estimator {font-family: monospace;background-color: #f0f8ff;border: 1px dotted black;border-radius: 0.25em;box-sizing: border-box;margin-bottom: 0.5em;}#sk-container-id-12 div.sk-estimator:hover {background-color: #d4ebff;}#sk-container-id-12 div.sk-parallel-item::after {content: \"\";width: 100%;border-bottom: 1px solid gray;flex-grow: 1;}#sk-container-id-12 div.sk-label:hover label.sk-toggleable__label {background-color: #d4ebff;}#sk-container-id-12 div.sk-serial::before {content: \"\";position: absolute;border-left: 1px solid gray;box-sizing: border-box;top: 0;bottom: 0;left: 50%;z-index: 0;}#sk-container-id-12 div.sk-serial {display: flex;flex-direction: column;align-items: center;background-color: white;padding-right: 0.2em;padding-left: 0.2em;position: relative;}#sk-container-id-12 div.sk-item {position: relative;z-index: 1;}#sk-container-id-12 div.sk-parallel {display: flex;align-items: stretch;justify-content: center;background-color: white;position: relative;}#sk-container-id-12 div.sk-item::before, #sk-container-id-12 div.sk-parallel-item::before {content: \"\";position: absolute;border-left: 1px solid gray;box-sizing: border-box;top: 0;bottom: 0;left: 50%;z-index: -1;}#sk-container-id-12 div.sk-parallel-item {display: flex;flex-direction: column;z-index: 1;position: relative;background-color: white;}#sk-container-id-12 div.sk-parallel-item:first-child::after {align-self: flex-end;width: 50%;}#sk-container-id-12 div.sk-parallel-item:last-child::after {align-self: flex-start;width: 50%;}#sk-container-id-12 div.sk-parallel-item:only-child::after {width: 0;}#sk-container-id-12 div.sk-dashed-wrapped {border: 1px dashed gray;margin: 0 0.4em 0.5em 0.4em;box-sizing: border-box;padding-bottom: 0.4em;background-color: white;}#sk-container-id-12 div.sk-label label {font-family: monospace;font-weight: bold;display: inline-block;line-height: 1.2em;}#sk-container-id-12 div.sk-label-container {text-align: center;}#sk-container-id-12 div.sk-container {/* jupyter's `normalize.less` sets `[hidden] { display: none; }` but bootstrap.min.css set `[hidden] { display: none !important; }` so we also need the `!important` here to be able to override the default hidden behavior on the sphinx rendered scikit-learn.org. See: https://github.com/scikit-learn/scikit-learn/issues/21755 */display: inline-block !important;position: relative;}#sk-container-id-12 div.sk-text-repr-fallback {display: none;}</style><div id=\"sk-container-id-12\" class=\"sk-top-container\"><div class=\"sk-text-repr-fallback\"><pre>AdaBoostClassifier(estimator=DecisionTreeClassifier(), n_estimators=5)</pre><b>In a Jupyter environment, please rerun this cell to show the HTML representation or trust the notebook. <br />On GitHub, the HTML representation is unable to render, please try loading this page with nbviewer.org.</b></div><div class=\"sk-container\" hidden><div class=\"sk-item sk-dashed-wrapped\"><div class=\"sk-label-container\"><div class=\"sk-label sk-toggleable\"><input class=\"sk-toggleable__control sk-hidden--visually\" id=\"sk-estimator-id-14\" type=\"checkbox\" ><label for=\"sk-estimator-id-14\" class=\"sk-toggleable__label sk-toggleable__label-arrow\">AdaBoostClassifier</label><div class=\"sk-toggleable__content\"><pre>AdaBoostClassifier(estimator=DecisionTreeClassifier(), n_estimators=5)</pre></div></div></div><div class=\"sk-parallel\"><div class=\"sk-parallel-item\"><div class=\"sk-item\"><div class=\"sk-label-container\"><div class=\"sk-label sk-toggleable\"><input class=\"sk-toggleable__control sk-hidden--visually\" id=\"sk-estimator-id-15\" type=\"checkbox\" ><label for=\"sk-estimator-id-15\" class=\"sk-toggleable__label sk-toggleable__label-arrow\">estimator: DecisionTreeClassifier</label><div class=\"sk-toggleable__content\"><pre>DecisionTreeClassifier()</pre></div></div></div><div class=\"sk-serial\"><div class=\"sk-item\"><div class=\"sk-estimator sk-toggleable\"><input class=\"sk-toggleable__control sk-hidden--visually\" id=\"sk-estimator-id-16\" type=\"checkbox\" ><label for=\"sk-estimator-id-16\" class=\"sk-toggleable__label sk-toggleable__label-arrow\">DecisionTreeClassifier</label><div class=\"sk-toggleable__content\"><pre>DecisionTreeClassifier()</pre></div></div></div></div></div></div></div></div></div></div>"
            ]
          },
          "metadata": {},
          "execution_count": 159
        }
      ],
      "source": [
        "adbo.fit(x_train,y_train)"
      ]
    },
    {
      "cell_type": "code",
      "execution_count": 160,
      "id": "f3069275",
      "metadata": {
        "id": "f3069275"
      },
      "outputs": [],
      "source": [
        "adbo_p=adbo.predict(x_test)"
      ]
    },
    {
      "cell_type": "code",
      "execution_count": 161,
      "id": "5b0295dc",
      "metadata": {
        "id": "5b0295dc",
        "outputId": "2ff49939-c40c-4b6b-ac60-df0ae6814b94",
        "colab": {
          "base_uri": "https://localhost:8080/"
        }
      },
      "outputs": [
        {
          "output_type": "execute_result",
          "data": {
            "text/plain": [
              "array([[745,   3],\n",
              "       [  3, 131]])"
            ]
          },
          "metadata": {},
          "execution_count": 161
        }
      ],
      "source": [
        "adbo_cf=confusion_matrix(adbo_p,y_test)\n",
        "adbo_cf"
      ]
    },
    {
      "cell_type": "code",
      "execution_count": 162,
      "id": "17390caf",
      "metadata": {
        "id": "17390caf",
        "outputId": "57577ab0-908a-4f8f-b70d-03d6f5c1c859",
        "colab": {
          "base_uri": "https://localhost:8080/"
        }
      },
      "outputs": [
        {
          "output_type": "execute_result",
          "data": {
            "text/plain": [
              "99.31972789115646"
            ]
          },
          "metadata": {},
          "execution_count": 162
        }
      ],
      "source": [
        "adbo_acc=adbo_cf.diagonal().sum()/adbo_cf.sum()*100\n",
        "adbo_acc"
      ]
    },
    {
      "cell_type": "code",
      "execution_count": 163,
      "id": "aa5d4292",
      "metadata": {
        "id": "aa5d4292",
        "outputId": "6b32281f-e7ea-4b70-94d9-c1cde3104861",
        "colab": {
          "base_uri": "https://localhost:8080/"
        }
      },
      "outputs": [
        {
          "output_type": "stream",
          "name": "stdout",
          "text": [
            "              precision    recall  f1-score   support\n",
            "\n",
            "           0       1.00      1.00      1.00       748\n",
            "           1       0.98      0.98      0.98       134\n",
            "\n",
            "    accuracy                           0.99       882\n",
            "   macro avg       0.99      0.99      0.99       882\n",
            "weighted avg       0.99      0.99      0.99       882\n",
            "\n"
          ]
        }
      ],
      "source": [
        "print(classification_report(adbo_p,y_test))"
      ]
    },
    {
      "cell_type": "markdown",
      "source": [
        "### 6.Naive Bayes"
      ],
      "metadata": {
        "id": "R4t-8OPeOs_2"
      },
      "id": "R4t-8OPeOs_2"
    },
    {
      "cell_type": "code",
      "source": [
        "from sklearn.naive_bayes import MultinomialNB\n",
        "nb=MultinomialNB()"
      ],
      "metadata": {
        "id": "OPE4uvNUPXQ2"
      },
      "id": "OPE4uvNUPXQ2",
      "execution_count": 164,
      "outputs": []
    },
    {
      "cell_type": "code",
      "source": [
        "nb.fit(x_train,y_train)"
      ],
      "metadata": {
        "colab": {
          "base_uri": "https://localhost:8080/",
          "height": 75
        },
        "id": "InJi5jflPXUM",
        "outputId": "e69bec17-7a48-48e7-c1b4-12df7af0e0c2"
      },
      "id": "InJi5jflPXUM",
      "execution_count": 165,
      "outputs": [
        {
          "output_type": "execute_result",
          "data": {
            "text/plain": [
              "MultinomialNB()"
            ],
            "text/html": [
              "<style>#sk-container-id-13 {color: black;background-color: white;}#sk-container-id-13 pre{padding: 0;}#sk-container-id-13 div.sk-toggleable {background-color: white;}#sk-container-id-13 label.sk-toggleable__label {cursor: pointer;display: block;width: 100%;margin-bottom: 0;padding: 0.3em;box-sizing: border-box;text-align: center;}#sk-container-id-13 label.sk-toggleable__label-arrow:before {content: \"▸\";float: left;margin-right: 0.25em;color: #696969;}#sk-container-id-13 label.sk-toggleable__label-arrow:hover:before {color: black;}#sk-container-id-13 div.sk-estimator:hover label.sk-toggleable__label-arrow:before {color: black;}#sk-container-id-13 div.sk-toggleable__content {max-height: 0;max-width: 0;overflow: hidden;text-align: left;background-color: #f0f8ff;}#sk-container-id-13 div.sk-toggleable__content pre {margin: 0.2em;color: black;border-radius: 0.25em;background-color: #f0f8ff;}#sk-container-id-13 input.sk-toggleable__control:checked~div.sk-toggleable__content {max-height: 200px;max-width: 100%;overflow: auto;}#sk-container-id-13 input.sk-toggleable__control:checked~label.sk-toggleable__label-arrow:before {content: \"▾\";}#sk-container-id-13 div.sk-estimator input.sk-toggleable__control:checked~label.sk-toggleable__label {background-color: #d4ebff;}#sk-container-id-13 div.sk-label input.sk-toggleable__control:checked~label.sk-toggleable__label {background-color: #d4ebff;}#sk-container-id-13 input.sk-hidden--visually {border: 0;clip: rect(1px 1px 1px 1px);clip: rect(1px, 1px, 1px, 1px);height: 1px;margin: -1px;overflow: hidden;padding: 0;position: absolute;width: 1px;}#sk-container-id-13 div.sk-estimator {font-family: monospace;background-color: #f0f8ff;border: 1px dotted black;border-radius: 0.25em;box-sizing: border-box;margin-bottom: 0.5em;}#sk-container-id-13 div.sk-estimator:hover {background-color: #d4ebff;}#sk-container-id-13 div.sk-parallel-item::after {content: \"\";width: 100%;border-bottom: 1px solid gray;flex-grow: 1;}#sk-container-id-13 div.sk-label:hover label.sk-toggleable__label {background-color: #d4ebff;}#sk-container-id-13 div.sk-serial::before {content: \"\";position: absolute;border-left: 1px solid gray;box-sizing: border-box;top: 0;bottom: 0;left: 50%;z-index: 0;}#sk-container-id-13 div.sk-serial {display: flex;flex-direction: column;align-items: center;background-color: white;padding-right: 0.2em;padding-left: 0.2em;position: relative;}#sk-container-id-13 div.sk-item {position: relative;z-index: 1;}#sk-container-id-13 div.sk-parallel {display: flex;align-items: stretch;justify-content: center;background-color: white;position: relative;}#sk-container-id-13 div.sk-item::before, #sk-container-id-13 div.sk-parallel-item::before {content: \"\";position: absolute;border-left: 1px solid gray;box-sizing: border-box;top: 0;bottom: 0;left: 50%;z-index: -1;}#sk-container-id-13 div.sk-parallel-item {display: flex;flex-direction: column;z-index: 1;position: relative;background-color: white;}#sk-container-id-13 div.sk-parallel-item:first-child::after {align-self: flex-end;width: 50%;}#sk-container-id-13 div.sk-parallel-item:last-child::after {align-self: flex-start;width: 50%;}#sk-container-id-13 div.sk-parallel-item:only-child::after {width: 0;}#sk-container-id-13 div.sk-dashed-wrapped {border: 1px dashed gray;margin: 0 0.4em 0.5em 0.4em;box-sizing: border-box;padding-bottom: 0.4em;background-color: white;}#sk-container-id-13 div.sk-label label {font-family: monospace;font-weight: bold;display: inline-block;line-height: 1.2em;}#sk-container-id-13 div.sk-label-container {text-align: center;}#sk-container-id-13 div.sk-container {/* jupyter's `normalize.less` sets `[hidden] { display: none; }` but bootstrap.min.css set `[hidden] { display: none !important; }` so we also need the `!important` here to be able to override the default hidden behavior on the sphinx rendered scikit-learn.org. See: https://github.com/scikit-learn/scikit-learn/issues/21755 */display: inline-block !important;position: relative;}#sk-container-id-13 div.sk-text-repr-fallback {display: none;}</style><div id=\"sk-container-id-13\" class=\"sk-top-container\"><div class=\"sk-text-repr-fallback\"><pre>MultinomialNB()</pre><b>In a Jupyter environment, please rerun this cell to show the HTML representation or trust the notebook. <br />On GitHub, the HTML representation is unable to render, please try loading this page with nbviewer.org.</b></div><div class=\"sk-container\" hidden><div class=\"sk-item\"><div class=\"sk-estimator sk-toggleable\"><input class=\"sk-toggleable__control sk-hidden--visually\" id=\"sk-estimator-id-17\" type=\"checkbox\" checked><label for=\"sk-estimator-id-17\" class=\"sk-toggleable__label sk-toggleable__label-arrow\">MultinomialNB</label><div class=\"sk-toggleable__content\"><pre>MultinomialNB()</pre></div></div></div></div></div>"
            ]
          },
          "metadata": {},
          "execution_count": 165
        }
      ]
    },
    {
      "cell_type": "code",
      "source": [
        "nb_p=nb.predict(x_test)"
      ],
      "metadata": {
        "id": "G4yEkaHgPXX0"
      },
      "id": "G4yEkaHgPXX0",
      "execution_count": 166,
      "outputs": []
    },
    {
      "cell_type": "code",
      "source": [
        "nb_cf=confusion_matrix(nb_p,y_test)"
      ],
      "metadata": {
        "id": "c1sqG92LP-ST"
      },
      "id": "c1sqG92LP-ST",
      "execution_count": 167,
      "outputs": []
    },
    {
      "cell_type": "code",
      "source": [
        "nb_acc=nb_cf.diagonal().sum()/nb_cf.sum()*100\n",
        "nb_acc"
      ],
      "metadata": {
        "colab": {
          "base_uri": "https://localhost:8080/"
        },
        "id": "ZkGE3DH5P-Vc",
        "outputId": "26d85f64-15bd-4608-d016-bf980dc97ed5"
      },
      "id": "ZkGE3DH5P-Vc",
      "execution_count": 168,
      "outputs": [
        {
          "output_type": "execute_result",
          "data": {
            "text/plain": [
              "80.8390022675737"
            ]
          },
          "metadata": {},
          "execution_count": 168
        }
      ]
    },
    {
      "cell_type": "code",
      "source": [
        "print(classification_report(nb_p,y_test))"
      ],
      "metadata": {
        "colab": {
          "base_uri": "https://localhost:8080/"
        },
        "id": "0wNRx-zGPXa7",
        "outputId": "28707bf4-d249-4f3f-8046-1832af04e749"
      },
      "id": "0wNRx-zGPXa7",
      "execution_count": 169,
      "outputs": [
        {
          "output_type": "stream",
          "name": "stdout",
          "text": [
            "              precision    recall  f1-score   support\n",
            "\n",
            "           0       0.93      0.86      0.89       809\n",
            "           1       0.14      0.26      0.18        73\n",
            "\n",
            "    accuracy                           0.81       882\n",
            "   macro avg       0.53      0.56      0.54       882\n",
            "weighted avg       0.86      0.81      0.83       882\n",
            "\n"
          ]
        }
      ]
    },
    {
      "cell_type": "markdown",
      "source": [
        "### 7.SVM"
      ],
      "metadata": {
        "id": "VxyMF78kO2PC"
      },
      "id": "VxyMF78kO2PC"
    },
    {
      "cell_type": "code",
      "source": [
        "from sklearn.svm import SVC\n",
        "svc=SVC()"
      ],
      "metadata": {
        "id": "c6Ve9_GRPYEi"
      },
      "id": "c6Ve9_GRPYEi",
      "execution_count": 170,
      "outputs": []
    },
    {
      "cell_type": "code",
      "source": [
        "svc.fit(x_train,y_train)"
      ],
      "metadata": {
        "colab": {
          "base_uri": "https://localhost:8080/",
          "height": 75
        },
        "id": "yqDzpTX_QaNJ",
        "outputId": "cbfaa2c2-0461-46bb-f8fd-696283faadce"
      },
      "execution_count": 171,
      "outputs": [
        {
          "output_type": "execute_result",
          "data": {
            "text/plain": [
              "SVC()"
            ],
            "text/html": [
              "<style>#sk-container-id-14 {color: black;background-color: white;}#sk-container-id-14 pre{padding: 0;}#sk-container-id-14 div.sk-toggleable {background-color: white;}#sk-container-id-14 label.sk-toggleable__label {cursor: pointer;display: block;width: 100%;margin-bottom: 0;padding: 0.3em;box-sizing: border-box;text-align: center;}#sk-container-id-14 label.sk-toggleable__label-arrow:before {content: \"▸\";float: left;margin-right: 0.25em;color: #696969;}#sk-container-id-14 label.sk-toggleable__label-arrow:hover:before {color: black;}#sk-container-id-14 div.sk-estimator:hover label.sk-toggleable__label-arrow:before {color: black;}#sk-container-id-14 div.sk-toggleable__content {max-height: 0;max-width: 0;overflow: hidden;text-align: left;background-color: #f0f8ff;}#sk-container-id-14 div.sk-toggleable__content pre {margin: 0.2em;color: black;border-radius: 0.25em;background-color: #f0f8ff;}#sk-container-id-14 input.sk-toggleable__control:checked~div.sk-toggleable__content {max-height: 200px;max-width: 100%;overflow: auto;}#sk-container-id-14 input.sk-toggleable__control:checked~label.sk-toggleable__label-arrow:before {content: \"▾\";}#sk-container-id-14 div.sk-estimator input.sk-toggleable__control:checked~label.sk-toggleable__label {background-color: #d4ebff;}#sk-container-id-14 div.sk-label input.sk-toggleable__control:checked~label.sk-toggleable__label {background-color: #d4ebff;}#sk-container-id-14 input.sk-hidden--visually {border: 0;clip: rect(1px 1px 1px 1px);clip: rect(1px, 1px, 1px, 1px);height: 1px;margin: -1px;overflow: hidden;padding: 0;position: absolute;width: 1px;}#sk-container-id-14 div.sk-estimator {font-family: monospace;background-color: #f0f8ff;border: 1px dotted black;border-radius: 0.25em;box-sizing: border-box;margin-bottom: 0.5em;}#sk-container-id-14 div.sk-estimator:hover {background-color: #d4ebff;}#sk-container-id-14 div.sk-parallel-item::after {content: \"\";width: 100%;border-bottom: 1px solid gray;flex-grow: 1;}#sk-container-id-14 div.sk-label:hover label.sk-toggleable__label {background-color: #d4ebff;}#sk-container-id-14 div.sk-serial::before {content: \"\";position: absolute;border-left: 1px solid gray;box-sizing: border-box;top: 0;bottom: 0;left: 50%;z-index: 0;}#sk-container-id-14 div.sk-serial {display: flex;flex-direction: column;align-items: center;background-color: white;padding-right: 0.2em;padding-left: 0.2em;position: relative;}#sk-container-id-14 div.sk-item {position: relative;z-index: 1;}#sk-container-id-14 div.sk-parallel {display: flex;align-items: stretch;justify-content: center;background-color: white;position: relative;}#sk-container-id-14 div.sk-item::before, #sk-container-id-14 div.sk-parallel-item::before {content: \"\";position: absolute;border-left: 1px solid gray;box-sizing: border-box;top: 0;bottom: 0;left: 50%;z-index: -1;}#sk-container-id-14 div.sk-parallel-item {display: flex;flex-direction: column;z-index: 1;position: relative;background-color: white;}#sk-container-id-14 div.sk-parallel-item:first-child::after {align-self: flex-end;width: 50%;}#sk-container-id-14 div.sk-parallel-item:last-child::after {align-self: flex-start;width: 50%;}#sk-container-id-14 div.sk-parallel-item:only-child::after {width: 0;}#sk-container-id-14 div.sk-dashed-wrapped {border: 1px dashed gray;margin: 0 0.4em 0.5em 0.4em;box-sizing: border-box;padding-bottom: 0.4em;background-color: white;}#sk-container-id-14 div.sk-label label {font-family: monospace;font-weight: bold;display: inline-block;line-height: 1.2em;}#sk-container-id-14 div.sk-label-container {text-align: center;}#sk-container-id-14 div.sk-container {/* jupyter's `normalize.less` sets `[hidden] { display: none; }` but bootstrap.min.css set `[hidden] { display: none !important; }` so we also need the `!important` here to be able to override the default hidden behavior on the sphinx rendered scikit-learn.org. See: https://github.com/scikit-learn/scikit-learn/issues/21755 */display: inline-block !important;position: relative;}#sk-container-id-14 div.sk-text-repr-fallback {display: none;}</style><div id=\"sk-container-id-14\" class=\"sk-top-container\"><div class=\"sk-text-repr-fallback\"><pre>SVC()</pre><b>In a Jupyter environment, please rerun this cell to show the HTML representation or trust the notebook. <br />On GitHub, the HTML representation is unable to render, please try loading this page with nbviewer.org.</b></div><div class=\"sk-container\" hidden><div class=\"sk-item\"><div class=\"sk-estimator sk-toggleable\"><input class=\"sk-toggleable__control sk-hidden--visually\" id=\"sk-estimator-id-18\" type=\"checkbox\" checked><label for=\"sk-estimator-id-18\" class=\"sk-toggleable__label sk-toggleable__label-arrow\">SVC</label><div class=\"sk-toggleable__content\"><pre>SVC()</pre></div></div></div></div></div>"
            ]
          },
          "metadata": {},
          "execution_count": 171
        }
      ],
      "id": "yqDzpTX_QaNJ"
    },
    {
      "cell_type": "code",
      "source": [
        "svc_p=svc.predict(x_test)"
      ],
      "metadata": {
        "id": "tCBZYlFQQaNK"
      },
      "execution_count": 172,
      "outputs": [],
      "id": "tCBZYlFQQaNK"
    },
    {
      "cell_type": "code",
      "source": [
        "svc_cf=confusion_matrix(svc_p,y_test)"
      ],
      "metadata": {
        "id": "8ZUrlXfzQaNL"
      },
      "execution_count": 173,
      "outputs": [],
      "id": "8ZUrlXfzQaNL"
    },
    {
      "cell_type": "code",
      "source": [
        "svc_acc=svc_cf.diagonal().sum()/svc_cf.sum()*100\n",
        "svc_acc"
      ],
      "metadata": {
        "colab": {
          "base_uri": "https://localhost:8080/"
        },
        "id": "6zeaaykHQaNL",
        "outputId": "81b63836-58a0-457c-d2f2-2a345b92500f"
      },
      "execution_count": 174,
      "outputs": [
        {
          "output_type": "execute_result",
          "data": {
            "text/plain": [
              "84.80725623582767"
            ]
          },
          "metadata": {},
          "execution_count": 174
        }
      ],
      "id": "6zeaaykHQaNL"
    },
    {
      "cell_type": "code",
      "source": [
        "print(classification_report(svc_p,y_test))"
      ],
      "metadata": {
        "colab": {
          "base_uri": "https://localhost:8080/"
        },
        "id": "ZYAgpnfEQaNL",
        "outputId": "f718704f-49c6-438c-cb6b-e02b7e6aa8e9"
      },
      "execution_count": 175,
      "outputs": [
        {
          "output_type": "stream",
          "name": "stdout",
          "text": [
            "              precision    recall  f1-score   support\n",
            "\n",
            "           0       1.00      0.85      0.92       882\n",
            "           1       0.00      0.00      0.00         0\n",
            "\n",
            "    accuracy                           0.85       882\n",
            "   macro avg       0.50      0.42      0.46       882\n",
            "weighted avg       1.00      0.85      0.92       882\n",
            "\n"
          ]
        }
      ],
      "id": "ZYAgpnfEQaNL"
    },
    {
      "cell_type": "markdown",
      "source": [
        "### 8.XGBoost"
      ],
      "metadata": {
        "id": "dJrjVb7rO-mZ"
      },
      "id": "dJrjVb7rO-mZ"
    },
    {
      "cell_type": "code",
      "source": [
        "from xgboost import XGBRegressor\n",
        "xgb=XGBRegressor()"
      ],
      "metadata": {
        "id": "p7FwkQB3OrmG"
      },
      "id": "p7FwkQB3OrmG",
      "execution_count": 176,
      "outputs": []
    },
    {
      "cell_type": "code",
      "source": [
        "xgb.fit(x_train,y_train)"
      ],
      "metadata": {
        "colab": {
          "base_uri": "https://localhost:8080/",
          "height": 248
        },
        "id": "PrX0Xty5QdNZ",
        "outputId": "32523789-1cb0-40d3-c3e3-35d7c98094b5"
      },
      "execution_count": 177,
      "outputs": [
        {
          "output_type": "execute_result",
          "data": {
            "text/plain": [
              "XGBRegressor(base_score=None, booster=None, callbacks=None,\n",
              "             colsample_bylevel=None, colsample_bynode=None,\n",
              "             colsample_bytree=None, early_stopping_rounds=None,\n",
              "             enable_categorical=False, eval_metric=None, feature_types=None,\n",
              "             gamma=None, gpu_id=None, grow_policy=None, importance_type=None,\n",
              "             interaction_constraints=None, learning_rate=None, max_bin=None,\n",
              "             max_cat_threshold=None, max_cat_to_onehot=None,\n",
              "             max_delta_step=None, max_depth=None, max_leaves=None,\n",
              "             min_child_weight=None, missing=nan, monotone_constraints=None,\n",
              "             n_estimators=100, n_jobs=None, num_parallel_tree=None,\n",
              "             predictor=None, random_state=None, ...)"
            ],
            "text/html": [
              "<style>#sk-container-id-15 {color: black;background-color: white;}#sk-container-id-15 pre{padding: 0;}#sk-container-id-15 div.sk-toggleable {background-color: white;}#sk-container-id-15 label.sk-toggleable__label {cursor: pointer;display: block;width: 100%;margin-bottom: 0;padding: 0.3em;box-sizing: border-box;text-align: center;}#sk-container-id-15 label.sk-toggleable__label-arrow:before {content: \"▸\";float: left;margin-right: 0.25em;color: #696969;}#sk-container-id-15 label.sk-toggleable__label-arrow:hover:before {color: black;}#sk-container-id-15 div.sk-estimator:hover label.sk-toggleable__label-arrow:before {color: black;}#sk-container-id-15 div.sk-toggleable__content {max-height: 0;max-width: 0;overflow: hidden;text-align: left;background-color: #f0f8ff;}#sk-container-id-15 div.sk-toggleable__content pre {margin: 0.2em;color: black;border-radius: 0.25em;background-color: #f0f8ff;}#sk-container-id-15 input.sk-toggleable__control:checked~div.sk-toggleable__content {max-height: 200px;max-width: 100%;overflow: auto;}#sk-container-id-15 input.sk-toggleable__control:checked~label.sk-toggleable__label-arrow:before {content: \"▾\";}#sk-container-id-15 div.sk-estimator input.sk-toggleable__control:checked~label.sk-toggleable__label {background-color: #d4ebff;}#sk-container-id-15 div.sk-label input.sk-toggleable__control:checked~label.sk-toggleable__label {background-color: #d4ebff;}#sk-container-id-15 input.sk-hidden--visually {border: 0;clip: rect(1px 1px 1px 1px);clip: rect(1px, 1px, 1px, 1px);height: 1px;margin: -1px;overflow: hidden;padding: 0;position: absolute;width: 1px;}#sk-container-id-15 div.sk-estimator {font-family: monospace;background-color: #f0f8ff;border: 1px dotted black;border-radius: 0.25em;box-sizing: border-box;margin-bottom: 0.5em;}#sk-container-id-15 div.sk-estimator:hover {background-color: #d4ebff;}#sk-container-id-15 div.sk-parallel-item::after {content: \"\";width: 100%;border-bottom: 1px solid gray;flex-grow: 1;}#sk-container-id-15 div.sk-label:hover label.sk-toggleable__label {background-color: #d4ebff;}#sk-container-id-15 div.sk-serial::before {content: \"\";position: absolute;border-left: 1px solid gray;box-sizing: border-box;top: 0;bottom: 0;left: 50%;z-index: 0;}#sk-container-id-15 div.sk-serial {display: flex;flex-direction: column;align-items: center;background-color: white;padding-right: 0.2em;padding-left: 0.2em;position: relative;}#sk-container-id-15 div.sk-item {position: relative;z-index: 1;}#sk-container-id-15 div.sk-parallel {display: flex;align-items: stretch;justify-content: center;background-color: white;position: relative;}#sk-container-id-15 div.sk-item::before, #sk-container-id-15 div.sk-parallel-item::before {content: \"\";position: absolute;border-left: 1px solid gray;box-sizing: border-box;top: 0;bottom: 0;left: 50%;z-index: -1;}#sk-container-id-15 div.sk-parallel-item {display: flex;flex-direction: column;z-index: 1;position: relative;background-color: white;}#sk-container-id-15 div.sk-parallel-item:first-child::after {align-self: flex-end;width: 50%;}#sk-container-id-15 div.sk-parallel-item:last-child::after {align-self: flex-start;width: 50%;}#sk-container-id-15 div.sk-parallel-item:only-child::after {width: 0;}#sk-container-id-15 div.sk-dashed-wrapped {border: 1px dashed gray;margin: 0 0.4em 0.5em 0.4em;box-sizing: border-box;padding-bottom: 0.4em;background-color: white;}#sk-container-id-15 div.sk-label label {font-family: monospace;font-weight: bold;display: inline-block;line-height: 1.2em;}#sk-container-id-15 div.sk-label-container {text-align: center;}#sk-container-id-15 div.sk-container {/* jupyter's `normalize.less` sets `[hidden] { display: none; }` but bootstrap.min.css set `[hidden] { display: none !important; }` so we also need the `!important` here to be able to override the default hidden behavior on the sphinx rendered scikit-learn.org. See: https://github.com/scikit-learn/scikit-learn/issues/21755 */display: inline-block !important;position: relative;}#sk-container-id-15 div.sk-text-repr-fallback {display: none;}</style><div id=\"sk-container-id-15\" class=\"sk-top-container\"><div class=\"sk-text-repr-fallback\"><pre>XGBRegressor(base_score=None, booster=None, callbacks=None,\n",
              "             colsample_bylevel=None, colsample_bynode=None,\n",
              "             colsample_bytree=None, early_stopping_rounds=None,\n",
              "             enable_categorical=False, eval_metric=None, feature_types=None,\n",
              "             gamma=None, gpu_id=None, grow_policy=None, importance_type=None,\n",
              "             interaction_constraints=None, learning_rate=None, max_bin=None,\n",
              "             max_cat_threshold=None, max_cat_to_onehot=None,\n",
              "             max_delta_step=None, max_depth=None, max_leaves=None,\n",
              "             min_child_weight=None, missing=nan, monotone_constraints=None,\n",
              "             n_estimators=100, n_jobs=None, num_parallel_tree=None,\n",
              "             predictor=None, random_state=None, ...)</pre><b>In a Jupyter environment, please rerun this cell to show the HTML representation or trust the notebook. <br />On GitHub, the HTML representation is unable to render, please try loading this page with nbviewer.org.</b></div><div class=\"sk-container\" hidden><div class=\"sk-item\"><div class=\"sk-estimator sk-toggleable\"><input class=\"sk-toggleable__control sk-hidden--visually\" id=\"sk-estimator-id-19\" type=\"checkbox\" checked><label for=\"sk-estimator-id-19\" class=\"sk-toggleable__label sk-toggleable__label-arrow\">XGBRegressor</label><div class=\"sk-toggleable__content\"><pre>XGBRegressor(base_score=None, booster=None, callbacks=None,\n",
              "             colsample_bylevel=None, colsample_bynode=None,\n",
              "             colsample_bytree=None, early_stopping_rounds=None,\n",
              "             enable_categorical=False, eval_metric=None, feature_types=None,\n",
              "             gamma=None, gpu_id=None, grow_policy=None, importance_type=None,\n",
              "             interaction_constraints=None, learning_rate=None, max_bin=None,\n",
              "             max_cat_threshold=None, max_cat_to_onehot=None,\n",
              "             max_delta_step=None, max_depth=None, max_leaves=None,\n",
              "             min_child_weight=None, missing=nan, monotone_constraints=None,\n",
              "             n_estimators=100, n_jobs=None, num_parallel_tree=None,\n",
              "             predictor=None, random_state=None, ...)</pre></div></div></div></div></div>"
            ]
          },
          "metadata": {},
          "execution_count": 177
        }
      ],
      "id": "PrX0Xty5QdNZ"
    },
    {
      "cell_type": "code",
      "source": [
        "xgb_p=nb.predict(x_test)"
      ],
      "metadata": {
        "id": "JnjH5syaQdNa"
      },
      "execution_count": 178,
      "outputs": [],
      "id": "JnjH5syaQdNa"
    },
    {
      "cell_type": "code",
      "source": [
        "xgb_cf=confusion_matrix(xgb_p,y_test)"
      ],
      "metadata": {
        "id": "ZWfuXcIiQdNa"
      },
      "execution_count": 179,
      "outputs": [],
      "id": "ZWfuXcIiQdNa"
    },
    {
      "cell_type": "code",
      "source": [
        "xgb_acc=xgb_cf.diagonal().sum()/xgb_cf.sum()*100\n",
        "xgb_acc"
      ],
      "metadata": {
        "colab": {
          "base_uri": "https://localhost:8080/"
        },
        "id": "QMBi7yU6QdNa",
        "outputId": "c8e76dc1-e681-4d79-fdde-a14aea5f0a35"
      },
      "execution_count": 180,
      "outputs": [
        {
          "output_type": "execute_result",
          "data": {
            "text/plain": [
              "80.8390022675737"
            ]
          },
          "metadata": {},
          "execution_count": 180
        }
      ],
      "id": "QMBi7yU6QdNa"
    },
    {
      "cell_type": "code",
      "source": [
        "print(classification_report(xgb_p,y_test))"
      ],
      "metadata": {
        "colab": {
          "base_uri": "https://localhost:8080/"
        },
        "id": "lK9FE_3FQdNb",
        "outputId": "b17ed1df-bba5-47aa-f5ff-e4ba2d3fd1f7"
      },
      "execution_count": 181,
      "outputs": [
        {
          "output_type": "stream",
          "name": "stdout",
          "text": [
            "              precision    recall  f1-score   support\n",
            "\n",
            "           0       0.93      0.86      0.89       809\n",
            "           1       0.14      0.26      0.18        73\n",
            "\n",
            "    accuracy                           0.81       882\n",
            "   macro avg       0.53      0.56      0.54       882\n",
            "weighted avg       0.86      0.81      0.83       882\n",
            "\n"
          ]
        }
      ],
      "id": "lK9FE_3FQdNb"
    },
    {
      "cell_type": "code",
      "source": [
        "from sklearn.metrics import roc_auc_score\n",
        "from sklearn.metrics import roc_curve"
      ],
      "metadata": {
        "id": "dcvl8o-JgMEM"
      },
      "execution_count": 182,
      "outputs": [],
      "id": "dcvl8o-JgMEM"
    },
    {
      "cell_type": "code",
      "source": [
        "roc=roc_auc_score(rf_p,y_test)\n",
        "roc"
      ],
      "metadata": {
        "colab": {
          "base_uri": "https://localhost:8080/"
        },
        "id": "HdtApGWogMEN",
        "outputId": "6b87e1de-f9b0-411e-bed2-10a7938b111c"
      },
      "execution_count": 183,
      "outputs": [
        {
          "output_type": "execute_result",
          "data": {
            "text/plain": [
              "0.9868006225556708"
            ]
          },
          "metadata": {},
          "execution_count": 183
        }
      ],
      "id": "HdtApGWogMEN"
    },
    {
      "cell_type": "code",
      "source": [
        "rf_prob=rf.predict_proba(x_test)"
      ],
      "metadata": {
        "id": "hnEYMNfbgMEO"
      },
      "execution_count": 184,
      "outputs": [],
      "id": "hnEYMNfbgMEO"
    },
    {
      "cell_type": "code",
      "source": [
        "df=pd.DataFrame(rf_prob)"
      ],
      "metadata": {
        "id": "0qrmJLE3gMEO"
      },
      "execution_count": 185,
      "outputs": [],
      "id": "0qrmJLE3gMEO"
    },
    {
      "cell_type": "code",
      "source": [
        "fpr,tpr,threshhold=roc_curve(y_test,df.iloc[:,1])"
      ],
      "metadata": {
        "id": "4ikThMKDgMEO"
      },
      "execution_count": 186,
      "outputs": [],
      "id": "4ikThMKDgMEO"
    },
    {
      "cell_type": "code",
      "source": [
        "plt.plot(fpr,tpr)"
      ],
      "metadata": {
        "colab": {
          "base_uri": "https://localhost:8080/",
          "height": 448
        },
        "id": "0xFnuFF0gMEP",
        "outputId": "8dd4bbe4-d6b9-49a1-cb23-e99c2e467658"
      },
      "execution_count": 187,
      "outputs": [
        {
          "output_type": "execute_result",
          "data": {
            "text/plain": [
              "[<matplotlib.lines.Line2D at 0x7fea81c79ca0>]"
            ]
          },
          "metadata": {},
          "execution_count": 187
        },
        {
          "output_type": "display_data",
          "data": {
            "text/plain": [
              "<Figure size 640x480 with 1 Axes>"
            ],
            "image/png": "[encoded data removed]"
          },
          "metadata": {}
        }
      ],
      "id": "0xFnuFF0gMEP"
    }
  ],
  "metadata": {
    "kernelspec": {
      "display_name": "Python 3 (ipykernel)",
      "language": "python",
      "name": "python3"
    },
    "language_info": {
      "codemirror_mode": {
        "name": "ipython",
        "version": 3
      },
      "file_extension": ".py",
      "mimetype": "text/x-python",
      "name": "python",
      "nbconvert_exporter": "python",
      "pygments_lexer": "ipython3",
      "version": "3.9.13"
    },
    "colab": {
      "provenance": [],
      "collapsed_sections": [
        "6df3f065"
      ]
    }
  },
  "nbformat": 4,
  "nbformat_minor": 5
}